{
 "cells": [
  {
   "cell_type": "markdown",
   "metadata": {},
   "source": [
    "The goal of this notebook is to clean the Enron Email data set to perform email text summarization: Given a single person’s folder and a time range give a summary for each email. \n",
    "\n",
    "I plan to use a extractive summarization approach where key sentences are taken from the input email to form the summary. \n",
    "\n",
    "My approach to cleaning the data involves the following steps:\n",
    "\n",
    "1. I have unpacked the maildir directory from the Enron data set. I will be focusing on each person’s inbox, which means all other folders will be ignored for now.\n",
    "\n",
    "2. I will process each inbox email to add the following information to a Pandas data frame:\n",
    "\n",
    "Employee: The username of the email owner. \n",
    "Body: Cleaned body of the email. \n",
    "Subject: The title of the email. \n",
    "From: The original sender of the email\n",
    "Message-ID: Used to remove duplicate emails, as each email has a unique ID. \n",
    "Chain: The parsed out email chain from a email that was forwarded. \n",
    "Signature: The extracted signature from the body.\n",
    "Date: Time the email was sent. \n",
    "\n",
    "3. During the email processing the full body of the email will be cleaned using a combination of delimiter splitting, and the talon email cleaning library to extract signatures. \n",
    "\n",
    "4. Null values will be set or cleaned up. \n",
    "\n",
    "5. Then the Date column will be set to Datetime. "
   ]
  },
  {
   "cell_type": "code",
   "execution_count": 1,
   "metadata": {},
   "outputs": [],
   "source": [
    "import mailparser\n",
    "import sys\n",
    "from os import listdir\n",
    "from os.path import isfile, join\n",
    "import pandas as pd\n",
    "import email\n",
    "import numpy as np\n",
    "from talon.signature.bruteforce import extract_signature"
   ]
  },
  {
   "cell_type": "markdown",
   "metadata": {},
   "source": [
    "First define the function that will clean up the email body. The following splits the chain emails from the actual body of the email. It appears that \"----Original Message-----\" indicates a forwarded part of an email so this is one of the delimiters. \n",
    "\n",
    "There are also emails that don't seem to necessarily be part of a chain, but would be referencing another email, which means more email metadata would be found in the body. If this meta data is found first, then the email will be split there instead. The goal is to cut out the largest amount of email forwarding and related metadata to extract only the written message by the original sender. \n",
    "\n",
    "Lastly Talon will be used to extract the signatures. "
   ]
  },
  {
   "cell_type": "code",
   "execution_count": 2,
   "metadata": {},
   "outputs": [],
   "source": [
    "def clean_body(mail_body):\n",
    "    delimiters = [\"-----Original Message-----\",\"To:\",\"From\"]\n",
    "    \n",
    "    #Trying to split string by biggest delimiter. \n",
    "    old_len = sys.maxsize\n",
    "    \n",
    "    for delimiter in delimiters:\n",
    "        split_body = mail_body.split(delimiter,1)\n",
    "        new_len = len(split_body[0])\n",
    "        if new_len <= old_len:\n",
    "            old_len = new_len\n",
    "            final_split = split_body\n",
    "            \n",
    "    #Then pull chain message\n",
    "    if (len(final_split) == 1):\n",
    "        mail_chain = None\n",
    "    else:\n",
    "        mail_chain = final_split[1] \n",
    "    \n",
    "    #The following uses Talon to try to get a clean body, and seperate out the rest of the email. \n",
    "    clean_body, sig = extract_signature(final_split[0])\n",
    "    \n",
    "    return {'Body': clean_body, 'Chain' : mail_chain, 'Signature': sig}"
   ]
  },
  {
   "cell_type": "markdown",
   "metadata": {},
   "source": [
    "The following function processes the email and appends the parsed pieces into a pandas dataframe. We need to start with a list, that will represent each row of the dataframe. Each item in the row is a dict of parsed email values.\n"
   ]
  },
  {
   "cell_type": "code",
   "execution_count": 3,
   "metadata": {},
   "outputs": [],
   "source": [
    "enron_email_list = []\n",
    "def process_email(email_path, employee, folder, email_name):\n",
    "    mail = mailparser.parse_from_file(email_path)\n",
    "    \n",
    "    full_body = email.message_from_string(mail.body)\n",
    "    mail_body = full_body.get_payload()    \n",
    "    split_body = clean_body(mail_body)\n",
    "    headers = mail.headers\n",
    "    #Reformating date to be more pandas readable\n",
    "    date_time = email.utils.format_datetime(email.utils.parsedate_to_datetime(headers.get('Date')))\n",
    "    \n",
    "    email_dict = {\n",
    "                \"Employee\" : employee,\n",
    "                \"Email Folder\": folder,\n",
    "                \"Message-ID\": headers.get('Message-ID'),\n",
    "                \"Date\" : date_time,\n",
    "                \"From\" : headers.get('From'),\n",
    "                \"Subject\": headers.get('Subject'),\n",
    "                \"Body\" : split_body['Body'],\n",
    "                \"Chain\" : split_body['Chain'],\n",
    "                \"Signature\": split_body['Signature'],\n",
    "                \"Full_Email_Path\" : email_path #for debug purposes. \n",
    "    }\n",
    "    \n",
    "    #Append row to dataframe. \n",
    "    enron_email_list.append(email_dict)"
   ]
  },
  {
   "cell_type": "markdown",
   "metadata": {},
   "source": [
    "Now go through each person's inbox then load up each email to be cleaned and added to the dataframe. "
   ]
  },
  {
   "cell_type": "code",
   "execution_count": 4,
   "metadata": {},
   "outputs": [
    {
     "data": {
      "text/html": [
       "<div>\n",
       "<style scoped>\n",
       "    .dataframe tbody tr th:only-of-type {\n",
       "        vertical-align: middle;\n",
       "    }\n",
       "\n",
       "    .dataframe tbody tr th {\n",
       "        vertical-align: top;\n",
       "    }\n",
       "\n",
       "    .dataframe thead th {\n",
       "        text-align: right;\n",
       "    }\n",
       "</style>\n",
       "<table border=\"1\" class=\"dataframe\">\n",
       "  <thead>\n",
       "    <tr style=\"text-align: right;\">\n",
       "      <th></th>\n",
       "      <th>Body</th>\n",
       "      <th>Chain</th>\n",
       "      <th>Date</th>\n",
       "      <th>Email Folder</th>\n",
       "      <th>Employee</th>\n",
       "      <th>From</th>\n",
       "      <th>Full_Email_Path</th>\n",
       "      <th>Message-ID</th>\n",
       "      <th>Signature</th>\n",
       "      <th>Subject</th>\n",
       "    </tr>\n",
       "  </thead>\n",
       "  <tbody>\n",
       "    <tr>\n",
       "      <th>0</th>\n",
       "      <td>Simon, I was unable to open the attached docum...</td>\n",
       "      <td>:\\tSimone La rose/ENRON@enronXgate on 05/16/20...</td>\n",
       "      <td>Wed, 16 May 2001 21:18:00 -0700</td>\n",
       "      <td>sent_items</td>\n",
       "      <td>skilling-j</td>\n",
       "      <td>jeff.skilling@enron.com</td>\n",
       "      <td>../data/maildir/skilling-j/sent_items/1.</td>\n",
       "      <td>&lt;25701656.1075840162944.JavaMail.evans@thyme&gt;</td>\n",
       "      <td>Thanks,\\nJoannie</td>\n",
       "      <td>Re: EnronOnline Executive Summary for May 15, ...</td>\n",
       "    </tr>\n",
       "    <tr>\n",
       "      <th>1</th>\n",
       "      <td>Erica,\\n\\nDue to the fact that Jeff is unable ...</td>\n",
       "      <td>\\t\"'jeff.skilling@enron.com'\" &lt;jeff.skilling@e...</td>\n",
       "      <td>Mon, 14 May 2001 15:20:00 -0700</td>\n",
       "      <td>sent_items</td>\n",
       "      <td>skilling-j</td>\n",
       "      <td>jeff.skilling@enron.com</td>\n",
       "      <td>../data/maildir/skilling-j/sent_items/16.</td>\n",
       "      <td>&lt;8541273.1075840163402.JavaMail.evans@thyme&gt;</td>\n",
       "      <td>None</td>\n",
       "      <td>Re: Telephone Call with Jerry Murdock</td>\n",
       "    </tr>\n",
       "    <tr>\n",
       "      <th>2</th>\n",
       "      <td>PLEASE  PLAN  TO  ATTEND\\n\\n\"NEW  BUSINESS  CR...</td>\n",
       "      <td>None</td>\n",
       "      <td>Wed, 01 Aug 2001 12:25:58 -0700</td>\n",
       "      <td>sent_items</td>\n",
       "      <td>skilling-j</td>\n",
       "      <td>jeff.skilling@enron.com</td>\n",
       "      <td>../data/maildir/skilling-j/sent_items/110.</td>\n",
       "      <td>&lt;20911721.1075852686924.JavaMail.evans@thyme&gt;</td>\n",
       "      <td>None</td>\n",
       "      <td>Please Plan to Attend</td>\n",
       "    </tr>\n",
       "    <tr>\n",
       "      <th>3</th>\n",
       "      <td>The Stanford Business School, in collaboration...</td>\n",
       "      <td>None</td>\n",
       "      <td>Thu, 03 May 2001 18:30:00 -0700</td>\n",
       "      <td>sent_items</td>\n",
       "      <td>skilling-j</td>\n",
       "      <td>jeff.skilling@enron.com</td>\n",
       "      <td>../data/maildir/skilling-j/sent_items/28.</td>\n",
       "      <td>&lt;20013668.1075840163679.JavaMail.evans@thyme&gt;</td>\n",
       "      <td>None</td>\n",
       "      <td>Stanford/McKinsey GLOBE Survey</td>\n",
       "    </tr>\n",
       "    <tr>\n",
       "      <th>4</th>\n",
       "      <td>test</td>\n",
       "      <td>None</td>\n",
       "      <td>Tue, 15 May 2001 14:09:00 -0700</td>\n",
       "      <td>sent_items</td>\n",
       "      <td>skilling-j</td>\n",
       "      <td>jeff.skilling@enron.com</td>\n",
       "      <td>../data/maildir/skilling-j/sent_items/5.</td>\n",
       "      <td>&lt;30255134.1075840163074.JavaMail.evans@thyme&gt;</td>\n",
       "      <td>None</td>\n",
       "      <td>test</td>\n",
       "    </tr>\n",
       "  </tbody>\n",
       "</table>\n",
       "</div>"
      ],
      "text/plain": [
       "                                                Body  \\\n",
       "0  Simon, I was unable to open the attached docum...   \n",
       "1  Erica,\\n\\nDue to the fact that Jeff is unable ...   \n",
       "2  PLEASE  PLAN  TO  ATTEND\\n\\n\"NEW  BUSINESS  CR...   \n",
       "3  The Stanford Business School, in collaboration...   \n",
       "4                                               test   \n",
       "\n",
       "                                               Chain  \\\n",
       "0  :\\tSimone La rose/ENRON@enronXgate on 05/16/20...   \n",
       "1  \\t\"'jeff.skilling@enron.com'\" <jeff.skilling@e...   \n",
       "2                                               None   \n",
       "3                                               None   \n",
       "4                                               None   \n",
       "\n",
       "                              Date Email Folder    Employee  \\\n",
       "0  Wed, 16 May 2001 21:18:00 -0700   sent_items  skilling-j   \n",
       "1  Mon, 14 May 2001 15:20:00 -0700   sent_items  skilling-j   \n",
       "2  Wed, 01 Aug 2001 12:25:58 -0700   sent_items  skilling-j   \n",
       "3  Thu, 03 May 2001 18:30:00 -0700   sent_items  skilling-j   \n",
       "4  Tue, 15 May 2001 14:09:00 -0700   sent_items  skilling-j   \n",
       "\n",
       "                      From                             Full_Email_Path  \\\n",
       "0  jeff.skilling@enron.com    ../data/maildir/skilling-j/sent_items/1.   \n",
       "1  jeff.skilling@enron.com   ../data/maildir/skilling-j/sent_items/16.   \n",
       "2  jeff.skilling@enron.com  ../data/maildir/skilling-j/sent_items/110.   \n",
       "3  jeff.skilling@enron.com   ../data/maildir/skilling-j/sent_items/28.   \n",
       "4  jeff.skilling@enron.com    ../data/maildir/skilling-j/sent_items/5.   \n",
       "\n",
       "                                      Message-ID         Signature  \\\n",
       "0  <25701656.1075840162944.JavaMail.evans@thyme>  Thanks,\\nJoannie   \n",
       "1   <8541273.1075840163402.JavaMail.evans@thyme>              None   \n",
       "2  <20911721.1075852686924.JavaMail.evans@thyme>              None   \n",
       "3  <20013668.1075840163679.JavaMail.evans@thyme>              None   \n",
       "4  <30255134.1075840163074.JavaMail.evans@thyme>              None   \n",
       "\n",
       "                                             Subject  \n",
       "0  Re: EnronOnline Executive Summary for May 15, ...  \n",
       "1              Re: Telephone Call with Jerry Murdock  \n",
       "2                              Please Plan to Attend  \n",
       "3                     Stanford/McKinsey GLOBE Survey  \n",
       "4                                               test  "
      ]
     },
     "execution_count": 4,
     "metadata": {},
     "output_type": "execute_result"
    }
   ],
   "source": [
    "mail_dir = '../data/maildir/'\n",
    "mailbox = \"skilling-j\" #testing\n",
    "#mailboxes = listdir(mail_dir)\n",
    "\n",
    "#for mailbox in mailboxes:\n",
    "inbox = listdir(mail_dir + mailbox)\n",
    "for folder in inbox:\n",
    "    path = mail_dir + mailbox + \"/\" + folder\n",
    "    emails = listdir(path)\n",
    "    for single_email in emails:\n",
    "        full_path = path + \"/\" + single_email\n",
    "        process_email(full_path, mailbox, folder, single_email)\n",
    "enron_email_list_df = pd.DataFrame(enron_email_list)\n",
    "enron_email_list_df.head()"
   ]
  },
  {
   "cell_type": "markdown",
   "metadata": {},
   "source": [
    "Need to convert date to pandas datetime. "
   ]
  },
  {
   "cell_type": "code",
   "execution_count": 5,
   "metadata": {},
   "outputs": [],
   "source": [
    "enron_email_list_df['Date'] = pd.to_datetime(enron_email_list_df.Date)"
   ]
  },
  {
   "cell_type": "code",
   "execution_count": 6,
   "metadata": {},
   "outputs": [
    {
     "data": {
      "text/plain": [
       "Body                       object\n",
       "Chain                      object\n",
       "Date               datetime64[ns]\n",
       "Email Folder               object\n",
       "Employee                   object\n",
       "From                       object\n",
       "Full_Email_Path            object\n",
       "Message-ID                 object\n",
       "Signature                  object\n",
       "Subject                    object\n",
       "dtype: object"
      ]
     },
     "execution_count": 6,
     "metadata": {},
     "output_type": "execute_result"
    }
   ],
   "source": [
    "enron_email_list_df.dtypes"
   ]
  },
  {
   "cell_type": "markdown",
   "metadata": {},
   "source": [
    "Describing the table shows that the Subject column has a large amount of blanks that should be set to null. All the other columns seem to make sense. "
   ]
  },
  {
   "cell_type": "code",
   "execution_count": 7,
   "metadata": {},
   "outputs": [
    {
     "data": {
      "text/html": [
       "<div>\n",
       "<style scoped>\n",
       "    .dataframe tbody tr th:only-of-type {\n",
       "        vertical-align: middle;\n",
       "    }\n",
       "\n",
       "    .dataframe tbody tr th {\n",
       "        vertical-align: top;\n",
       "    }\n",
       "\n",
       "    .dataframe thead th {\n",
       "        text-align: right;\n",
       "    }\n",
       "</style>\n",
       "<table border=\"1\" class=\"dataframe\">\n",
       "  <thead>\n",
       "    <tr style=\"text-align: right;\">\n",
       "      <th></th>\n",
       "      <th>Body</th>\n",
       "      <th>Chain</th>\n",
       "      <th>Date</th>\n",
       "      <th>Email Folder</th>\n",
       "      <th>Employee</th>\n",
       "      <th>From</th>\n",
       "      <th>Full_Email_Path</th>\n",
       "      <th>Message-ID</th>\n",
       "      <th>Signature</th>\n",
       "      <th>Subject</th>\n",
       "    </tr>\n",
       "  </thead>\n",
       "  <tbody>\n",
       "    <tr>\n",
       "      <th>count</th>\n",
       "      <td>4139</td>\n",
       "      <td>1349</td>\n",
       "      <td>4139</td>\n",
       "      <td>4139</td>\n",
       "      <td>4139</td>\n",
       "      <td>4139</td>\n",
       "      <td>4139</td>\n",
       "      <td>4139</td>\n",
       "      <td>643</td>\n",
       "      <td>4139</td>\n",
       "    </tr>\n",
       "    <tr>\n",
       "      <th>unique</th>\n",
       "      <td>2386</td>\n",
       "      <td>684</td>\n",
       "      <td>2506</td>\n",
       "      <td>12</td>\n",
       "      <td>1</td>\n",
       "      <td>919</td>\n",
       "      <td>4139</td>\n",
       "      <td>4139</td>\n",
       "      <td>243</td>\n",
       "      <td>1960</td>\n",
       "    </tr>\n",
       "    <tr>\n",
       "      <th>top</th>\n",
       "      <td>The report named: Violation/Notification Memo ...</td>\n",
       "      <td>All Enron Worldwide\\ncc:  \\nSubject: Successi...</td>\n",
       "      <td>2000-07-27 14:31:00</td>\n",
       "      <td>inbox</td>\n",
       "      <td>skilling-j</td>\n",
       "      <td>sherri.sera@enron.com</td>\n",
       "      <td>../data/maildir/skilling-j/discussion_threads/...</td>\n",
       "      <td>&lt;16975694.1075840155315.JavaMail.evans@thyme&gt;</td>\n",
       "      <td>Regards,\\nSherri Sera\\nAssistant to Jeff Skill...</td>\n",
       "      <td></td>\n",
       "    </tr>\n",
       "    <tr>\n",
       "      <th>freq</th>\n",
       "      <td>42</td>\n",
       "      <td>14</td>\n",
       "      <td>8</td>\n",
       "      <td>1252</td>\n",
       "      <td>4139</td>\n",
       "      <td>662</td>\n",
       "      <td>1</td>\n",
       "      <td>1</td>\n",
       "      <td>56</td>\n",
       "      <td>198</td>\n",
       "    </tr>\n",
       "    <tr>\n",
       "      <th>first</th>\n",
       "      <td>NaN</td>\n",
       "      <td>NaN</td>\n",
       "      <td>1980-01-01 00:00:00</td>\n",
       "      <td>NaN</td>\n",
       "      <td>NaN</td>\n",
       "      <td>NaN</td>\n",
       "      <td>NaN</td>\n",
       "      <td>NaN</td>\n",
       "      <td>NaN</td>\n",
       "      <td>NaN</td>\n",
       "    </tr>\n",
       "    <tr>\n",
       "      <th>last</th>\n",
       "      <td>NaN</td>\n",
       "      <td>NaN</td>\n",
       "      <td>2001-11-19 21:34:59</td>\n",
       "      <td>NaN</td>\n",
       "      <td>NaN</td>\n",
       "      <td>NaN</td>\n",
       "      <td>NaN</td>\n",
       "      <td>NaN</td>\n",
       "      <td>NaN</td>\n",
       "      <td>NaN</td>\n",
       "    </tr>\n",
       "  </tbody>\n",
       "</table>\n",
       "</div>"
      ],
      "text/plain": [
       "                                                     Body  \\\n",
       "count                                                4139   \n",
       "unique                                               2386   \n",
       "top     The report named: Violation/Notification Memo ...   \n",
       "freq                                                   42   \n",
       "first                                                 NaN   \n",
       "last                                                  NaN   \n",
       "\n",
       "                                                    Chain  \\\n",
       "count                                                1349   \n",
       "unique                                                684   \n",
       "top      All Enron Worldwide\\ncc:  \\nSubject: Successi...   \n",
       "freq                                                   14   \n",
       "first                                                 NaN   \n",
       "last                                                  NaN   \n",
       "\n",
       "                       Date Email Folder    Employee                   From  \\\n",
       "count                  4139         4139        4139                   4139   \n",
       "unique                 2506           12           1                    919   \n",
       "top     2000-07-27 14:31:00        inbox  skilling-j  sherri.sera@enron.com   \n",
       "freq                      8         1252        4139                    662   \n",
       "first   1980-01-01 00:00:00          NaN         NaN                    NaN   \n",
       "last    2001-11-19 21:34:59          NaN         NaN                    NaN   \n",
       "\n",
       "                                          Full_Email_Path  \\\n",
       "count                                                4139   \n",
       "unique                                               4139   \n",
       "top     ../data/maildir/skilling-j/discussion_threads/...   \n",
       "freq                                                    1   \n",
       "first                                                 NaN   \n",
       "last                                                  NaN   \n",
       "\n",
       "                                           Message-ID  \\\n",
       "count                                            4139   \n",
       "unique                                           4139   \n",
       "top     <16975694.1075840155315.JavaMail.evans@thyme>   \n",
       "freq                                                1   \n",
       "first                                             NaN   \n",
       "last                                              NaN   \n",
       "\n",
       "                                                Signature Subject  \n",
       "count                                                 643    4139  \n",
       "unique                                                243    1960  \n",
       "top     Regards,\\nSherri Sera\\nAssistant to Jeff Skill...          \n",
       "freq                                                   56     198  \n",
       "first                                                 NaN     NaN  \n",
       "last                                                  NaN     NaN  "
      ]
     },
     "execution_count": 7,
     "metadata": {},
     "output_type": "execute_result"
    }
   ],
   "source": [
    "enron_email_list_df.describe()"
   ]
  },
  {
   "cell_type": "markdown",
   "metadata": {},
   "source": [
    "All the blanks will be replaced with NaN to keep values consistent."
   ]
  },
  {
   "cell_type": "code",
   "execution_count": 8,
   "metadata": {},
   "outputs": [],
   "source": [
    "test = enron_email_list_df.replace('',np.NaN)"
   ]
  },
  {
   "cell_type": "code",
   "execution_count": 9,
   "metadata": {},
   "outputs": [
    {
     "name": "stdout",
     "output_type": "stream",
     "text": [
      "<class 'pandas.core.frame.DataFrame'>\n",
      "RangeIndex: 4139 entries, 0 to 4138\n",
      "Data columns (total 10 columns):\n",
      "Body               4115 non-null object\n",
      "Chain              1348 non-null object\n",
      "Date               4139 non-null datetime64[ns]\n",
      "Email Folder       4139 non-null object\n",
      "Employee           4139 non-null object\n",
      "From               4139 non-null object\n",
      "Full_Email_Path    4139 non-null object\n",
      "Message-ID         4139 non-null object\n",
      "Signature          643 non-null object\n",
      "Subject            3941 non-null object\n",
      "dtypes: datetime64[ns](1), object(9)\n",
      "memory usage: 323.4+ KB\n"
     ]
    }
   ],
   "source": [
    "test.info()"
   ]
  },
  {
   "cell_type": "markdown",
   "metadata": {},
   "source": [
    "Taking a look at some examples."
   ]
  },
  {
   "cell_type": "code",
   "execution_count": 15,
   "metadata": {},
   "outputs": [
    {
     "data": {
      "text/plain": [
       "Body               Simon, I was unable to open the attached docum...\n",
       "Chain              :\\tSimone La rose/ENRON@enronXgate on 05/16/20...\n",
       "Date                                             2001-05-17 04:18:00\n",
       "Email Folder                                              sent_items\n",
       "Employee                                                  skilling-j\n",
       "From                                         jeff.skilling@enron.com\n",
       "Full_Email_Path             ../data/maildir/skilling-j/sent_items/1.\n",
       "Message-ID             <25701656.1075840162944.JavaMail.evans@thyme>\n",
       "Signature                                           Thanks,\\nJoannie\n",
       "Subject            Re: EnronOnline Executive Summary for May 15, ...\n",
       "Name: 0, dtype: object"
      ]
     },
     "execution_count": 15,
     "metadata": {},
     "output_type": "execute_result"
    }
   ],
   "source": [
    "enron_email_list_df.iloc[0]"
   ]
  },
  {
   "cell_type": "code",
   "execution_count": 16,
   "metadata": {},
   "outputs": [
    {
     "data": {
      "text/plain": [
       "'Simon, I was unable to open the attached document for Jeff Skilling.  Could you please resend.'"
      ]
     },
     "execution_count": 16,
     "metadata": {},
     "output_type": "execute_result"
    }
   ],
   "source": [
    "enron_email_list_df.iloc[0].Body"
   ]
  },
  {
   "cell_type": "code",
   "execution_count": 17,
   "metadata": {},
   "outputs": [
    {
     "data": {
      "text/plain": [
       "'Thanks,\\nJoannie'"
      ]
     },
     "execution_count": 17,
     "metadata": {},
     "output_type": "execute_result"
    }
   ],
   "source": [
    "enron_email_list_df.iloc[0].Signature\n"
   ]
  },
  {
   "cell_type": "code",
   "execution_count": 18,
   "metadata": {},
   "outputs": [
    {
     "data": {
      "text/plain": [
       "':\\tSimone La rose/ENRON@enronXgate on 05/16/2001 04:52 PM\\nTo:\\tSunil Abraham/ENRON@enronXgate, Cliff Baxter/ENRON@enronXgate, Sally Beck/ENRON@enronXgate, Tim Belden/ENRON@enronXgate, Philippe A Bibi/ENRON@enronXgate, Raymond Bowen/ENRON@enronXgate, Debbie R Brackett/ENRON@enronXgate, William S Bradford/ENRON@enronXgate, Michael Bridges/ENRON@enronXgate, Michael R Brown/LON/ECT@ECT, Lydia Cannon/ENRON@enronXgate, Bob Crane/ENRON@enronXgate, John Cummings/ENRON@enronXgate, Bryan Deluca/ENRON@enronXgate, Karen Denne/Corp/Enron@ENRON, Jennifer deBoisblanc Denny/ENRON@enronXgate, Daniel Diamond/ENRON@enronXgate, Marc Eichmann/ENRON@enronXgate, Jim Fallon/Enron Communications@Enron Communications, Jay Fitzgerald/NY/ECT@ECT, David Forster/ENRON@enronXgate, Mark Frevert/ENRON@enronXgate, Bruce Garner/LON/ECT@ECT, Paul Goddard/EU/Enron@Enron, Joe Gold/LON/ECT@ECT, Amita Gosalia/LON/ECT@ECT, Mark E Haedicke/HOU/ECT@ECT, Jeff Harbert/ENRON@enronXgate, Greg Hermans/ENRON@enronXgate, Kimberly Hillis/ENRON@enronXgate, Joseph P Hirl/AP/ENRON@ENRON, Rahil Jafry/ENRON@enronXgate, Adam Johnson/ENRON@enronXgate, Tim R Jones/EU/Enron@Enron, Steven J Kean/NA/Enron@Enron, Louise Kitchen/HOU/ECT@ECT, Mark Koenig/Corp/Enron@ENRON, Kenneth Lay/Corp/Enron@ENRON, David Leboe/ENRON@enronXgate, Richard Lewis/LON/ECT@ECT, Thor Lien/Enron@EUEnronXgate, George Mcclellan/ENRON@enronXgate, Mike McConnell/HOU/ECT@ECT, Dawn McDonald/ENRON@enronXgate, Kevin McGowan/ENRON@enronXgate, Jeffrey McMahon/ENRON@enronXgate, Vance Meyer/NA/Enron@ENRON, Torrey Moorer/ENRON@enronXgate, Matt Motsinger/ENRON@enronXgate, John L Nowlan/ENRON@enronXgate, Leonardo Pacheco/ENRON@enronXgate, Mark Palmer/Corp/Enron@ENRON, Mark S Palmer/ENRON@enronXgate, Meredith Philipp/Corp/Enron@ENRON, Mark Pickering/Enron@EUEnronXgate, Savita Puthigai/ENRON@enronXgate, Paul Quilkey/ENRON_DEVELOPMENT@ENRON_DEVELOPMENT, Suresh Raghavan/ENRON@enronXgate, Daniel Reck/ENRON@enronXgate, Paula Rieker/ENRON@enronXgate, Jennifer Rosado/ENRON@enronXgate, Justin Rostant/ENRON@enronXgate, Tammie Schoppe/HOU/ECT@ECT, Stephanie Segura/ENRON@enronXgate, Kal Shah/ENRON@enronXgate, Jeffrey A Shankman/ENRON@enronXgate, John Sherriff/LON/ECT@ECT, Bob Shults/ENRON@enronXgate, Jeff Skilling/Corp/Enron@ENRON, Tina Spiller/ENRON@enronXgate, Tara Sweitzer/ENRON@enronXgate, Mark Taylor/HOU/ECT@ECT, Eric Thode/Corp/Enron@ENRON, Sheri Thomas/ENRON@enronXgate, Laura Valencia/ENRON@enronXgate, Greg Whalley/HOU/ECT@ECT, Andy Zipper/ENRON@enronXgate\\ncc:\\t \\n\\nSubject:\\tEnronOnline Executive Summary for May 15, 2001\\n\\nFollowing please find the Daily EnronOnline Executive Summary.\\n\\n \\n\\n\\n\\n\\n\\n\\n\\n\\n\\n<Embedded Picture (Metafile)>'"
      ]
     },
     "execution_count": 18,
     "metadata": {},
     "output_type": "execute_result"
    }
   ],
   "source": [
    "enron_email_list_df.iloc[0].Chain"
   ]
  },
  {
   "cell_type": "code",
   "execution_count": null,
   "metadata": {},
   "outputs": [],
   "source": []
  }
 ],
 "metadata": {
  "kernelspec": {
   "display_name": "Python 3",
   "language": "python",
   "name": "python3"
  },
  "language_info": {
   "codemirror_mode": {
    "name": "ipython",
    "version": 3
   },
   "file_extension": ".py",
   "mimetype": "text/x-python",
   "name": "python",
   "nbconvert_exporter": "python",
   "pygments_lexer": "ipython3",
   "version": "3.7.1"
  }
 },
 "nbformat": 4,
 "nbformat_minor": 2
}
