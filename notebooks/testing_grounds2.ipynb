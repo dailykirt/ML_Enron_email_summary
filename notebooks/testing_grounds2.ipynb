{
 "cells": [
  {
   "cell_type": "markdown",
   "metadata": {},
   "source": [
    "The goal of this data wrangling Notebook is to clean the data for a minimum viable system that will acomplish the following: Given a single person's inbox and a time range give a summary of the emails. \n",
    "\n",
    "The initial idea to do this involve the following ideas:\n",
    "    1) I will start out using extractive summarization methods, which reuse sentences that were already written. \n",
    "    2) There would be a ratio of actual sentences vs summarized sentences. For example, for every 5 email sentences, 1 summary sentence will be generated.\n",
    "\n"
   ]
  },
  {
   "cell_type": "code",
   "execution_count": 1,
   "metadata": {},
   "outputs": [],
   "source": [
    "import mailparser\n",
    "import sys\n",
    "from os import listdir\n",
    "from os.path import isfile, join\n",
    "import pandas as pd\n",
    "import email\n",
    "from talon.signature.bruteforce import extract_signature"
   ]
  },
  {
   "cell_type": "markdown",
   "metadata": {},
   "source": [
    "First I will get the list of each mail directory in the dataset. There should be 150 different people in the dataset. "
   ]
  },
  {
   "cell_type": "code",
   "execution_count": 2,
   "metadata": {},
   "outputs": [
    {
     "name": "stdout",
     "output_type": "stream",
     "text": [
      "150\n"
     ]
    }
   ],
   "source": [
    "mail_dir = '../data/maildir/'\n",
    "mailboxes = listdir(mail_dir)\n",
    "print(len(mailboxes))"
   ]
  },
  {
   "cell_type": "markdown",
   "metadata": {},
   "source": [
    "Temporarily start with one person. This will be for each directoy later on. "
   ]
  },
  {
   "cell_type": "code",
   "execution_count": 3,
   "metadata": {},
   "outputs": [],
   "source": [
    "#mailbox = mailboxes[0]\n",
    "mailbox = \"skilling-j\"\n",
    "#inbox = listdir(mail_dir + mailbox)\n",
    "#print(inbox)"
   ]
  },
  {
   "cell_type": "markdown",
   "metadata": {},
   "source": [
    "The following function tries to split the body of the email from the rest of the chain. "
   ]
  },
  {
   "cell_type": "markdown",
   "metadata": {},
   "source": [
    "We need to start with a list, that will represent each row of the dataframe. Each item in the row is a dict of parsed email values. "
   ]
  },
  {
   "cell_type": "code",
   "execution_count": 4,
   "metadata": {},
   "outputs": [],
   "source": [
    "enron_email_list = []"
   ]
  },
  {
   "cell_type": "markdown",
   "metadata": {},
   "source": [
    "The following splits the chain emails from the actual body of the email. It seems like \"----Original Message-----\" indicates a forwarded part of an email so this is one of the delimiters. \n",
    "\n",
    "There are also emails that don't seem to necessarily be part of a chain, but would be referencing another email, which means more email metadata would be found in the body. If this meta data is found first, then the email will be split there instead. I'm trying to extract only the written message by the original sender. \n",
    "\n",
    "Lastly Talon will be used to extract the signatures. "
   ]
  },
  {
   "cell_type": "code",
   "execution_count": 5,
   "metadata": {},
   "outputs": [],
   "source": [
    "def clean_body(mail_body):\n",
    "    delimiters = [\"-----Original Message-----\",\"To:\",\"From\"]\n",
    "    \n",
    "    #Trying to split string by biggest delimiter. \n",
    "    old_len = sys.maxsize\n",
    "    \n",
    "    for delimiter in delimiters:\n",
    "        split_body = mail_body.split(delimiter,1)\n",
    "        new_len = len(split_body[0])\n",
    "        if new_len <= old_len:\n",
    "            old_len = new_len\n",
    "            final_split = split_body\n",
    "            \n",
    "    #Then pull chain message\n",
    "    if (len(final_split) == 1):\n",
    "        mail_chain = \"\"\n",
    "    else:\n",
    "        mail_chain = final_split[1] \n",
    "    \n",
    "    #The following uses Talon to try to get a clean body, and seperate out the rest of the email. \n",
    "    clean_body, sig = extract_signature(final_split[0])\n",
    "    \n",
    "    return {'Body': clean_body, 'Chain' : mail_chain, 'Signature': sig}"
   ]
  },
  {
   "cell_type": "markdown",
   "metadata": {},
   "source": [
    "Now put each email into a pandas dataframe. process_email will create a 1 row dataframe to append to the full dataframe. "
   ]
  },
  {
   "cell_type": "code",
   "execution_count": 6,
   "metadata": {},
   "outputs": [],
   "source": [
    "def process_email(email_path, employee, folder, email_name):\n",
    "    mail = mailparser.parse_from_file(email_path)\n",
    "    \n",
    "    full_body = email.message_from_string(mail.body)\n",
    "    mail_body = full_body.get_payload()    \n",
    "    split_body = clean_body(mail_body)\n",
    "    \n",
    "    email_dict = {\n",
    "                \"Employee\" : employee,\n",
    "                \"Folder\" : folder,\n",
    "                \"Email-Name\" : email_name,\n",
    "                \"Body\" : split_body['Body'],\n",
    "                \"Chain\" : split_body['Chain'],\n",
    "                \"Signature\": split_body['Signature'],\n",
    "                \"Full_Email_Path\" : email_path #for debug purposes. \n",
    "    }\n",
    "    \n",
    "    #Put rest of header into the row. \n",
    "    email_dict.update(mail.headers)\n",
    "    enron_email_list.append(email_dict)\n",
    "    "
   ]
  },
  {
   "cell_type": "code",
   "execution_count": 7,
   "metadata": {
    "scrolled": false
   },
   "outputs": [
    {
     "data": {
      "text/html": [
       "<div>\n",
       "<style scoped>\n",
       "    .dataframe tbody tr th:only-of-type {\n",
       "        vertical-align: middle;\n",
       "    }\n",
       "\n",
       "    .dataframe tbody tr th {\n",
       "        vertical-align: top;\n",
       "    }\n",
       "\n",
       "    .dataframe thead th {\n",
       "        text-align: right;\n",
       "    }\n",
       "</style>\n",
       "<table border=\"1\" class=\"dataframe\">\n",
       "  <thead>\n",
       "    <tr style=\"text-align: right;\">\n",
       "      <th></th>\n",
       "      <th>Bcc</th>\n",
       "      <th>Body</th>\n",
       "      <th>Cc</th>\n",
       "      <th>Chain</th>\n",
       "      <th>Content-Transfer-Encoding</th>\n",
       "      <th>Content-Type</th>\n",
       "      <th>Date</th>\n",
       "      <th>Email-Name</th>\n",
       "      <th>Employee</th>\n",
       "      <th>Folder</th>\n",
       "      <th>...</th>\n",
       "      <th>Signature</th>\n",
       "      <th>Subject</th>\n",
       "      <th>To</th>\n",
       "      <th>X-FileName</th>\n",
       "      <th>X-Folder</th>\n",
       "      <th>X-From</th>\n",
       "      <th>X-Origin</th>\n",
       "      <th>X-To</th>\n",
       "      <th>X-bcc</th>\n",
       "      <th>X-cc</th>\n",
       "    </tr>\n",
       "  </thead>\n",
       "  <tbody>\n",
       "    <tr>\n",
       "      <th>0</th>\n",
       "      <td>NaN</td>\n",
       "      <td>Simon, I was unable to open the attached docum...</td>\n",
       "      <td>NaN</td>\n",
       "      <td>:\\tSimone La rose/ENRON@enronXgate on 05/16/20...</td>\n",
       "      <td>quoted-printable</td>\n",
       "      <td>text/plain; charset=us-ascii</td>\n",
       "      <td>Wed, 16 May 2001 21:18:00 -0700 (PDT)</td>\n",
       "      <td>1.</td>\n",
       "      <td>skilling-j</td>\n",
       "      <td>sent_items</td>\n",
       "      <td>...</td>\n",
       "      <td>Thanks,\\nJoannie</td>\n",
       "      <td>Re: EnronOnline Executive Summary for May 15, ...</td>\n",
       "      <td>simone.rose@enron.com</td>\n",
       "      <td>jskillin.pst</td>\n",
       "      <td>\\jskillin\\Sent Items</td>\n",
       "      <td>Jeff Skilling</td>\n",
       "      <td>SKILLING-J</td>\n",
       "      <td>Simone La rose &lt;Simone La rose/ENRON@enronXgate&gt;</td>\n",
       "      <td></td>\n",
       "      <td></td>\n",
       "    </tr>\n",
       "    <tr>\n",
       "      <th>1</th>\n",
       "      <td>NaN</td>\n",
       "      <td>Erica,\\n\\nDue to the fact that Jeff is unable ...</td>\n",
       "      <td>NaN</td>\n",
       "      <td>\\t\"'jeff.skilling@enron.com'\" &lt;jeff.skilling@e...</td>\n",
       "      <td>7bit</td>\n",
       "      <td>text/plain; charset=us-ascii</td>\n",
       "      <td>Mon, 14 May 2001 15:20:00 -0700 (PDT)</td>\n",
       "      <td>16.</td>\n",
       "      <td>skilling-j</td>\n",
       "      <td>sent_items</td>\n",
       "      <td>...</td>\n",
       "      <td>None</td>\n",
       "      <td>Re: Telephone Call with Jerry Murdock</td>\n",
       "      <td>eharris@insightpartners.com</td>\n",
       "      <td>jskillin.pst</td>\n",
       "      <td>\\jskillin\\Sent Items</td>\n",
       "      <td>Jeff Skilling</td>\n",
       "      <td>SKILLING-J</td>\n",
       "      <td>Erica Harris  &lt;EHarris@insightpartners.com&gt;</td>\n",
       "      <td>Sherri Sera &lt;Sherri Sera/Corp/Enron@ENRON&gt;</td>\n",
       "      <td></td>\n",
       "    </tr>\n",
       "    <tr>\n",
       "      <th>2</th>\n",
       "      <td>kenneth.lay@enron.com, christie.patrick@enron.com</td>\n",
       "      <td>PLEASE  PLAN  TO  ATTEND\\n\\n\"NEW  BUSINESS  CR...</td>\n",
       "      <td>kenneth.lay@enron.com, christie.patrick@enron.com</td>\n",
       "      <td></td>\n",
       "      <td>7bit</td>\n",
       "      <td>text/plain; charset=us-ascii</td>\n",
       "      <td>Wed, 1 Aug 2001 12:25:58 -0700 (PDT)</td>\n",
       "      <td>110.</td>\n",
       "      <td>skilling-j</td>\n",
       "      <td>sent_items</td>\n",
       "      <td>...</td>\n",
       "      <td>None</td>\n",
       "      <td>Please Plan to Attend</td>\n",
       "      <td>k..allen@enron.com, frank.bay@enron.com, sally...</td>\n",
       "      <td>JKING6 (Non-Privileged).pst</td>\n",
       "      <td>\\JSKILLIN (Non-Privileged)\\Sent Items</td>\n",
       "      <td>Skilling, Jeff &lt;/O=ENRON/OU=NA/CN=RECIPIENTS/C...</td>\n",
       "      <td>King-J</td>\n",
       "      <td>Allen, Phillip K. &lt;/O=ENRON/OU=NA/CN=RECIPIENT...</td>\n",
       "      <td></td>\n",
       "      <td>Lay, Kenneth &lt;/O=ENRON/OU=NA/CN=RECIPIENTS/CN=...</td>\n",
       "    </tr>\n",
       "    <tr>\n",
       "      <th>3</th>\n",
       "      <td>NaN</td>\n",
       "      <td>The Stanford Business School, in collaboration...</td>\n",
       "      <td>NaN</td>\n",
       "      <td></td>\n",
       "      <td>7bit</td>\n",
       "      <td>text/plain; charset=us-ascii</td>\n",
       "      <td>Thu, 3 May 2001 18:30:00 -0700 (PDT)</td>\n",
       "      <td>28.</td>\n",
       "      <td>skilling-j</td>\n",
       "      <td>sent_items</td>\n",
       "      <td>...</td>\n",
       "      <td>None</td>\n",
       "      <td>Stanford/McKinsey GLOBE Survey</td>\n",
       "      <td>jeff_donahue@enron.net</td>\n",
       "      <td>jskillin.pst</td>\n",
       "      <td>\\jskillin\\Sent Items</td>\n",
       "      <td>Jeff Skilling</td>\n",
       "      <td>SKILLING-J</td>\n",
       "      <td>jeff_donahue &lt;jeff_donahue@enron.net&gt;</td>\n",
       "      <td></td>\n",
       "      <td></td>\n",
       "    </tr>\n",
       "    <tr>\n",
       "      <th>4</th>\n",
       "      <td>NaN</td>\n",
       "      <td>test</td>\n",
       "      <td>NaN</td>\n",
       "      <td></td>\n",
       "      <td>7bit</td>\n",
       "      <td>text/plain; charset=us-ascii</td>\n",
       "      <td>Tue, 15 May 2001 14:09:00 -0700 (PDT)</td>\n",
       "      <td>5.</td>\n",
       "      <td>skilling-j</td>\n",
       "      <td>sent_items</td>\n",
       "      <td>...</td>\n",
       "      <td>None</td>\n",
       "      <td>test</td>\n",
       "      <td>joannie.williamson@enron.com</td>\n",
       "      <td>jskillin.pst</td>\n",
       "      <td>\\jskillin\\Sent Items</td>\n",
       "      <td>Jeff Skilling</td>\n",
       "      <td>SKILLING-J</td>\n",
       "      <td>Joannie Williamson &lt;Joannie Williamson/Corp/En...</td>\n",
       "      <td></td>\n",
       "      <td></td>\n",
       "    </tr>\n",
       "  </tbody>\n",
       "</table>\n",
       "<p>5 rows × 24 columns</p>\n",
       "</div>"
      ],
      "text/plain": [
       "                                                 Bcc  \\\n",
       "0                                                NaN   \n",
       "1                                                NaN   \n",
       "2  kenneth.lay@enron.com, christie.patrick@enron.com   \n",
       "3                                                NaN   \n",
       "4                                                NaN   \n",
       "\n",
       "                                                Body  \\\n",
       "0  Simon, I was unable to open the attached docum...   \n",
       "1  Erica,\\n\\nDue to the fact that Jeff is unable ...   \n",
       "2  PLEASE  PLAN  TO  ATTEND\\n\\n\"NEW  BUSINESS  CR...   \n",
       "3  The Stanford Business School, in collaboration...   \n",
       "4                                               test   \n",
       "\n",
       "                                                  Cc  \\\n",
       "0                                                NaN   \n",
       "1                                                NaN   \n",
       "2  kenneth.lay@enron.com, christie.patrick@enron.com   \n",
       "3                                                NaN   \n",
       "4                                                NaN   \n",
       "\n",
       "                                               Chain  \\\n",
       "0  :\\tSimone La rose/ENRON@enronXgate on 05/16/20...   \n",
       "1  \\t\"'jeff.skilling@enron.com'\" <jeff.skilling@e...   \n",
       "2                                                      \n",
       "3                                                      \n",
       "4                                                      \n",
       "\n",
       "  Content-Transfer-Encoding                  Content-Type  \\\n",
       "0          quoted-printable  text/plain; charset=us-ascii   \n",
       "1                      7bit  text/plain; charset=us-ascii   \n",
       "2                      7bit  text/plain; charset=us-ascii   \n",
       "3                      7bit  text/plain; charset=us-ascii   \n",
       "4                      7bit  text/plain; charset=us-ascii   \n",
       "\n",
       "                                    Date Email-Name    Employee      Folder  \\\n",
       "0  Wed, 16 May 2001 21:18:00 -0700 (PDT)         1.  skilling-j  sent_items   \n",
       "1  Mon, 14 May 2001 15:20:00 -0700 (PDT)        16.  skilling-j  sent_items   \n",
       "2   Wed, 1 Aug 2001 12:25:58 -0700 (PDT)       110.  skilling-j  sent_items   \n",
       "3   Thu, 3 May 2001 18:30:00 -0700 (PDT)        28.  skilling-j  sent_items   \n",
       "4  Tue, 15 May 2001 14:09:00 -0700 (PDT)         5.  skilling-j  sent_items   \n",
       "\n",
       "                         ...                                 Signature  \\\n",
       "0                        ...                          Thanks,\\nJoannie   \n",
       "1                        ...                                      None   \n",
       "2                        ...                                      None   \n",
       "3                        ...                                      None   \n",
       "4                        ...                                      None   \n",
       "\n",
       "                                             Subject  \\\n",
       "0  Re: EnronOnline Executive Summary for May 15, ...   \n",
       "1              Re: Telephone Call with Jerry Murdock   \n",
       "2                              Please Plan to Attend   \n",
       "3                     Stanford/McKinsey GLOBE Survey   \n",
       "4                                               test   \n",
       "\n",
       "                                                  To  \\\n",
       "0                              simone.rose@enron.com   \n",
       "1                        eharris@insightpartners.com   \n",
       "2  k..allen@enron.com, frank.bay@enron.com, sally...   \n",
       "3                             jeff_donahue@enron.net   \n",
       "4                       joannie.williamson@enron.com   \n",
       "\n",
       "                    X-FileName                               X-Folder  \\\n",
       "0                 jskillin.pst                   \\jskillin\\Sent Items   \n",
       "1                 jskillin.pst                   \\jskillin\\Sent Items   \n",
       "2  JKING6 (Non-Privileged).pst  \\JSKILLIN (Non-Privileged)\\Sent Items   \n",
       "3                 jskillin.pst                   \\jskillin\\Sent Items   \n",
       "4                 jskillin.pst                   \\jskillin\\Sent Items   \n",
       "\n",
       "                                              X-From    X-Origin  \\\n",
       "0                                      Jeff Skilling  SKILLING-J   \n",
       "1                                      Jeff Skilling  SKILLING-J   \n",
       "2  Skilling, Jeff </O=ENRON/OU=NA/CN=RECIPIENTS/C...      King-J   \n",
       "3                                      Jeff Skilling  SKILLING-J   \n",
       "4                                      Jeff Skilling  SKILLING-J   \n",
       "\n",
       "                                                X-To  \\\n",
       "0   Simone La rose <Simone La rose/ENRON@enronXgate>   \n",
       "1        Erica Harris  <EHarris@insightpartners.com>   \n",
       "2  Allen, Phillip K. </O=ENRON/OU=NA/CN=RECIPIENT...   \n",
       "3              jeff_donahue <jeff_donahue@enron.net>   \n",
       "4  Joannie Williamson <Joannie Williamson/Corp/En...   \n",
       "\n",
       "                                        X-bcc  \\\n",
       "0                                               \n",
       "1  Sherri Sera <Sherri Sera/Corp/Enron@ENRON>   \n",
       "2                                               \n",
       "3                                               \n",
       "4                                               \n",
       "\n",
       "                                                X-cc  \n",
       "0                                                     \n",
       "1                                                     \n",
       "2  Lay, Kenneth </O=ENRON/OU=NA/CN=RECIPIENTS/CN=...  \n",
       "3                                                     \n",
       "4                                                     \n",
       "\n",
       "[5 rows x 24 columns]"
      ]
     },
     "execution_count": 7,
     "metadata": {},
     "output_type": "execute_result"
    }
   ],
   "source": [
    "#process_email(full_path, mailbox, folder[0], single_email[0])\n",
    "\n",
    "#for mailbox in mailboxes:\n",
    "inbox = listdir(mail_dir + mailbox)\n",
    "for folder in inbox:\n",
    "    path = mail_dir + mailbox + \"/\" + folder\n",
    "    emails = listdir(path)\n",
    "    for single_email in emails:\n",
    "        full_path = path + \"/\" + single_email\n",
    "        process_email(full_path, mailbox, folder, single_email)\n",
    "enron_email_list_df = pd.DataFrame(enron_email_list)\n",
    "enron_email_list_df.head()"
   ]
  },
  {
   "cell_type": "markdown",
   "metadata": {},
   "source": [
    "Check and cast datatypes to appropriate types. "
   ]
  },
  {
   "cell_type": "code",
   "execution_count": 8,
   "metadata": {},
   "outputs": [
    {
     "name": "stdout",
     "output_type": "stream",
     "text": [
      "<class 'pandas.core.frame.DataFrame'>\n",
      "RangeIndex: 4139 entries, 0 to 4138\n",
      "Data columns (total 24 columns):\n",
      "Bcc                          921 non-null object\n",
      "Body                         4139 non-null object\n",
      "Cc                           921 non-null object\n",
      "Chain                        4139 non-null object\n",
      "Content-Transfer-Encoding    4139 non-null object\n",
      "Content-Type                 4139 non-null object\n",
      "Date                         4139 non-null object\n",
      "Email-Name                   4139 non-null object\n",
      "Employee                     4139 non-null object\n",
      "Folder                       4139 non-null object\n",
      "From                         4139 non-null object\n",
      "Full_Email_Path              4139 non-null object\n",
      "Message-ID                   4139 non-null object\n",
      "Mime-Version                 4139 non-null object\n",
      "Signature                    643 non-null object\n",
      "Subject                      4139 non-null object\n",
      "To                           3745 non-null object\n",
      "X-FileName                   4139 non-null object\n",
      "X-Folder                     4139 non-null object\n",
      "X-From                       4139 non-null object\n",
      "X-Origin                     4139 non-null object\n",
      "X-To                         4139 non-null object\n",
      "X-bcc                        4139 non-null object\n",
      "X-cc                         4139 non-null object\n",
      "dtypes: object(24)\n",
      "memory usage: 776.1+ KB\n"
     ]
    }
   ],
   "source": [
    "enron_email_list_df.info()"
   ]
  },
  {
   "cell_type": "markdown",
   "metadata": {},
   "source": [
    "Description of the dataset. I will now identify irrelevant headers and drop the column. "
   ]
  },
  {
   "cell_type": "code",
   "execution_count": 9,
   "metadata": {},
   "outputs": [
    {
     "data": {
      "text/html": [
       "<div>\n",
       "<style scoped>\n",
       "    .dataframe tbody tr th:only-of-type {\n",
       "        vertical-align: middle;\n",
       "    }\n",
       "\n",
       "    .dataframe tbody tr th {\n",
       "        vertical-align: top;\n",
       "    }\n",
       "\n",
       "    .dataframe thead th {\n",
       "        text-align: right;\n",
       "    }\n",
       "</style>\n",
       "<table border=\"1\" class=\"dataframe\">\n",
       "  <thead>\n",
       "    <tr style=\"text-align: right;\">\n",
       "      <th></th>\n",
       "      <th>Bcc</th>\n",
       "      <th>Body</th>\n",
       "      <th>Cc</th>\n",
       "      <th>Chain</th>\n",
       "      <th>Content-Transfer-Encoding</th>\n",
       "      <th>Content-Type</th>\n",
       "      <th>Date</th>\n",
       "      <th>Email-Name</th>\n",
       "      <th>Employee</th>\n",
       "      <th>Folder</th>\n",
       "      <th>From</th>\n",
       "      <th>Full_Email_Path</th>\n",
       "      <th>Message-ID</th>\n",
       "      <th>Mime-Version</th>\n",
       "      <th>Signature</th>\n",
       "      <th>Subject</th>\n",
       "      <th>To</th>\n",
       "      <th>X-FileName</th>\n",
       "      <th>X-Folder</th>\n",
       "      <th>X-From</th>\n",
       "      <th>X-Origin</th>\n",
       "      <th>X-To</th>\n",
       "      <th>X-bcc</th>\n",
       "      <th>X-cc</th>\n",
       "    </tr>\n",
       "  </thead>\n",
       "  <tbody>\n",
       "    <tr>\n",
       "      <th>count</th>\n",
       "      <td>921</td>\n",
       "      <td>4139</td>\n",
       "      <td>921</td>\n",
       "      <td>4139</td>\n",
       "      <td>4139</td>\n",
       "      <td>4139</td>\n",
       "      <td>4139</td>\n",
       "      <td>4139</td>\n",
       "      <td>4139</td>\n",
       "      <td>4139</td>\n",
       "      <td>4139</td>\n",
       "      <td>4139</td>\n",
       "      <td>4139</td>\n",
       "      <td>4139</td>\n",
       "      <td>643</td>\n",
       "      <td>4139</td>\n",
       "      <td>3745</td>\n",
       "      <td>4139</td>\n",
       "      <td>4139</td>\n",
       "      <td>4139</td>\n",
       "      <td>4139</td>\n",
       "      <td>4139</td>\n",
       "      <td>4139</td>\n",
       "      <td>4139</td>\n",
       "    </tr>\n",
       "    <tr>\n",
       "      <th>unique</th>\n",
       "      <td>329</td>\n",
       "      <td>2386</td>\n",
       "      <td>329</td>\n",
       "      <td>684</td>\n",
       "      <td>2</td>\n",
       "      <td>2</td>\n",
       "      <td>2506</td>\n",
       "      <td>1413</td>\n",
       "      <td>1</td>\n",
       "      <td>12</td>\n",
       "      <td>919</td>\n",
       "      <td>4139</td>\n",
       "      <td>4139</td>\n",
       "      <td>1</td>\n",
       "      <td>243</td>\n",
       "      <td>1960</td>\n",
       "      <td>621</td>\n",
       "      <td>6</td>\n",
       "      <td>27</td>\n",
       "      <td>1200</td>\n",
       "      <td>4</td>\n",
       "      <td>898</td>\n",
       "      <td>6</td>\n",
       "      <td>412</td>\n",
       "    </tr>\n",
       "    <tr>\n",
       "      <th>top</th>\n",
       "      <td>sherri.sera@enron.com</td>\n",
       "      <td>The report named: Violation/Notification Memo &lt;http://erv.corp.enron.com/link</td>\n",
       "      <td>sherri.sera@enron.com</td>\n",
       "      <td></td>\n",
       "      <td>7bit</td>\n",
       "      <td>text/plain; charset=us-ascii</td>\n",
       "      <td>Thu, 27 Jul 2000 07:31:00 -0700 (PDT)</td>\n",
       "      <td>1.</td>\n",
       "      <td>skilling-j</td>\n",
       "      <td>inbox</td>\n",
       "      <td>sherri.sera@enron.com</td>\n",
       "      <td>../data/maildir/skilling-j/inbox/53.</td>\n",
       "      <td>&lt;29311992.1075845487422.JavaMail.evans@thyme&gt;</td>\n",
       "      <td>1.0</td>\n",
       "      <td>Regards,\\nSherri Sera\\nAssistant to Jeff Skilling\\n713.853.5984\\n713.646.8381 (fax)\\nsherri.sera@enron.com</td>\n",
       "      <td></td>\n",
       "      <td>jeff.skilling@enron.com</td>\n",
       "      <td>jskillin.nsf</td>\n",
       "      <td>\\JSKILLIN (Non-Privileged)\\Inbox</td>\n",
       "      <td>Sherri Sera</td>\n",
       "      <td>SKILLING-J</td>\n",
       "      <td>Skilling, Jeff &lt;/O=ENRON/OU=NA/CN=RECIPIENTS/CN=JSKILLIN&gt;</td>\n",
       "      <td></td>\n",
       "      <td></td>\n",
       "    </tr>\n",
       "    <tr>\n",
       "      <th>freq</th>\n",
       "      <td>71</td>\n",
       "      <td>42</td>\n",
       "      <td>71</td>\n",
       "      <td>2791</td>\n",
       "      <td>3863</td>\n",
       "      <td>3550</td>\n",
       "      <td>8</td>\n",
       "      <td>12</td>\n",
       "      <td>4139</td>\n",
       "      <td>1252</td>\n",
       "      <td>662</td>\n",
       "      <td>1</td>\n",
       "      <td>1</td>\n",
       "      <td>4139</td>\n",
       "      <td>56</td>\n",
       "      <td>198</td>\n",
       "      <td>1128</td>\n",
       "      <td>2335</td>\n",
       "      <td>727</td>\n",
       "      <td>662</td>\n",
       "      <td>2795</td>\n",
       "      <td>329</td>\n",
       "      <td>4134</td>\n",
       "      <td>3209</td>\n",
       "    </tr>\n",
       "  </tbody>\n",
       "</table>\n",
       "</div>"
      ],
      "text/plain": [
       "                          Bcc  \\\n",
       "count   921                     \n",
       "unique  329                     \n",
       "top     sherri.sera@enron.com   \n",
       "freq    71                      \n",
       "\n",
       "                                                                                 Body  \\\n",
       "count   4139                                                                            \n",
       "unique  2386                                                                            \n",
       "top     The report named: Violation/Notification Memo <http://erv.corp.enron.com/link   \n",
       "freq    42                                                                              \n",
       "\n",
       "                           Cc Chain Content-Transfer-Encoding  \\\n",
       "count   921                    4139  4139                       \n",
       "unique  329                    684   2                          \n",
       "top     sherri.sera@enron.com        7bit                       \n",
       "freq    71                     2791  3863                       \n",
       "\n",
       "                        Content-Type                                   Date  \\\n",
       "count   4139                          4139                                    \n",
       "unique  2                             2506                                    \n",
       "top     text/plain; charset=us-ascii  Thu, 27 Jul 2000 07:31:00 -0700 (PDT)   \n",
       "freq    3550                          8                                       \n",
       "\n",
       "       Email-Name    Employee Folder                   From  \\\n",
       "count   4139       4139        4139   4139                    \n",
       "unique  1413       1           12     919                     \n",
       "top     1.         skilling-j  inbox  sherri.sera@enron.com   \n",
       "freq    12         4139        1252   662                     \n",
       "\n",
       "                             Full_Email_Path  \\\n",
       "count   4139                                   \n",
       "unique  4139                                   \n",
       "top     ../data/maildir/skilling-j/inbox/53.   \n",
       "freq    1                                      \n",
       "\n",
       "                                           Message-ID Mime-Version  \\\n",
       "count   4139                                           4139          \n",
       "unique  4139                                           1             \n",
       "top     <29311992.1075845487422.JavaMail.evans@thyme>  1.0           \n",
       "freq    1                                              4139          \n",
       "\n",
       "                                                                                                         Signature  \\\n",
       "count   643                                                                                                          \n",
       "unique  243                                                                                                          \n",
       "top     Regards,\\nSherri Sera\\nAssistant to Jeff Skilling\\n713.853.5984\\n713.646.8381 (fax)\\nsherri.sera@enron.com   \n",
       "freq    56                                                                                                           \n",
       "\n",
       "       Subject                       To    X-FileName  \\\n",
       "count   4139    3745                     4139           \n",
       "unique  1960    621                      6              \n",
       "top             jeff.skilling@enron.com  jskillin.nsf   \n",
       "freq    198     1128                     2335           \n",
       "\n",
       "                                X-Folder       X-From    X-Origin  \\\n",
       "count   4139                              4139         4139         \n",
       "unique  27                                1200         4            \n",
       "top     \\JSKILLIN (Non-Privileged)\\Inbox  Sherri Sera  SKILLING-J   \n",
       "freq    727                               662          2795         \n",
       "\n",
       "                                                             X-To X-bcc  X-cc  \n",
       "count   4139                                                       4139  4139  \n",
       "unique  898                                                        6     412   \n",
       "top     Skilling, Jeff </O=ENRON/OU=NA/CN=RECIPIENTS/CN=JSKILLIN>              \n",
       "freq    329                                                        4134  3209  "
      ]
     },
     "execution_count": 9,
     "metadata": {},
     "output_type": "execute_result"
    }
   ],
   "source": [
    "pd.set_option('display.max_colwidth', -1)\n",
    "pd.set_option('display.max_columns',500)\n",
    "enron_email_list_df.describe()"
   ]
  },
  {
   "cell_type": "markdown",
   "metadata": {},
   "source": [
    "It appears that the column 'Mime-Version' has one value that does not seem like it would affect email summarization. It could safely be dropped. "
   ]
  },
  {
   "cell_type": "code",
   "execution_count": 10,
   "metadata": {},
   "outputs": [
    {
     "data": {
      "text/plain": [
       "1.0    4139\n",
       "Name: Mime-Version, dtype: int64"
      ]
     },
     "execution_count": 10,
     "metadata": {},
     "output_type": "execute_result"
    }
   ],
   "source": [
    "enron_email_list_df['Mime-Version'].value_counts()"
   ]
  },
  {
   "cell_type": "code",
   "execution_count": 11,
   "metadata": {},
   "outputs": [],
   "source": [
    "enron_email_list_df = enron_email_list_df.drop(columns=['Mime-Version'])"
   ]
  },
  {
   "cell_type": "code",
   "execution_count": 12,
   "metadata": {},
   "outputs": [
    {
     "data": {
      "text/plain": [
       "7bit                3863\n",
       "quoted-printable    276 \n",
       "Name: Content-Transfer-Encoding, dtype: int64"
      ]
     },
     "execution_count": 12,
     "metadata": {},
     "output_type": "execute_result"
    }
   ],
   "source": [
    "enron_email_list_df['Content-Transfer-Encoding'].value_counts()"
   ]
  },
  {
   "cell_type": "code",
   "execution_count": 13,
   "metadata": {},
   "outputs": [],
   "source": [
    "enron_email_list_df = enron_email_list_df.drop(columns=['Content-Transfer-Encoding'])"
   ]
  },
  {
   "cell_type": "code",
   "execution_count": 14,
   "metadata": {},
   "outputs": [
    {
     "data": {
      "text/plain": [
       "text/plain; charset=us-ascii          3550\n",
       "text/plain; charset=ANSI_X3.4-1968    589 \n",
       "Name: Content-Type, dtype: int64"
      ]
     },
     "execution_count": 14,
     "metadata": {},
     "output_type": "execute_result"
    }
   ],
   "source": [
    "enron_email_list_df['Content-Type'].value_counts()"
   ]
  },
  {
   "cell_type": "code",
   "execution_count": 15,
   "metadata": {},
   "outputs": [],
   "source": [
    "enron_email_list_df = enron_email_list_df.drop(columns=['Content-Type'])"
   ]
  },
  {
   "cell_type": "markdown",
   "metadata": {},
   "source": [
    "The X-* metadata does not seem to be releveant to the goal of summarizing email bodies. I explore a few of them below, then drop all all the X-* columns from the pandas dataframe. "
   ]
  },
  {
   "cell_type": "code",
   "execution_count": 16,
   "metadata": {},
   "outputs": [
    {
     "data": {
      "text/plain": [
       "SKILLING-J    2795\n",
       "Dasovich-J    676 \n",
       "Skilling-J    601 \n",
       "King-J        67  \n",
       "Name: X-Origin, dtype: int64"
      ]
     },
     "execution_count": 16,
     "metadata": {},
     "output_type": "execute_result"
    }
   ],
   "source": [
    "enron_email_list_df['X-Origin'].value_counts()"
   ]
  },
  {
   "cell_type": "code",
   "execution_count": 17,
   "metadata": {},
   "outputs": [
    {
     "data": {
      "text/plain": [
       "jskillin.nsf                     2335\n",
       "JDASOVIC (Non-Privileged).pst    676 \n",
       "JSKILLIN (Non-Privileged).pst    601 \n",
       "jskillin.pst                     456 \n",
       "JKING6 (Non-Privileged).pst      67  \n",
       "Skilling, Jeff.pst               4   \n",
       "Name: X-FileName, dtype: int64"
      ]
     },
     "execution_count": 17,
     "metadata": {},
     "output_type": "execute_result"
    }
   ],
   "source": [
    "enron_email_list_df['X-FileName'].value_counts()"
   ]
  },
  {
   "cell_type": "code",
   "execution_count": 18,
   "metadata": {},
   "outputs": [],
   "source": [
    "enron_email_list_df = enron_email_list_df.drop(columns=['X-FileName'])"
   ]
  },
  {
   "cell_type": "code",
   "execution_count": 19,
   "metadata": {},
   "outputs": [
    {
     "data": {
      "text/plain": [
       "\\JSKILLIN (Non-Privileged)\\Inbox                               727\n",
       "\\Jeffrey_Skilling_Dec2000\\Notes Folders\\All documents          508\n",
       "\\JSKILLIN (Non-Privileged)\\Deleted Items                       483\n",
       "\\Jeffrey_Skilling_Dec2000\\Notes Folders\\Discussion threads     421\n",
       "\\jskillin\\Inbox                                                406\n",
       "\\Jeff_Skilling_Oct2001\\Notes Folders\\All documents             325\n",
       "\\Jeff_Skilling_Oct2001\\Notes Folders\\Discussion threads        230\n",
       "\\Jeffrey_Skilling_Dec2000\\Notes Folders\\Notes inbox            141\n",
       "\\Jeffrey_Skilling_Dec2000\\Notes Folders\\Sent                   139\n",
       "\\Jeff_Skilling_Oct2001\\Notes Folders\\'sent mail                139\n",
       "\\Jeff_Skilling_Oct2001\\Notes Folders\\Sent                      137\n",
       "\\Jeffrey_Skilling_Dec2000\\Notes Folders\\'sent mail             136\n",
       "\\JSKILLIN (Non-Privileged)\\Skilling, Jeff\\Inbox                115\n",
       "\\Jeff_Skilling_Oct2001\\Notes Folders\\Notes inbox               102\n",
       "\\jskillin\\Sent Items                                           47 \n",
       "\\Jeffrey_Skilling_Dec2000\\Notes Folders\\Mark                   45 \n",
       "\\JSKILLIN (Non-Privileged)\\Inbox\\GENIE                         10 \n",
       "\\Jeff_Skilling_Oct2001\\Notes Folders\\Mark                      9  \n",
       "\\JSKILLIN (Non-Privileged)\\Sent Items                          6  \n",
       "\\Skilling, Jeff\\Skilling, Jeff\\Inbox                           4  \n",
       "\\JSKILLIN (Non-Privileged)\\Skilling, Jeff\\Contacts             2  \n",
       "\\jskillin\\Calendar                                             2  \n",
       "\\JSKILLIN (Non-Privileged)\\Skilling, Jeff\\Sent Items           1  \n",
       "\\jskillin\\Mark                                                 1  \n",
       "\\Jeffrey_Skilling_June2001\\Notes Folders\\Discussion threads    1  \n",
       "\\Jeffrey_Skilling_June2001\\Notes Folders\\Notes inbox           1  \n",
       "\\Jeffrey_Skilling_June2001\\Notes Folders\\All documents         1  \n",
       "Name: X-Folder, dtype: int64"
      ]
     },
     "execution_count": 19,
     "metadata": {},
     "output_type": "execute_result"
    }
   ],
   "source": [
    "enron_email_list_df['X-Folder'].value_counts()"
   ]
  },
  {
   "cell_type": "code",
   "execution_count": 20,
   "metadata": {},
   "outputs": [
    {
     "data": {
      "text/plain": [
       "SKILLING-J    2795\n",
       "Dasovich-J    676 \n",
       "Skilling-J    601 \n",
       "King-J        67  \n",
       "Name: X-Origin, dtype: int64"
      ]
     },
     "execution_count": 20,
     "metadata": {},
     "output_type": "execute_result"
    }
   ],
   "source": [
    "enron_email_list_df['X-Origin'].value_counts()"
   ]
  },
  {
   "cell_type": "code",
   "execution_count": 21,
   "metadata": {},
   "outputs": [],
   "source": [
    "enron_email_list_df = enron_email_list_df.drop(columns=['X-Folder'])\n",
    "enron_email_list_df = enron_email_list_df.drop(columns=['X-From'])\n",
    "enron_email_list_df = enron_email_list_df.drop(columns=['X-Origin'])\n",
    "enron_email_list_df = enron_email_list_df.drop(columns=['X-To'])\n",
    "enron_email_list_df = enron_email_list_df.drop(columns=['X-bcc'])\n",
    "enron_email_list_df = enron_email_list_df.drop(columns=['X-cc'])"
   ]
  },
  {
   "cell_type": "code",
   "execution_count": 22,
   "metadata": {},
   "outputs": [],
   "source": [
    "#enron_email_list_df.iloc[0]"
   ]
  },
  {
   "cell_type": "code",
   "execution_count": 23,
   "metadata": {},
   "outputs": [],
   "source": [
    "#enron_email_list_df['Body'].iloc[0]"
   ]
  },
  {
   "cell_type": "code",
   "execution_count": 24,
   "metadata": {},
   "outputs": [
    {
     "data": {
      "text/html": [
       "<div>\n",
       "<style scoped>\n",
       "    .dataframe tbody tr th:only-of-type {\n",
       "        vertical-align: middle;\n",
       "    }\n",
       "\n",
       "    .dataframe tbody tr th {\n",
       "        vertical-align: top;\n",
       "    }\n",
       "\n",
       "    .dataframe thead th {\n",
       "        text-align: right;\n",
       "    }\n",
       "</style>\n",
       "<table border=\"1\" class=\"dataframe\">\n",
       "  <thead>\n",
       "    <tr style=\"text-align: right;\">\n",
       "      <th></th>\n",
       "      <th>Bcc</th>\n",
       "      <th>Body</th>\n",
       "      <th>Cc</th>\n",
       "      <th>Chain</th>\n",
       "      <th>Date</th>\n",
       "      <th>Email-Name</th>\n",
       "      <th>Employee</th>\n",
       "      <th>Folder</th>\n",
       "      <th>From</th>\n",
       "      <th>Full_Email_Path</th>\n",
       "      <th>Message-ID</th>\n",
       "      <th>Signature</th>\n",
       "      <th>Subject</th>\n",
       "      <th>To</th>\n",
       "    </tr>\n",
       "  </thead>\n",
       "  <tbody>\n",
       "    <tr>\n",
       "      <th>count</th>\n",
       "      <td>921</td>\n",
       "      <td>4139</td>\n",
       "      <td>921</td>\n",
       "      <td>4139</td>\n",
       "      <td>4139</td>\n",
       "      <td>4139</td>\n",
       "      <td>4139</td>\n",
       "      <td>4139</td>\n",
       "      <td>4139</td>\n",
       "      <td>4139</td>\n",
       "      <td>4139</td>\n",
       "      <td>643</td>\n",
       "      <td>4139</td>\n",
       "      <td>3745</td>\n",
       "    </tr>\n",
       "    <tr>\n",
       "      <th>unique</th>\n",
       "      <td>329</td>\n",
       "      <td>2386</td>\n",
       "      <td>329</td>\n",
       "      <td>684</td>\n",
       "      <td>2506</td>\n",
       "      <td>1413</td>\n",
       "      <td>1</td>\n",
       "      <td>12</td>\n",
       "      <td>919</td>\n",
       "      <td>4139</td>\n",
       "      <td>4139</td>\n",
       "      <td>243</td>\n",
       "      <td>1960</td>\n",
       "      <td>621</td>\n",
       "    </tr>\n",
       "    <tr>\n",
       "      <th>top</th>\n",
       "      <td>sherri.sera@enron.com</td>\n",
       "      <td>The report named: Violation/Notification Memo &lt;http://erv.corp.enron.com/link</td>\n",
       "      <td>sherri.sera@enron.com</td>\n",
       "      <td></td>\n",
       "      <td>Thu, 27 Jul 2000 07:31:00 -0700 (PDT)</td>\n",
       "      <td>1.</td>\n",
       "      <td>skilling-j</td>\n",
       "      <td>inbox</td>\n",
       "      <td>sherri.sera@enron.com</td>\n",
       "      <td>../data/maildir/skilling-j/inbox/53.</td>\n",
       "      <td>&lt;29311992.1075845487422.JavaMail.evans@thyme&gt;</td>\n",
       "      <td>Regards,\\nSherri Sera\\nAssistant to Jeff Skilling\\n713.853.5984\\n713.646.8381 (fax)\\nsherri.sera@enron.com</td>\n",
       "      <td></td>\n",
       "      <td>jeff.skilling@enron.com</td>\n",
       "    </tr>\n",
       "    <tr>\n",
       "      <th>freq</th>\n",
       "      <td>71</td>\n",
       "      <td>42</td>\n",
       "      <td>71</td>\n",
       "      <td>2791</td>\n",
       "      <td>8</td>\n",
       "      <td>12</td>\n",
       "      <td>4139</td>\n",
       "      <td>1252</td>\n",
       "      <td>662</td>\n",
       "      <td>1</td>\n",
       "      <td>1</td>\n",
       "      <td>56</td>\n",
       "      <td>198</td>\n",
       "      <td>1128</td>\n",
       "    </tr>\n",
       "  </tbody>\n",
       "</table>\n",
       "</div>"
      ],
      "text/plain": [
       "                          Bcc  \\\n",
       "count   921                     \n",
       "unique  329                     \n",
       "top     sherri.sera@enron.com   \n",
       "freq    71                      \n",
       "\n",
       "                                                                                 Body  \\\n",
       "count   4139                                                                            \n",
       "unique  2386                                                                            \n",
       "top     The report named: Violation/Notification Memo <http://erv.corp.enron.com/link   \n",
       "freq    42                                                                              \n",
       "\n",
       "                           Cc Chain                                   Date  \\\n",
       "count   921                    4139  4139                                    \n",
       "unique  329                    684   2506                                    \n",
       "top     sherri.sera@enron.com        Thu, 27 Jul 2000 07:31:00 -0700 (PDT)   \n",
       "freq    71                     2791  8                                       \n",
       "\n",
       "       Email-Name    Employee Folder                   From  \\\n",
       "count   4139       4139        4139   4139                    \n",
       "unique  1413       1           12     919                     \n",
       "top     1.         skilling-j  inbox  sherri.sera@enron.com   \n",
       "freq    12         4139        1252   662                     \n",
       "\n",
       "                             Full_Email_Path  \\\n",
       "count   4139                                   \n",
       "unique  4139                                   \n",
       "top     ../data/maildir/skilling-j/inbox/53.   \n",
       "freq    1                                      \n",
       "\n",
       "                                           Message-ID  \\\n",
       "count   4139                                            \n",
       "unique  4139                                            \n",
       "top     <29311992.1075845487422.JavaMail.evans@thyme>   \n",
       "freq    1                                               \n",
       "\n",
       "                                                                                                         Signature  \\\n",
       "count   643                                                                                                          \n",
       "unique  243                                                                                                          \n",
       "top     Regards,\\nSherri Sera\\nAssistant to Jeff Skilling\\n713.853.5984\\n713.646.8381 (fax)\\nsherri.sera@enron.com   \n",
       "freq    56                                                                                                           \n",
       "\n",
       "       Subject                       To  \n",
       "count   4139    3745                     \n",
       "unique  1960    621                      \n",
       "top             jeff.skilling@enron.com  \n",
       "freq    198     1128                     "
      ]
     },
     "execution_count": 24,
     "metadata": {},
     "output_type": "execute_result"
    }
   ],
   "source": [
    "enron_email_list_df.describe()"
   ]
  },
  {
   "cell_type": "code",
   "execution_count": 25,
   "metadata": {},
   "outputs": [
    {
     "name": "stdout",
     "output_type": "stream",
     "text": [
      "<class 'pandas.core.frame.DataFrame'>\n",
      "RangeIndex: 4139 entries, 0 to 4138\n",
      "Data columns (total 14 columns):\n",
      "Bcc                921 non-null object\n",
      "Body               4139 non-null object\n",
      "Cc                 921 non-null object\n",
      "Chain              4139 non-null object\n",
      "Date               4139 non-null object\n",
      "Email-Name         4139 non-null object\n",
      "Employee           4139 non-null object\n",
      "Folder             4139 non-null object\n",
      "From               4139 non-null object\n",
      "Full_Email_Path    4139 non-null object\n",
      "Message-ID         4139 non-null object\n",
      "Signature          643 non-null object\n",
      "Subject            4139 non-null object\n",
      "To                 3745 non-null object\n",
      "dtypes: object(14)\n",
      "memory usage: 452.8+ KB\n"
     ]
    }
   ],
   "source": [
    "enron_email_list_df.info()"
   ]
  },
  {
   "cell_type": "markdown",
   "metadata": {},
   "source": [
    "The following code is to look at what an example of a summary might look like, ignoring date. "
   ]
  },
  {
   "cell_type": "code",
   "execution_count": 26,
   "metadata": {},
   "outputs": [
    {
     "data": {
      "text/plain": [
       "0     Simon, I was unable to open the attached document for Jeff Skilling.  Could you please resend.                                                                                                                                                                                                                                                                                                                                                                                                                                                                                                                                                                                                                                                                                                                                                                                                                                                                                                                                                                                                                                                                                                                                                                                                                                                                                                                                                                                                                                                                                                                                                                                                                                                                                                                                                                                                                             \n",
       "1     Erica,\\n\\nDue to the fact that Jeff is unable to attend on July 19, I believe it would be better to reschedule the call for sometime next quarter.\\n\\nThanks,\\nJoannie\\n713-345-7774\\n\\n\\n\\n\\n\\n\\nErica Harris <EHarris@insightpartners.com> on 05/14/2001 12:09:54 PM                                                                                                                                                                                                                                                                                                                                                                                                                                                                                                                                                                                                                                                                                                                                                                                                                                                                                                                                                                                                                                                                                                                                                                                                                                                                                                                                                                                                                                                                                                                                                                                                                                                     \n",
       "2     PLEASE  PLAN  TO  ATTEND\\n\\n\"NEW  BUSINESS  CREATION\"\\n\\nTuesday, August 8th\\n11:30-1:30\\nBoard Room\\nEB50\\n\\nPresented by\\nHarvard Business School Professor\\nDavid A. Garvin*\\n\\nProfessor Garvin is making this presentation as part of a five-year research partnership between HBS and Enron entitled 'Modern Giants'.  The presentation was recently delivered at the Morgan Stanley European Strategy Seminar, which included over 50 leading European CEOs. It was also presented in May at HBS as an advanced management seminar. Parts of the presentation use Enron as an example. \\n\\n\\nRsvp by Aug 6th\\t\\t\\t\\t\\t\\t\\t*Resume attached\\nChristie Patrick: 3-6117\\n\\n\\nFeel free to bring your lunch; drinks will be provided                                                                                                                                                                                                                                                                                                                                                                                                                                                                                                                                                                                                                                                                                                                                                                                                                                                                                                                                                                                                                                                                                                                                                                                    \n",
       "3     The Stanford Business School, in collaboration with the management-consulting firm McKinsey & Company, is conducting a large study of global corporations, their management practices, and organization.  Enron is participating in the project in order to learn how our own practices and activities compare to those of other leading global firms and to see which bring true benefits in the global marketplace.  One of the unique features of the project is that it seeks to assess the knowledge and communication networks within a company by asking employees throughout the company to comment on their actual practices and experience.  The goal is to obtain real and accurate information by surveying the people most directly involved in the company's operations. \\n\\nI would like to ask you to help us in getting the most out of our participation in the GLOBE Initiative by completing the GLOBE Network Survey.  The survey is brief and should take no longer than 15 or 20 minutes.  Your responses will be treated as strictly confidential, and will be used solely by the Stanford/McKinsey researchers to evaluate how specific practices and structures impact global communication and knowledge flows.  If you would like individual feedback on how your own networks compare to those of others in the study, please check the appropriate box at the end of the survey.  \\n\\nPlease save this email for future reference and, again, thank you for contributing to this important learning opportunity.\\n\\nTo complete the GLOBE Network Survey, please click on the link below and simply follow the survey instructions.  You will need to enter the Enron Company Code, which is: \\n\\nC673EV\\n\\nTo begin the survey, click on the link below: http://63.211.208.100/GLOBENetwork/survey.asp\\n\\nYou may also copy this link and paste it into your favorite browser.\\n\\nThank you.\n",
       "4     test                                                                                                                                                                                                                                                                                                                                                                                                                                                                                                                                                                                                                                                                                                                                                                                                                                                                                                                                                                                                                                                                                                                                                                                                                                                                                                                                                                                                                                                                                                                                                                                                                                                                                                                                                                                                                                                                                                                       \n",
       "5     10 North Briarwood Court\\nHouston, Texas  77019\\n\\n713-621-8620\\n\\nThank you,\\nJoannie Williamson\\n\\n\\n\\n\\n\\nTOMSKILLJR@aol.com on 04/24/2001 11:40:03 AM                                                                                                                                                                                                                                                                                                                                                                                                                                                                                                                                                                                                                                                                                                                                                                                                                                                                                                                                                                                                                                                                                                                                                                                                                                                                                                                                                                                                                                                                                                                                                                                                                                                                                                                                                                  \n",
       "6     Karen, heres the version of the PRC memo you should use.  Please call if you have any questions.  SRS                                                                                                                                                                                                                                                                                                                                                                                                                                                                                                                                                                                                                                                                                                                                                                                                                                                                                                                                                                                                                                                                                                                                                                                                                                                                                                                                                                                                                                                                                                                                                                                                                                                                                                                                                                                                                      \n",
       "7     $50,000 is pre-match, so I guess the ultimate goal is $100,000 (Like the poor guy doesn't have enough pressure!).  Mark, this is very generous of you.  Good luck with your ride and I'll see you in LaGrange!  SRS\\n\\n\\n   \\n\\tEnron Energy Services                                                                                                                                                                                                                                                                                                                                                                                                                                                                                                                                                                                                                                                                                                                                                                                                                                                                                                                                                                                                                                                                                                                                                                                                                                                                                                                                                                                                                                                                                                                                                                                                                                                                      \n",
       "8     Confirming 1:00 p.m. meeting on June 12 at the Venetian Resort in Las Vegas.\\n\\nThanks,\\nJoannie Williamson\\n713-345-7774\\n\\n\\n\\n\\n\\n\"Kevin Scott\" <kevinscott@onlinemailbox.net> on 04/25/2001 04:46:18 PM\\nPlease respond to <kevinscott@onlinemailbox.net>                                                                                                                                                                                                                                                                                                                                                                                                                                                                                                                                                                                                                                                                                                                                                                                                                                                                                                                                                                                                                                                                                                                                                                                                                                                                                                                                                                                                                                                                                                                                                                                                                                                              \n",
       "9     Thank you!  SRS\\n\\n\\n\\n\\nKevin Hannon @ ENRON COMMUNICATIONS on 04/23/2001 10:33:09 AM                                                                                                                                                                                                                                                                                                                                                                                                                                                                                                                                                                                                                                                                                                                                                                                                                                                                                                                                                                                                                                                                                                                                                                                                                                                                                                                                                                                                                                                                                                                                                                                                                                                                                                                                                                                                                                     \n",
       "10    Thanks for the pledge, Loretta!  This was most definitely not directed at you - I just wanted each of the assistants to know that I had solicited their executive...again...so I bcc'd the assistants.  Thanks for the very quick turnaround.  SRS                                                                                                                                                                                                                                                                                                                                                                                                                                                                                                                                                                                                                                                                                                                                                                                                                                                                                                                                                                                                                                                                                                                                                                                                                                                                                                                                                                                                                                                                                                                                                                                                                                                                         \n",
       "11    Please let me know if you have any questions.  I will send an e-mail with the in-room fax number tomorrow.                                                                                                                                                                                                                                                                                                                                                                                                                                                                                                                                                                                                                                                                                                                                                                                                                                                                                                                                                                                                                                                                                                                                                                                                                                                                                                                                                                                                                                                                                                                                                                                                                                                                                                                                                                                                                 \n",
       "12    Kevin, I'll have a sedan from Beal's (713.731.9233) pick you up at the Four Seasons and bring you to the facility.  Once you get inside, there will be a check-in table - the ladies manning that table can direct you to Jeff.  Would you like me to have the sedan stand by to tke you to the airport or another destination following the panel (which will end between 9:30 and 9:45)?  Please advise.  Thanks, SRS\\n\\n\\n\\n\\nKevin Compton <KCompton@kpcb.com> on 04/23/2001 09:51:29 AM                                                                                                                                                                                                                                                                                                                                                                                                                                                                                                                                                                                                                                                                                                                                                                                                                                                                                                                                                                                                                                                                                                                                                                                                                                                                                                                                                                                                                               \n",
       "13    Jay,\\n\\nI've always taken a pretty laid back approach to the noncompete when there is little overlap.  Having said that, however, I'd like to keep a \"last veto\" right - just give me a call when you've got something.\\n\\nGood luck to you in the future, Jay.  You'll be missed at Enron.                                                                                                                                                                                                                                                                                                                                                                                                                                                                                                                                                                                                                                                                                                                                                                                                                                                                                                                                                                                                                                                                                                                                                                                                                                                                                                                                                                                                                                                                                                                                                                                                                                \n",
       "14    Shyam, Cindy Olson would be an appropriate person for you to contact within Enron.  You can reach her at 713-853-7418.\\n\\nThank you,\\nJoannie Williamson\\n713-345-7774\\n\\n\\n\\n\\n\"Shyam Giridharadas\" <sgiridha@prismintl.com> on 05/11/2001 08:59:12 AM                                                                                                                                                                                                                                                                                                                                                                                                                                                                                                                                                                                                                                                                                                                                                                                                                                                                                                                                                                                                                                                                                                                                                                                                                                                                                                                                                                                                                                                                                                                                                                                                                                                                    \n",
       "Name: Body, dtype: object"
      ]
     },
     "execution_count": 26,
     "metadata": {},
     "output_type": "execute_result"
    }
   ],
   "source": [
    "enron_email_list_df['Body'].head(15)"
   ]
  },
  {
   "cell_type": "code",
   "execution_count": 27,
   "metadata": {},
   "outputs": [
    {
     "data": {
      "text/plain": [
       "0     Re: EnronOnline Executive Summary for May 15, 2001\n",
       "1     Re: Telephone Call with Jerry Murdock             \n",
       "2     Please Plan to Attend                             \n",
       "3     Stanford/McKinsey GLOBE Survey                    \n",
       "4     test                                              \n",
       "5     Re: Washington Pictures                           \n",
       "6     PRC memo                                          \n",
       "7     Re:                                               \n",
       "8     Re: Information for Jeff Skilling from Kevin Scott\n",
       "9     Re:                                               \n",
       "10    RE:                                               \n",
       "11    FINAL - Nevis Itinerary                           \n",
       "12    RE: Dinner Monday, April 23                       \n",
       "13    Re: My Resignation, and a Question                \n",
       "14    Re: Guidance                                      \n",
       "Name: Subject, dtype: object"
      ]
     },
     "execution_count": 27,
     "metadata": {},
     "output_type": "execute_result"
    }
   ],
   "source": [
    "enron_email_list_df['Subject'].head(15)"
   ]
  },
  {
   "cell_type": "code",
   "execution_count": 28,
   "metadata": {},
   "outputs": [
    {
     "data": {
      "text/plain": [
       "0     ../data/maildir/skilling-j/sent_items/1.  \n",
       "1     ../data/maildir/skilling-j/sent_items/16. \n",
       "2     ../data/maildir/skilling-j/sent_items/110.\n",
       "3     ../data/maildir/skilling-j/sent_items/28. \n",
       "4     ../data/maildir/skilling-j/sent_items/5.  \n",
       "5     ../data/maildir/skilling-j/sent_items/179.\n",
       "6     ../data/maildir/skilling-j/sent_items/22. \n",
       "7     ../data/maildir/skilling-j/sent_items/46. \n",
       "8     ../data/maildir/skilling-j/sent_items/35. \n",
       "9     ../data/maildir/skilling-j/sent_items/38. \n",
       "10    ../data/maildir/skilling-j/sent_items/47. \n",
       "11    ../data/maildir/skilling-j/sent_items/4.  \n",
       "12    ../data/maildir/skilling-j/sent_items/39. \n",
       "13    ../data/maildir/skilling-j/sent_items/23. \n",
       "14    ../data/maildir/skilling-j/sent_items/19. \n",
       "Name: Full_Email_Path, dtype: object"
      ]
     },
     "execution_count": 28,
     "metadata": {},
     "output_type": "execute_result"
    }
   ],
   "source": [
    "enron_email_list_df['Full_Email_Path'].head(15)"
   ]
  },
  {
   "cell_type": "code",
   "execution_count": null,
   "metadata": {},
   "outputs": [],
   "source": []
  }
 ],
 "metadata": {
  "kernelspec": {
   "display_name": "Python 3",
   "language": "python",
   "name": "python3"
  },
  "language_info": {
   "codemirror_mode": {
    "name": "ipython",
    "version": 3
   },
   "file_extension": ".py",
   "mimetype": "text/x-python",
   "name": "python",
   "nbconvert_exporter": "python",
   "pygments_lexer": "ipython3",
   "version": "3.7.1"
  }
 },
 "nbformat": 4,
 "nbformat_minor": 2
}
