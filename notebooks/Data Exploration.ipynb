{
 "cells": [
  {
   "cell_type": "markdown",
   "metadata": {},
   "source": [
    "1. Load data\n",
    "2. Tokenization"
   ]
  },
  {
   "cell_type": "code",
   "execution_count": 121,
   "metadata": {},
   "outputs": [],
   "source": [
    "import pandas as pd\n",
    "import re\n",
    "from nltk.tokenize import word_tokenize, sent_tokenize\n",
    "from nltk.corpus import stopwords\n",
    "import string\n",
    "from wordcloud import WordCloud\n",
    "import matplotlib.pyplot as plt"
   ]
  },
  {
   "cell_type": "code",
   "execution_count": 146,
   "metadata": {},
   "outputs": [],
   "source": [
    "#Load Data produced by Data_Wrangling notebook. \n",
    "PICKLE_LOC = \"../data/dataframes/wrangled_enron_df.pkl\"\n",
    "enron_df = pd.read_pickle(PICKLE_LOC)"
   ]
  },
  {
   "cell_type": "code",
   "execution_count": 147,
   "metadata": {},
   "outputs": [
    {
     "data": {
      "text/html": [
       "<div>\n",
       "<style scoped>\n",
       "    .dataframe tbody tr th:only-of-type {\n",
       "        vertical-align: middle;\n",
       "    }\n",
       "\n",
       "    .dataframe tbody tr th {\n",
       "        vertical-align: top;\n",
       "    }\n",
       "\n",
       "    .dataframe thead th {\n",
       "        text-align: right;\n",
       "    }\n",
       "</style>\n",
       "<table border=\"1\" class=\"dataframe\">\n",
       "  <thead>\n",
       "    <tr style=\"text-align: right;\">\n",
       "      <th></th>\n",
       "      <th>Body</th>\n",
       "      <th>Chain</th>\n",
       "      <th>Date</th>\n",
       "      <th>Email Folder</th>\n",
       "      <th>Employee</th>\n",
       "      <th>From</th>\n",
       "      <th>Full_Email_Path</th>\n",
       "      <th>Message-ID</th>\n",
       "      <th>Signature</th>\n",
       "      <th>Subject</th>\n",
       "      <th>Tokenized_Body</th>\n",
       "      <th>Extractive_Sentences</th>\n",
       "    </tr>\n",
       "  </thead>\n",
       "  <tbody>\n",
       "    <tr>\n",
       "      <th>0</th>\n",
       "      <td>Simon, I was unable to open the attached docum...</td>\n",
       "      <td>:\\tSimone La rose/ENRON@enronXgate on 05/16/20...</td>\n",
       "      <td>2001-05-17 04:18:00</td>\n",
       "      <td>sent_items</td>\n",
       "      <td>skilling-j</td>\n",
       "      <td>jeff.skilling@enron.com</td>\n",
       "      <td>../data/maildir/skilling-j/sent_items/1.</td>\n",
       "      <td>&lt;25701656.1075840162944.JavaMail.evans@thyme&gt;</td>\n",
       "      <td>Thanks,\\nJoannie</td>\n",
       "      <td>Re: EnronOnline Executive Summary for May 15, ...</td>\n",
       "      <td>[simon unable open attached document jeff skil...</td>\n",
       "      <td>[Simon, I was unable to open the attached docu...</td>\n",
       "    </tr>\n",
       "    <tr>\n",
       "      <th>1</th>\n",
       "      <td>Erica, Due to the fact that Jeff is unable to ...</td>\n",
       "      <td>\\t\"'jeff.skilling@enron.com'\" &lt;jeff.skilling@e...</td>\n",
       "      <td>2001-05-14 22:20:00</td>\n",
       "      <td>sent_items</td>\n",
       "      <td>skilling-j</td>\n",
       "      <td>jeff.skilling@enron.com</td>\n",
       "      <td>../data/maildir/skilling-j/sent_items/16.</td>\n",
       "      <td>&lt;8541273.1075840163402.JavaMail.evans@thyme&gt;</td>\n",
       "      <td>None</td>\n",
       "      <td>Re: Telephone Call with Jerry Murdock</td>\n",
       "      <td>[erica due fact jeff unable attend july believ...</td>\n",
       "      <td>[Erica, Due to the fact that Jeff is unable to...</td>\n",
       "    </tr>\n",
       "    <tr>\n",
       "      <th>2</th>\n",
       "      <td>PLEASE PLAN TO ATTEND \"NEW BUSINESS CREATION\" ...</td>\n",
       "      <td>None</td>\n",
       "      <td>2001-08-01 19:25:58</td>\n",
       "      <td>sent_items</td>\n",
       "      <td>skilling-j</td>\n",
       "      <td>jeff.skilling@enron.com</td>\n",
       "      <td>../data/maildir/skilling-j/sent_items/110.</td>\n",
       "      <td>&lt;20911721.1075852686924.JavaMail.evans@thyme&gt;</td>\n",
       "      <td>None</td>\n",
       "      <td>Please Plan to Attend</td>\n",
       "      <td>[please plan attend new business creation tues...</td>\n",
       "      <td>[PLEASE PLAN TO ATTEND \"NEW BUSINESS CREATION\"...</td>\n",
       "    </tr>\n",
       "  </tbody>\n",
       "</table>\n",
       "</div>"
      ],
      "text/plain": [
       "                                                Body  \\\n",
       "0  Simon, I was unable to open the attached docum...   \n",
       "1  Erica, Due to the fact that Jeff is unable to ...   \n",
       "2  PLEASE PLAN TO ATTEND \"NEW BUSINESS CREATION\" ...   \n",
       "\n",
       "                                               Chain                Date  \\\n",
       "0  :\\tSimone La rose/ENRON@enronXgate on 05/16/20... 2001-05-17 04:18:00   \n",
       "1  \\t\"'jeff.skilling@enron.com'\" <jeff.skilling@e... 2001-05-14 22:20:00   \n",
       "2                                               None 2001-08-01 19:25:58   \n",
       "\n",
       "  Email Folder    Employee                     From  \\\n",
       "0   sent_items  skilling-j  jeff.skilling@enron.com   \n",
       "1   sent_items  skilling-j  jeff.skilling@enron.com   \n",
       "2   sent_items  skilling-j  jeff.skilling@enron.com   \n",
       "\n",
       "                              Full_Email_Path  \\\n",
       "0    ../data/maildir/skilling-j/sent_items/1.   \n",
       "1   ../data/maildir/skilling-j/sent_items/16.   \n",
       "2  ../data/maildir/skilling-j/sent_items/110.   \n",
       "\n",
       "                                      Message-ID         Signature  \\\n",
       "0  <25701656.1075840162944.JavaMail.evans@thyme>  Thanks,\\nJoannie   \n",
       "1   <8541273.1075840163402.JavaMail.evans@thyme>              None   \n",
       "2  <20911721.1075852686924.JavaMail.evans@thyme>              None   \n",
       "\n",
       "                                             Subject  \\\n",
       "0  Re: EnronOnline Executive Summary for May 15, ...   \n",
       "1              Re: Telephone Call with Jerry Murdock   \n",
       "2                              Please Plan to Attend   \n",
       "\n",
       "                                      Tokenized_Body  \\\n",
       "0  [simon unable open attached document jeff skil...   \n",
       "1  [erica due fact jeff unable attend july believ...   \n",
       "2  [please plan attend new business creation tues...   \n",
       "\n",
       "                                Extractive_Sentences  \n",
       "0  [Simon, I was unable to open the attached docu...  \n",
       "1  [Erica, Due to the fact that Jeff is unable to...  \n",
       "2  [PLEASE PLAN TO ATTEND \"NEW BUSINESS CREATION\"...  "
      ]
     },
     "execution_count": 147,
     "metadata": {},
     "output_type": "execute_result"
    }
   ],
   "source": [
    "enron_df.head(3)"
   ]
  },
  {
   "cell_type": "code",
   "execution_count": 168,
   "metadata": {},
   "outputs": [
    {
     "name": "stdout",
     "output_type": "stream",
     "text": [
      "Start Date: 1980-01-01 00:00:00\n",
      "End Date: 2001-11-19 21:34:59\n"
     ]
    }
   ],
   "source": [
    "#Look at the range of dates the emails are from. \n",
    "print(\"Start Date: \" + str(enron_df.Date.min()))\n",
    "print(\"End Date: \" + str(enron_df.Date.max()))"
   ]
  },
  {
   "cell_type": "code",
   "execution_count": 134,
   "metadata": {},
   "outputs": [],
   "source": [
    "#Creating word dictionary\n",
    "freq_words = dict()\n",
    "\n",
    "#Itereate through each tokenized sentence and split into words. Keep track of frequency in dictionary. \n",
    "for i, v in enron_df.Tokenized_Body.items():\n",
    "    for sentence in v:    \n",
    "        tokens = word_tokenize(sentence)\n",
    "        for token in tokens:\n",
    "            if token in freq_words:\n",
    "                freq_words[token] += 1 \n",
    "            else:\n",
    "                freq_words[token] = 1"
   ]
  },
  {
   "cell_type": "code",
   "execution_count": 137,
   "metadata": {},
   "outputs": [
    {
     "name": "stdout",
     "output_type": "stream",
     "text": [
      "Unique words: 23,854\n"
     ]
    }
   ],
   "source": [
    "print('Unique words: {:,}'.format(len(freq_words)))"
   ]
  },
  {
   "cell_type": "code",
   "execution_count": 148,
   "metadata": {},
   "outputs": [
    {
     "data": {
      "text/plain": [
       "<matplotlib.axes._subplots.AxesSubplot at 0x7f4a5b004470>"
      ]
     },
     "execution_count": 148,
     "metadata": {},
     "output_type": "execute_result"
    },
    {
     "data": {
      "image/png": "[encoded data removed]",
      "text/plain": [
       "<Figure size 1440x720 with 1 Axes>"
      ]
     },
     "metadata": {
      "needs_background": "light"
     },
     "output_type": "display_data"
    }
   ],
   "source": [
    "word_data = []\n",
    "#Sort dictionary by highest word frequency. \n",
    "for key, value in sorted(freq_words.items(), key=lambda item: item[1], reverse=True):\n",
    "    word_data.append([key, freq_words[key]])\n",
    "\n",
    "#Prepare to plot bar graph of top words. \n",
    "#Create dataframe with Word and Frequency, then sort in Descending order. \n",
    "freq_words_df = pd.DataFrame.from_dict(freq_words, orient='index').reset_index()\n",
    "freq_words_df = freq_words_df.rename(columns={\"index\": \"Word\", 0: \"Frequency\"})\n",
    "freq_words_df = freq_words_df.sort_values(by=['Frequency'],ascending = False)\n",
    "freq_words_df.reset_index(drop = True, inplace=True)\n",
    "freq_words_df.head(30).plot(x='Word', kind='bar', figsize=(20,10))"
   ]
  },
  {
   "cell_type": "code",
   "execution_count": null,
   "metadata": {},
   "outputs": [],
   "source": []
  },
  {
   "cell_type": "markdown",
   "metadata": {},
   "source": []
  },
  {
   "cell_type": "markdown",
   "metadata": {},
   "source": [
    "Taking a look at some specific email examples"
   ]
  },
  {
   "cell_type": "code",
   "execution_count": 164,
   "metadata": {},
   "outputs": [
    {
     "data": {
      "text/plain": [
       "'Simon, I was unable to open the attached document for Jeff Skilling. Could you please resend.'"
      ]
     },
     "execution_count": 164,
     "metadata": {},
     "output_type": "execute_result"
    }
   ],
   "source": [
    "email_num = 0\n",
    "enron_df.iloc[email_num].Body"
   ]
  },
  {
   "cell_type": "code",
   "execution_count": 165,
   "metadata": {},
   "outputs": [
    {
     "data": {
      "text/plain": [
       "'Thanks,\\nJoannie'"
      ]
     },
     "execution_count": 165,
     "metadata": {},
     "output_type": "execute_result"
    }
   ],
   "source": [
    "enron_df.iloc[email_num].Signature"
   ]
  },
  {
   "cell_type": "code",
   "execution_count": 166,
   "metadata": {},
   "outputs": [
    {
     "data": {
      "text/plain": [
       "':\\tSimone La rose/ENRON@enronXgate on 05/16/2001 04:52 PM\\nTo:\\tSunil Abraham/ENRON@enronXgate, Cliff Baxter/ENRON@enronXgate, Sally Beck/ENRON@enronXgate, Tim Belden/ENRON@enronXgate, Philippe A Bibi/ENRON@enronXgate, Raymond Bowen/ENRON@enronXgate, Debbie R Brackett/ENRON@enronXgate, William S Bradford/ENRON@enronXgate, Michael Bridges/ENRON@enronXgate, Michael R Brown/LON/ECT@ECT, Lydia Cannon/ENRON@enronXgate, Bob Crane/ENRON@enronXgate, John Cummings/ENRON@enronXgate, Bryan Deluca/ENRON@enronXgate, Karen Denne/Corp/Enron@ENRON, Jennifer deBoisblanc Denny/ENRON@enronXgate, Daniel Diamond/ENRON@enronXgate, Marc Eichmann/ENRON@enronXgate, Jim Fallon/Enron Communications@Enron Communications, Jay Fitzgerald/NY/ECT@ECT, David Forster/ENRON@enronXgate, Mark Frevert/ENRON@enronXgate, Bruce Garner/LON/ECT@ECT, Paul Goddard/EU/Enron@Enron, Joe Gold/LON/ECT@ECT, Amita Gosalia/LON/ECT@ECT, Mark E Haedicke/HOU/ECT@ECT, Jeff Harbert/ENRON@enronXgate, Greg Hermans/ENRON@enronXgate, Kimberly Hillis/ENRON@enronXgate, Joseph P Hirl/AP/ENRON@ENRON, Rahil Jafry/ENRON@enronXgate, Adam Johnson/ENRON@enronXgate, Tim R Jones/EU/Enron@Enron, Steven J Kean/NA/Enron@Enron, Louise Kitchen/HOU/ECT@ECT, Mark Koenig/Corp/Enron@ENRON, Kenneth Lay/Corp/Enron@ENRON, David Leboe/ENRON@enronXgate, Richard Lewis/LON/ECT@ECT, Thor Lien/Enron@EUEnronXgate, George Mcclellan/ENRON@enronXgate, Mike McConnell/HOU/ECT@ECT, Dawn McDonald/ENRON@enronXgate, Kevin McGowan/ENRON@enronXgate, Jeffrey McMahon/ENRON@enronXgate, Vance Meyer/NA/Enron@ENRON, Torrey Moorer/ENRON@enronXgate, Matt Motsinger/ENRON@enronXgate, John L Nowlan/ENRON@enronXgate, Leonardo Pacheco/ENRON@enronXgate, Mark Palmer/Corp/Enron@ENRON, Mark S Palmer/ENRON@enronXgate, Meredith Philipp/Corp/Enron@ENRON, Mark Pickering/Enron@EUEnronXgate, Savita Puthigai/ENRON@enronXgate, Paul Quilkey/ENRON_DEVELOPMENT@ENRON_DEVELOPMENT, Suresh Raghavan/ENRON@enronXgate, Daniel Reck/ENRON@enronXgate, Paula Rieker/ENRON@enronXgate, Jennifer Rosado/ENRON@enronXgate, Justin Rostant/ENRON@enronXgate, Tammie Schoppe/HOU/ECT@ECT, Stephanie Segura/ENRON@enronXgate, Kal Shah/ENRON@enronXgate, Jeffrey A Shankman/ENRON@enronXgate, John Sherriff/LON/ECT@ECT, Bob Shults/ENRON@enronXgate, Jeff Skilling/Corp/Enron@ENRON, Tina Spiller/ENRON@enronXgate, Tara Sweitzer/ENRON@enronXgate, Mark Taylor/HOU/ECT@ECT, Eric Thode/Corp/Enron@ENRON, Sheri Thomas/ENRON@enronXgate, Laura Valencia/ENRON@enronXgate, Greg Whalley/HOU/ECT@ECT, Andy Zipper/ENRON@enronXgate\\ncc:\\t \\n\\nSubject:\\tEnronOnline Executive Summary for May 15, 2001\\n\\nFollowing please find the Daily EnronOnline Executive Summary.\\n\\n \\n\\n\\n\\n\\n\\n\\n\\n\\n\\n<Embedded Picture (Metafile)>'"
      ]
     },
     "execution_count": 166,
     "metadata": {},
     "output_type": "execute_result"
    }
   ],
   "source": [
    "enron_df.iloc[email_num].Chain"
   ]
  },
  {
   "cell_type": "code",
   "execution_count": null,
   "metadata": {},
   "outputs": [],
   "source": []
  }
 ],
 "metadata": {
  "kernelspec": {
   "display_name": "Python 3",
   "language": "python",
   "name": "python3"
  },
  "language_info": {
   "codemirror_mode": {
    "name": "ipython",
    "version": 3
   },
   "file_extension": ".py",
   "mimetype": "text/x-python",
   "name": "python",
   "nbconvert_exporter": "python",
   "pygments_lexer": "ipython3",
   "version": "3.7.1"
  }
 },
 "nbformat": 4,
 "nbformat_minor": 2
}
