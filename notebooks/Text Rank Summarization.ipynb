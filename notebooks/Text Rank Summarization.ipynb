{
 "cells": [
  {
   "cell_type": "markdown",
   "metadata": {},
   "source": [
    "This notebook follows the tutorial found at:\n",
    "https://www.analyticsvidhya.com/blog/2018/11/introduction-text-summarization-textrank-python/\n"
   ]
  },
  {
   "cell_type": "code",
   "execution_count": 1,
   "metadata": {},
   "outputs": [],
   "source": [
    "import mailparser\n",
    "import sys\n",
    "from os import listdir\n",
    "from os.path import isfile, join\n",
    "import pandas as pd\n",
    "import email\n",
    "import numpy as np\n",
    "from talon.signature.bruteforce import extract_signature"
   ]
  },
  {
   "cell_type": "markdown",
   "metadata": {},
   "source": [
    "Following code is cleanup described in data wrangling notebook"
   ]
  },
  {
   "cell_type": "code",
   "execution_count": 2,
   "metadata": {},
   "outputs": [],
   "source": [
    "def clean_body(mail_body):\n",
    "    delimiters = [\"-----Original Message-----\",\"To:\",\"From\"]\n",
    "    \n",
    "    #Trying to split string by biggest delimiter. \n",
    "    old_len = sys.maxsize\n",
    "    \n",
    "    for delimiter in delimiters:\n",
    "        split_body = mail_body.split(delimiter,1)\n",
    "        new_len = len(split_body[0])\n",
    "        if new_len <= old_len:\n",
    "            old_len = new_len\n",
    "            final_split = split_body\n",
    "            \n",
    "    #Then pull chain message\n",
    "    if (len(final_split) == 1):\n",
    "        mail_chain = None\n",
    "    else:\n",
    "        mail_chain = final_split[1] \n",
    "    \n",
    "    #The following uses Talon to try to get a clean body, and seperate out the rest of the email. \n",
    "    clean_body, sig = extract_signature(final_split[0])\n",
    "    \n",
    "    return {'Body': clean_body, 'Chain' : mail_chain, 'Signature': sig}"
   ]
  },
  {
   "cell_type": "markdown",
   "metadata": {},
   "source": [
    "The following function processes the email and appends the parsed pieces into a pandas dataframe. We need to start with a list, that will represent each row of the dataframe. Each item in the row is a dict of parsed email values.\n"
   ]
  },
  {
   "cell_type": "code",
   "execution_count": 3,
   "metadata": {},
   "outputs": [],
   "source": [
    "enron_email_list = []\n",
    "def process_email(email_path, employee, folder, email_name):\n",
    "    mail = mailparser.parse_from_file(email_path)\n",
    "    \n",
    "    full_body = email.message_from_string(mail.body)\n",
    "    #Only getting first payload\n",
    "    if full_body.is_multipart():\n",
    "        return\n",
    "    else:\n",
    "        mail_body = full_body.get_payload()    \n",
    "    \n",
    "    split_body = clean_body(mail_body)\n",
    "    headers = mail.headers\n",
    "    #Reformating date to be more pandas readable\n",
    "    date_time = headers.get('Date')\n",
    "    \n",
    "    if date_time:\n",
    "        date_time = email.utils.format_datetime(email.utils.parsedate_to_datetime(date_time))\n",
    "    \n",
    "    email_dict = {\n",
    "                \"Employee\" : employee,\n",
    "                \"Email Folder\": folder,\n",
    "                \"Message-ID\": headers.get('Message-ID'),\n",
    "                \"Date\" : date_time,\n",
    "                \"From\" : headers.get('From'),\n",
    "                \"Subject\": headers.get('Subject'),\n",
    "                \"Body\" : split_body['Body'],\n",
    "                \"Chain\" : split_body['Chain'],\n",
    "                \"Signature\": split_body['Signature'],\n",
    "                \"Full_Email_Path\" : email_path #for debug purposes. \n",
    "    }\n",
    "    \n",
    "    #Append row to dataframe. \n",
    "    enron_email_list.append(email_dict)"
   ]
  },
  {
   "cell_type": "markdown",
   "metadata": {},
   "source": [
    "Now go through each person's inbox then load up each email to be cleaned and added to the dataframe. "
   ]
  },
  {
   "cell_type": "code",
   "execution_count": 4,
   "metadata": {},
   "outputs": [
    {
     "data": {
      "text/html": [
       "<div>\n",
       "<style scoped>\n",
       "    .dataframe tbody tr th:only-of-type {\n",
       "        vertical-align: middle;\n",
       "    }\n",
       "\n",
       "    .dataframe tbody tr th {\n",
       "        vertical-align: top;\n",
       "    }\n",
       "\n",
       "    .dataframe thead th {\n",
       "        text-align: right;\n",
       "    }\n",
       "</style>\n",
       "<table border=\"1\" class=\"dataframe\">\n",
       "  <thead>\n",
       "    <tr style=\"text-align: right;\">\n",
       "      <th></th>\n",
       "      <th>Body</th>\n",
       "      <th>Chain</th>\n",
       "      <th>Date</th>\n",
       "      <th>Email Folder</th>\n",
       "      <th>Employee</th>\n",
       "      <th>From</th>\n",
       "      <th>Full_Email_Path</th>\n",
       "      <th>Message-ID</th>\n",
       "      <th>Signature</th>\n",
       "      <th>Subject</th>\n",
       "    </tr>\n",
       "  </thead>\n",
       "  <tbody>\n",
       "    <tr>\n",
       "      <th>0</th>\n",
       "      <td>Simon, I was unable to open the attached docum...</td>\n",
       "      <td>:\\tSimone La rose/ENRON@enronXgate on 05/16/20...</td>\n",
       "      <td>Wed, 16 May 2001 21:18:00 -0700</td>\n",
       "      <td>sent_items</td>\n",
       "      <td>skilling-j</td>\n",
       "      <td>jeff.skilling@enron.com</td>\n",
       "      <td>../data/maildir/skilling-j/sent_items/1.</td>\n",
       "      <td>&lt;25701656.1075840162944.JavaMail.evans@thyme&gt;</td>\n",
       "      <td>Thanks,\\nJoannie</td>\n",
       "      <td>Re: EnronOnline Executive Summary for May 15, ...</td>\n",
       "    </tr>\n",
       "    <tr>\n",
       "      <th>1</th>\n",
       "      <td>Erica,\\n\\nDue to the fact that Jeff is unable ...</td>\n",
       "      <td>\\t\"'jeff.skilling@enron.com'\" &lt;jeff.skilling@e...</td>\n",
       "      <td>Mon, 14 May 2001 15:20:00 -0700</td>\n",
       "      <td>sent_items</td>\n",
       "      <td>skilling-j</td>\n",
       "      <td>jeff.skilling@enron.com</td>\n",
       "      <td>../data/maildir/skilling-j/sent_items/16.</td>\n",
       "      <td>&lt;8541273.1075840163402.JavaMail.evans@thyme&gt;</td>\n",
       "      <td>None</td>\n",
       "      <td>Re: Telephone Call with Jerry Murdock</td>\n",
       "    </tr>\n",
       "    <tr>\n",
       "      <th>2</th>\n",
       "      <td>PLEASE  PLAN  TO  ATTEND\\n\\n\"NEW  BUSINESS  CR...</td>\n",
       "      <td>None</td>\n",
       "      <td>Wed, 01 Aug 2001 12:25:58 -0700</td>\n",
       "      <td>sent_items</td>\n",
       "      <td>skilling-j</td>\n",
       "      <td>jeff.skilling@enron.com</td>\n",
       "      <td>../data/maildir/skilling-j/sent_items/110.</td>\n",
       "      <td>&lt;20911721.1075852686924.JavaMail.evans@thyme&gt;</td>\n",
       "      <td>None</td>\n",
       "      <td>Please Plan to Attend</td>\n",
       "    </tr>\n",
       "    <tr>\n",
       "      <th>3</th>\n",
       "      <td>The Stanford Business School, in collaboration...</td>\n",
       "      <td>None</td>\n",
       "      <td>Thu, 03 May 2001 18:30:00 -0700</td>\n",
       "      <td>sent_items</td>\n",
       "      <td>skilling-j</td>\n",
       "      <td>jeff.skilling@enron.com</td>\n",
       "      <td>../data/maildir/skilling-j/sent_items/28.</td>\n",
       "      <td>&lt;20013668.1075840163679.JavaMail.evans@thyme&gt;</td>\n",
       "      <td>None</td>\n",
       "      <td>Stanford/McKinsey GLOBE Survey</td>\n",
       "    </tr>\n",
       "    <tr>\n",
       "      <th>4</th>\n",
       "      <td>test</td>\n",
       "      <td>None</td>\n",
       "      <td>Tue, 15 May 2001 14:09:00 -0700</td>\n",
       "      <td>sent_items</td>\n",
       "      <td>skilling-j</td>\n",
       "      <td>jeff.skilling@enron.com</td>\n",
       "      <td>../data/maildir/skilling-j/sent_items/5.</td>\n",
       "      <td>&lt;30255134.1075840163074.JavaMail.evans@thyme&gt;</td>\n",
       "      <td>None</td>\n",
       "      <td>test</td>\n",
       "    </tr>\n",
       "  </tbody>\n",
       "</table>\n",
       "</div>"
      ],
      "text/plain": [
       "                                                Body  \\\n",
       "0  Simon, I was unable to open the attached docum...   \n",
       "1  Erica,\\n\\nDue to the fact that Jeff is unable ...   \n",
       "2  PLEASE  PLAN  TO  ATTEND\\n\\n\"NEW  BUSINESS  CR...   \n",
       "3  The Stanford Business School, in collaboration...   \n",
       "4                                               test   \n",
       "\n",
       "                                               Chain  \\\n",
       "0  :\\tSimone La rose/ENRON@enronXgate on 05/16/20...   \n",
       "1  \\t\"'jeff.skilling@enron.com'\" <jeff.skilling@e...   \n",
       "2                                               None   \n",
       "3                                               None   \n",
       "4                                               None   \n",
       "\n",
       "                              Date Email Folder    Employee  \\\n",
       "0  Wed, 16 May 2001 21:18:00 -0700   sent_items  skilling-j   \n",
       "1  Mon, 14 May 2001 15:20:00 -0700   sent_items  skilling-j   \n",
       "2  Wed, 01 Aug 2001 12:25:58 -0700   sent_items  skilling-j   \n",
       "3  Thu, 03 May 2001 18:30:00 -0700   sent_items  skilling-j   \n",
       "4  Tue, 15 May 2001 14:09:00 -0700   sent_items  skilling-j   \n",
       "\n",
       "                      From                             Full_Email_Path  \\\n",
       "0  jeff.skilling@enron.com    ../data/maildir/skilling-j/sent_items/1.   \n",
       "1  jeff.skilling@enron.com   ../data/maildir/skilling-j/sent_items/16.   \n",
       "2  jeff.skilling@enron.com  ../data/maildir/skilling-j/sent_items/110.   \n",
       "3  jeff.skilling@enron.com   ../data/maildir/skilling-j/sent_items/28.   \n",
       "4  jeff.skilling@enron.com    ../data/maildir/skilling-j/sent_items/5.   \n",
       "\n",
       "                                      Message-ID         Signature  \\\n",
       "0  <25701656.1075840162944.JavaMail.evans@thyme>  Thanks,\\nJoannie   \n",
       "1   <8541273.1075840163402.JavaMail.evans@thyme>              None   \n",
       "2  <20911721.1075852686924.JavaMail.evans@thyme>              None   \n",
       "3  <20013668.1075840163679.JavaMail.evans@thyme>              None   \n",
       "4  <30255134.1075840163074.JavaMail.evans@thyme>              None   \n",
       "\n",
       "                                             Subject  \n",
       "0  Re: EnronOnline Executive Summary for May 15, ...  \n",
       "1              Re: Telephone Call with Jerry Murdock  \n",
       "2                              Please Plan to Attend  \n",
       "3                     Stanford/McKinsey GLOBE Survey  \n",
       "4                                               test  "
      ]
     },
     "execution_count": 4,
     "metadata": {},
     "output_type": "execute_result"
    }
   ],
   "source": [
    "mail_dir = '../data/maildir/'\n",
    "mailbox = \"skilling-j\" #testing\n",
    "#mailboxes = listdir(mail_dir)\n",
    "\n",
    "#for mailbox in mailboxes:\n",
    "inbox = listdir(mail_dir + mailbox)\n",
    "for folder in inbox:\n",
    "    path = mail_dir + mailbox + \"/\" + folder\n",
    "    emails = listdir(path)\n",
    "    for single_email in emails:\n",
    "        full_path = path + \"/\" + single_email\n",
    "        process_email(full_path, mailbox, folder, single_email)\n",
    "enron_email_list_df = pd.DataFrame(enron_email_list)\n",
    "enron_email_list_df.head()"
   ]
  },
  {
   "cell_type": "markdown",
   "metadata": {},
   "source": [
    "Need to convert date to pandas datetime. "
   ]
  },
  {
   "cell_type": "code",
   "execution_count": 5,
   "metadata": {},
   "outputs": [],
   "source": [
    "enron_email_list_df['Date'] = pd.to_datetime(enron_email_list_df.Date)"
   ]
  },
  {
   "cell_type": "code",
   "execution_count": 6,
   "metadata": {},
   "outputs": [
    {
     "data": {
      "text/plain": [
       "Body                       object\n",
       "Chain                      object\n",
       "Date               datetime64[ns]\n",
       "Email Folder               object\n",
       "Employee                   object\n",
       "From                       object\n",
       "Full_Email_Path            object\n",
       "Message-ID                 object\n",
       "Signature                  object\n",
       "Subject                    object\n",
       "dtype: object"
      ]
     },
     "execution_count": 6,
     "metadata": {},
     "output_type": "execute_result"
    }
   ],
   "source": [
    "enron_email_list_df.dtypes"
   ]
  },
  {
   "cell_type": "markdown",
   "metadata": {},
   "source": [
    "Describing the table shows that the Subject column has a large amount of blanks that should be set to null. All the other columns seem to make sense. "
   ]
  },
  {
   "cell_type": "code",
   "execution_count": 7,
   "metadata": {},
   "outputs": [
    {
     "data": {
      "text/html": [
       "<div>\n",
       "<style scoped>\n",
       "    .dataframe tbody tr th:only-of-type {\n",
       "        vertical-align: middle;\n",
       "    }\n",
       "\n",
       "    .dataframe tbody tr th {\n",
       "        vertical-align: top;\n",
       "    }\n",
       "\n",
       "    .dataframe thead th {\n",
       "        text-align: right;\n",
       "    }\n",
       "</style>\n",
       "<table border=\"1\" class=\"dataframe\">\n",
       "  <thead>\n",
       "    <tr style=\"text-align: right;\">\n",
       "      <th></th>\n",
       "      <th>Body</th>\n",
       "      <th>Chain</th>\n",
       "      <th>Date</th>\n",
       "      <th>Email Folder</th>\n",
       "      <th>Employee</th>\n",
       "      <th>From</th>\n",
       "      <th>Full_Email_Path</th>\n",
       "      <th>Message-ID</th>\n",
       "      <th>Signature</th>\n",
       "      <th>Subject</th>\n",
       "    </tr>\n",
       "  </thead>\n",
       "  <tbody>\n",
       "    <tr>\n",
       "      <th>count</th>\n",
       "      <td>4139</td>\n",
       "      <td>1349</td>\n",
       "      <td>4139</td>\n",
       "      <td>4139</td>\n",
       "      <td>4139</td>\n",
       "      <td>4139</td>\n",
       "      <td>4139</td>\n",
       "      <td>4139</td>\n",
       "      <td>643</td>\n",
       "      <td>4139</td>\n",
       "    </tr>\n",
       "    <tr>\n",
       "      <th>unique</th>\n",
       "      <td>2386</td>\n",
       "      <td>684</td>\n",
       "      <td>2506</td>\n",
       "      <td>12</td>\n",
       "      <td>1</td>\n",
       "      <td>919</td>\n",
       "      <td>4139</td>\n",
       "      <td>4139</td>\n",
       "      <td>243</td>\n",
       "      <td>1960</td>\n",
       "    </tr>\n",
       "    <tr>\n",
       "      <th>top</th>\n",
       "      <td>The report named: Violation/Notification Memo ...</td>\n",
       "      <td>All Enron Worldwide\\ncc:  \\nSubject: Successi...</td>\n",
       "      <td>2000-07-27 14:31:00</td>\n",
       "      <td>inbox</td>\n",
       "      <td>skilling-j</td>\n",
       "      <td>sherri.sera@enron.com</td>\n",
       "      <td>../data/maildir/skilling-j/notes_inbox/66.</td>\n",
       "      <td>&lt;16800043.1075863609768.JavaMail.evans@thyme&gt;</td>\n",
       "      <td>Regards,\\nSherri Sera\\nAssistant to Jeff Skill...</td>\n",
       "      <td></td>\n",
       "    </tr>\n",
       "    <tr>\n",
       "      <th>freq</th>\n",
       "      <td>42</td>\n",
       "      <td>14</td>\n",
       "      <td>8</td>\n",
       "      <td>1252</td>\n",
       "      <td>4139</td>\n",
       "      <td>662</td>\n",
       "      <td>1</td>\n",
       "      <td>1</td>\n",
       "      <td>56</td>\n",
       "      <td>198</td>\n",
       "    </tr>\n",
       "    <tr>\n",
       "      <th>first</th>\n",
       "      <td>NaN</td>\n",
       "      <td>NaN</td>\n",
       "      <td>1980-01-01 00:00:00</td>\n",
       "      <td>NaN</td>\n",
       "      <td>NaN</td>\n",
       "      <td>NaN</td>\n",
       "      <td>NaN</td>\n",
       "      <td>NaN</td>\n",
       "      <td>NaN</td>\n",
       "      <td>NaN</td>\n",
       "    </tr>\n",
       "    <tr>\n",
       "      <th>last</th>\n",
       "      <td>NaN</td>\n",
       "      <td>NaN</td>\n",
       "      <td>2001-11-19 21:34:59</td>\n",
       "      <td>NaN</td>\n",
       "      <td>NaN</td>\n",
       "      <td>NaN</td>\n",
       "      <td>NaN</td>\n",
       "      <td>NaN</td>\n",
       "      <td>NaN</td>\n",
       "      <td>NaN</td>\n",
       "    </tr>\n",
       "  </tbody>\n",
       "</table>\n",
       "</div>"
      ],
      "text/plain": [
       "                                                     Body  \\\n",
       "count                                                4139   \n",
       "unique                                               2386   \n",
       "top     The report named: Violation/Notification Memo ...   \n",
       "freq                                                   42   \n",
       "first                                                 NaN   \n",
       "last                                                  NaN   \n",
       "\n",
       "                                                    Chain  \\\n",
       "count                                                1349   \n",
       "unique                                                684   \n",
       "top      All Enron Worldwide\\ncc:  \\nSubject: Successi...   \n",
       "freq                                                   14   \n",
       "first                                                 NaN   \n",
       "last                                                  NaN   \n",
       "\n",
       "                       Date Email Folder    Employee                   From  \\\n",
       "count                  4139         4139        4139                   4139   \n",
       "unique                 2506           12           1                    919   \n",
       "top     2000-07-27 14:31:00        inbox  skilling-j  sherri.sera@enron.com   \n",
       "freq                      8         1252        4139                    662   \n",
       "first   1980-01-01 00:00:00          NaN         NaN                    NaN   \n",
       "last    2001-11-19 21:34:59          NaN         NaN                    NaN   \n",
       "\n",
       "                                   Full_Email_Path  \\\n",
       "count                                         4139   \n",
       "unique                                        4139   \n",
       "top     ../data/maildir/skilling-j/notes_inbox/66.   \n",
       "freq                                             1   \n",
       "first                                          NaN   \n",
       "last                                           NaN   \n",
       "\n",
       "                                           Message-ID  \\\n",
       "count                                            4139   \n",
       "unique                                           4139   \n",
       "top     <16800043.1075863609768.JavaMail.evans@thyme>   \n",
       "freq                                                1   \n",
       "first                                             NaN   \n",
       "last                                              NaN   \n",
       "\n",
       "                                                Signature Subject  \n",
       "count                                                 643    4139  \n",
       "unique                                                243    1960  \n",
       "top     Regards,\\nSherri Sera\\nAssistant to Jeff Skill...          \n",
       "freq                                                   56     198  \n",
       "first                                                 NaN     NaN  \n",
       "last                                                  NaN     NaN  "
      ]
     },
     "execution_count": 7,
     "metadata": {},
     "output_type": "execute_result"
    }
   ],
   "source": [
    "enron_email_list_df.describe()"
   ]
  },
  {
   "cell_type": "markdown",
   "metadata": {},
   "source": [
    "All the blanks will be replaced with NaN to keep values consistent."
   ]
  },
  {
   "cell_type": "code",
   "execution_count": 8,
   "metadata": {},
   "outputs": [],
   "source": [
    "enron_email_list_df = enron_email_list_df.replace('',np.NaN)"
   ]
  },
  {
   "cell_type": "code",
   "execution_count": 9,
   "metadata": {},
   "outputs": [
    {
     "name": "stdout",
     "output_type": "stream",
     "text": [
      "<class 'pandas.core.frame.DataFrame'>\n",
      "RangeIndex: 4139 entries, 0 to 4138\n",
      "Data columns (total 10 columns):\n",
      "Body               4115 non-null object\n",
      "Chain              1348 non-null object\n",
      "Date               4139 non-null datetime64[ns]\n",
      "Email Folder       4139 non-null object\n",
      "Employee           4139 non-null object\n",
      "From               4139 non-null object\n",
      "Full_Email_Path    4139 non-null object\n",
      "Message-ID         4139 non-null object\n",
      "Signature          643 non-null object\n",
      "Subject            3941 non-null object\n",
      "dtypes: datetime64[ns](1), object(9)\n",
      "memory usage: 323.4+ KB\n"
     ]
    }
   ],
   "source": [
    "enron_email_list_df.info()"
   ]
  },
  {
   "cell_type": "markdown",
   "metadata": {},
   "source": [
    "Taking a look at some examples."
   ]
  },
  {
   "cell_type": "markdown",
   "metadata": {},
   "source": [
    "Checking earliest and latest date. "
   ]
  },
  {
   "cell_type": "code",
   "execution_count": 10,
   "metadata": {},
   "outputs": [
    {
     "name": "stdout",
     "output_type": "stream",
     "text": [
      "1980-01-01 00:00:00\n",
      "2001-11-19 21:34:59\n"
     ]
    }
   ],
   "source": [
    "print(enron_email_list_df.Date.min())\n",
    "print(enron_email_list_df.Date.max())"
   ]
  },
  {
   "cell_type": "code",
   "execution_count": 11,
   "metadata": {},
   "outputs": [],
   "source": [
    "start_date = '2001-10-01 00:00:00'\n",
    "end_date = '2001-10-14 23:59:59'\n",
    "summarization_mask = (enron_email_list_df['Date'] >= start_date) & (enron_email_list_df['Date'] <= end_date)\n",
    "enron_summary_test = enron_email_list_df.loc[summarization_mask]\n"
   ]
  },
  {
   "cell_type": "markdown",
   "metadata": {},
   "source": [
    "Importing NLP libraries."
   ]
  },
  {
   "cell_type": "code",
   "execution_count": 12,
   "metadata": {},
   "outputs": [],
   "source": [
    "import nltk\n",
    "from nltk.tokenize import sent_tokenize\n",
    "import re\n",
    "from nltk.corpus import stopwords\n",
    "from sklearn.metrics.pairwise import cosine_similarity\n",
    "import networkx as nx\n",
    "\n",
    "#one time executions\n",
    "#nltk.download('punkt')\n",
    "#nltk.download('stopwords')\n",
    "#! wget http://nlp.stanford.edu/data/glove.6B.zip\n",
    "#! unzip glove*.zip\n"
   ]
  },
  {
   "cell_type": "code",
   "execution_count": 13,
   "metadata": {},
   "outputs": [],
   "source": [
    "#This function removes stopwords\n",
    "def remove_stopwords(sen):\n",
    "    sen_new = \" \".join([i for i in sen if i not in stop_words])\n",
    "    return sen_new"
   ]
  },
  {
   "cell_type": "code",
   "execution_count": 14,
   "metadata": {},
   "outputs": [],
   "source": [
    "#Splitting the text in emails into sentences\n",
    "sentences = []\n",
    "for s in enron_summary_test['Body']:\n",
    "    sentences.append(sent_tokenize(s))\n",
    "sentences = [y for x in sentences for y in x]"
   ]
  },
  {
   "cell_type": "code",
   "execution_count": 15,
   "metadata": {},
   "outputs": [
    {
     "data": {
      "text/plain": [
       "['Please ignore.',\n",
       " '_________________________________________________________________\\nGet your FREE download of MSN Explorer at http://explorer.msn.com/intl.asp',\n",
       " 'Good Monday Morning - Comments',\n",
       " 'During the weekend of October 6 and 7, 2001 the Enterprise Storage Team will be migrating all production users off the current hardware (Solar) that houses their home and application directories (no production databases are affected, but client software will be) to new hardware.',\n",
       " 'This migration requires a total system outage of approximately 6 hours.']"
      ]
     },
     "execution_count": 15,
     "metadata": {},
     "output_type": "execute_result"
    }
   ],
   "source": [
    "sentences[:5]"
   ]
  },
  {
   "cell_type": "code",
   "execution_count": 16,
   "metadata": {},
   "outputs": [],
   "source": [
    "#removing punctuation, numbers and special characters. Then lowercasing. \n",
    "clean_sentences = pd.Series(sentences).str.replace(\"[^a-zA-Z]\", \" \")\n",
    "clean_sentences = [s.lower() for s in clean_sentences]\n",
    "stop_words = stopwords.words('english')\n",
    "clean_sentences = [remove_stopwords(r.split()) for r in clean_sentences]"
   ]
  },
  {
   "cell_type": "code",
   "execution_count": 17,
   "metadata": {},
   "outputs": [],
   "source": [
    "#Extract word vectors\n",
    "word_embeddings = {}\n",
    "f = open('glove.6B.100d.txt', encoding='utf-8')\n",
    "for line in f:\n",
    "    values = line.split()\n",
    "    word = values[0]\n",
    "    coefs = np.asarray(values[1:], dtype='float32')\n",
    "    word_embeddings[word] = coefs\n",
    "f.close()"
   ]
  },
  {
   "cell_type": "code",
   "execution_count": 18,
   "metadata": {},
   "outputs": [],
   "source": [
    "sentence_vectors = []\n",
    "for i in clean_sentences:\n",
    "  if len(i) != 0:\n",
    "    v = sum([word_embeddings.get(w, np.zeros((100,))) for w in i.split()])/(len(i.split())+0.001)\n",
    "  else:\n",
    "    v = np.zeros((100,))\n",
    "  sentence_vectors.append(v)"
   ]
  },
  {
   "cell_type": "code",
   "execution_count": 19,
   "metadata": {},
   "outputs": [
    {
     "data": {
      "text/plain": [
       "1167"
      ]
     },
     "execution_count": 19,
     "metadata": {},
     "output_type": "execute_result"
    }
   ],
   "source": [
    "len(sentence_vectors)"
   ]
  },
  {
   "cell_type": "code",
   "execution_count": 20,
   "metadata": {},
   "outputs": [
    {
     "name": "stdout",
     "output_type": "stream",
     "text": [
      "[IMAGE]     EDITORIAL [IMAGE] A Focus on the latest developments in Europe   ARTICLES [IMAGE] European Utility Sector: Survival of the Fittest Through Mergers & Acquisition [IMAGE] EU Deregulation: Out of Chaos Comes Order   NEWS ROUND UP [IMAGE] Commodities Now honours Women in the Energy Industry  [IMAGE] SPL WorldGroup Supports Siebel 7 for Competitive Energy Markets Worldwide >  [IMAGE] BG Enters, Enron Leaves Indian Upstream Market in $388 Million Deal  [IMAGE] Congress Puts Wind Energy Tax Credit Back on the Table  [IMAGE] e-Acumen launches WeatherBook, a breakthrough weather risk management platform with industry-leading analytics  [IMAGE] Two New WindPower Projects Deliver Renewable Energy to California; Expected to Produce Enough Energy to Power More Than 40,000 Homes  [IMAGE] The Structure Group named Houston's sixth fastest-growing private company at annual Houston 100\n",
      " awards luncheon    EVENTS [IMAGE]  Eyeforenergy Asia 2001   [IMAGE]  Green Convention 2001   [IMAGE]  EEO Europe - Energy Trading in the New Economy   [IMAGE]  Emissions Trading 2002   [IMAGE]  Weather Trading 2002     SUBSCRIBE   Please enter your email address below to subscribe to the EyeForEnergy newsletter.\n",
      "- full story     Previous Saturday's interviews     THEMES  PDVSA's Petroleum Education program - Story  Previous Themes      SOCIAL ROLE OF BUSINESS  CITGO: Donate $1 million worth of fuel for disaster relief Sept 21 -Full story   Previous stories      ENVIROMENT  Petrozuata preseted results on clean air in its operational areas [IMAGE] Julio Rodr?guez, gerente de (ASHI) de Petrozuata PETROLEUMWORLD  Caracas, Sep 21- Story     To received PetroleumworldWeekly Review click to suscribe     For daily Energy, Oil & Gas information www.petroleumworld.com   If you do not want to received this newsletter, or if you want to make some comments or suggestions,  please send us a reply message   [IMAGE]\n",
      "Work environment:\n",
      "---\tpay and benefits\n",
      "---   true meritocracy\n",
      "---   unlimited opportunities\n",
      "\n",
      "_________________________________________________________________________________________\n",
      "\n",
      "The results of our survey confirmed for the Management Committee and me the great things you feel about Enron and also what you see as the issues we must address to move Enron forward.\n",
      "While analysts continue to be\n",
      "optimistic about B2B adoption, despite toning down their projections during\n",
      "the last two quarters, actual adoption and utilization rates have\n",
      "disappointed the investment community...\n",
      "Read more here: http://www.eyeforenergy.com/content.asp?news=21560\n",
      "\n",
      "\n",
      "EVENTS UPDATE\n",
      "\n",
      "\n",
      "* Eyeforenergy Asia 2001\n",
      "  Shangri La Hotel, Singapore 15-17 October\n",
      "\n",
      "Eyeforenergy returns to Singapore, 15-17 October 2001, for its 3rd Asian\n",
      "conference with a packed program featuring presentations on e-procurement\n",
      "and online trading, as well as e-retail and everything you need to know\n",
      "about all the latest e-business developments in Asia.\n",
      "October 18-19;    November 1-2\n",
      "  in EB 560    Cost:  $740.00\n",
      "8:00 a.m.-5:00 p.m. (1st day)\n",
      "8:00 am - 12 noon (2nd day)\n",
      "\n",
      "Topics Covered Include:\n",
      "Discovering the Opportunities in Customer Satisfaction\n",
      "Managing Myself\n",
      "Opening the Interaction\n",
      "Determining Needs and Expectations\n",
      "Managing the Interaction\n",
      "Satisfying Customers in Comfortable & Indecisive Conditions\n",
      "Satisfying Customers in the Insistent & Irate Conditions\n",
      "\n",
      "Please log onto http://elm.enron.com to sign up for the class of your choice.\n",
      "October 18-19;    November 1-2\n",
      "  in EB 560    Cost:  $740.00\n",
      "8:00 a.m.-5:00 p.m. (1st day)\n",
      "8:00 am - 12 noon (2nd day)\n",
      "\n",
      "Topics Covered Include:\n",
      "Discovering the Opportunities in Customer Satisfaction\n",
      "Managing Myself\n",
      "Opening the Interaction\n",
      "Determining Needs and Expectations\n",
      "Managing the Interaction\n",
      "Satisfying Customers in Comfortable & Indecisive Conditions\n",
      "Satisfying Customers in the Insistent & Irate Conditions\n",
      "\n",
      "Please log onto http://elm.enron.com to sign up for the class of your choice.\n",
      "Kase and Company, Inc. currently has two upcoming classes:\n",
      "Sign Up Before the Deadline and Receive the Early Bird Discount!Register for both classes and get the \"Two or More Price\" \n",
      "[IMAGE]\tKase and Company also offers In House Training Classes.\n",
      "\"Up Front\" will feature open, honest and timely video messages from the Office of the Chairman and Enron management about what's going on around the company.\n",
      "Kind regards\n",
      "\n",
      "Allison Lindsay\n",
      "Deputy Conference Director\n",
      "\n",
      "This e-mail is sponsored by Back Office Focus - a specialist monthly magazine that answers your critical needs for understanding technology in and out of the office environment, and how to apply these developments to your benefit and company profitability.\n",
      "Effective immediately, we will provide an additional resource for employees who do not currently feel comfortable going to either their supervisor or their Human Resources (HR) rep.\n",
      "---\tWe are establishing a new business function we are calling Employee Relations (ER) that will report directly to the Office of the Chairman.\n"
     ]
    }
   ],
   "source": [
    "# similarity matrix\n",
    "sim_mat = np.zeros([len(sentences), len(sentences)])\n",
    "\n",
    "for i in range(len(sentences)):\n",
    "  for j in range(len(sentences)):\n",
    "    if i != j:\n",
    "      sim_mat[i][j] = cosine_similarity(sentence_vectors[i].reshape(1,100), sentence_vectors[j].reshape(1,100))[0,0]\n",
    "nx_graph = nx.from_numpy_array(sim_mat)\n",
    "scores = nx.pagerank(nx_graph)\n",
    "ranked_sentences = sorted(((scores[i],s) for i,s in enumerate(sentences)), reverse=True)\n",
    "\n",
    "# Specify number of sentences to form the summary\n",
    "sn = 10\n",
    "\n",
    "# Generate summary\n",
    "for i in range(sn):\n",
    "  print(ranked_sentences[i][1])\n",
    "\n"
   ]
  },
  {
   "cell_type": "code",
   "execution_count": 21,
   "metadata": {},
   "outputs": [
    {
     "data": {
      "text/plain": [
       "394     Please ignore.\\n\\n____________________________...\n",
       "415                        Good Monday Morning - Comments\n",
       "424     During the weekend of October 6 and 7, 2001 th...\n",
       "428     [IMAGE]\\n\\t\\t\\t[IMAGE]\\t[IMAGE]\\t\\n\\t[IMAGE]\\t...\n",
       "443     Learn more about\\n\"The Perks & Pitfalls of Cre...\n",
       "451                                - kudlow100901 (2).doc\n",
       "455     Attached is a the agenda, minutes of previous ...\n",
       "460     The migration of UNIX home directories and app...\n",
       "479     THE SOURCE\\nThe eSource Bulletin\\tOctober 2001...\n",
       "498     Brother Betas,\\n\\nI am George Pereira from the...\n",
       "518     Woody,  I like this one!!  Will be in all week...\n",
       "519                                          Jeff. \\nFYI-\n",
       "529     This message is a follow-up to the one we sent...\n",
       "536     INCREDIBLY LOW TRAVEL COST TO CALGARY \\nZIFF E...\n",
       "557     Many of you have requested more time in which ...\n",
       "580     Enron in Action can be accessed through the ne...\n",
       "610     [IMAGE] \\t\\n[IMAGE]\\t [IMAGE]     Dear Jeff Sk...\n",
       "618     Bares Capital Management, Inc.'s quarterly com...\n",
       "620     Your help in announcing this unique new produc...\n",
       "629                                    - kudlow101201.doc\n",
       "643     Enron Cycling Club Meeting\\nTuesday, October 1...\n",
       "662     Dear Mr Skilling,\\n\\nhttp://www.ibc-financial....\n",
       "670     Paul Murphy has scheduled an Invest. Com. meet...\n",
       "680     Dear Jeff,\\n\\nSpeed, flexibility, and round-th...\n",
       "704     [IMAGE] \\t\\n\\n\\n    \\t  So how's your golf swi...\n",
       "709     This is a reminder of Enron's Email retention ...\n",
       "737     Hey Chuck you Ol' Fart!  (After 40, we all mel...\n",
       "755     The Enterprise Storage Team will be migrating ...\n",
       "780     In this Update, we'd like to announce the laun...\n",
       "783     Hi ,\\n\\nIn an industry driven by forces such a...\n",
       "                              ...                        \n",
       "1225    [IMAGE] \\t\\n[IMAGE]\\t [IMAGE]     Dear Jeff Sk...\n",
       "1230    Greetings Jeffrey...\\n\\nFor any changes to you...\n",
       "1271    Matt Khourie's mother Lila Van Orden passed aw...\n",
       "1310    The report named: Violation/Notification Memo ...\n",
       "1333    For Immediate Release  Friday, October 12, 200...\n",
       "1362    If you are planning on participating in the Al...\n",
       "1365    Join some of the 40,000+ PowerMarketers.com re...\n",
       "1369    GMAT REVIEW AT ENRON\\n\\nThe next GMAT review c...\n",
       "1377    ----------------------------------------------...\n",
       "1389    [IMAGE] \\t\\n[IMAGE]\\t [IMAGE]     Dear Jeffrey...\n",
       "1400    Dear Brother Loweth,\\n     If you win the Dist...\n",
       "1414    Just wanted to let you guys know that Geoff un...\n",
       "1443    [IMAGE][IMAGE]   [IMAGE]     \\t\\n [IMAGE]   Ho...\n",
       "1458    Hello!\\n\\nYou're invited to attend a free 60-m...\n",
       "1483    The report named: Violation/Notification Memo ...\n",
       "1496    FINAL NOTICE -- FINAL NOTICE -- FINAL NOTICE -...\n",
       "1499    Second Notice ---- Second Notice ---- Second N...\n",
       "1500    Hi  Jeff,\\n\\nI realize that you are busy, howe...\n",
       "1515    Please see date change on the attached memo an...\n",
       "1523    The following meeting announcement may be of i...\n",
       "1533    Bros,\\n   This was sent to me by my daughter-i...\n",
       "1575    The Houston Technology Center\\ncordially invit...\n",
       "1584    Tubes, Tubes, Tubes:\\n\\nWhat are we to do with...\n",
       "1594    Good morning,\\n\\nENW Global Messaging would li...\n",
       "1614                      Good Tuesday Morning - Comments\n",
       "1621    Brothers of Gamma Omega - My silence is broken...\n",
       "1623    KUDLOW'S TAKE\\nby Lawrence Kudlow\\n\\n\\nDECLARI...\n",
       "1630    There is still time to make your reservation t...\n",
       "1631    [IMAGE][IMAGE]   [IMAGE]     \\t\\n [IMAGE]   Ho...\n",
       "1635    Check out our new downtown Houston seminar,\\n\"...\n",
       "Name: Body, Length: 98, dtype: object"
      ]
     },
     "execution_count": 21,
     "metadata": {},
     "output_type": "execute_result"
    }
   ],
   "source": [
    "enron_summary_test['Body']"
   ]
  },
  {
   "cell_type": "code",
   "execution_count": null,
   "metadata": {},
   "outputs": [],
   "source": []
  },
  {
   "cell_type": "code",
   "execution_count": null,
   "metadata": {},
   "outputs": [],
   "source": []
  }
 ],
 "metadata": {
  "kernelspec": {
   "display_name": "Python 3",
   "language": "python",
   "name": "python3"
  },
  "language_info": {
   "codemirror_mode": {
    "name": "ipython",
    "version": 3
   },
   "file_extension": ".py",
   "mimetype": "text/x-python",
   "name": "python",
   "nbconvert_exporter": "python",
   "pygments_lexer": "ipython3",
   "version": "3.7.1"
  }
 },
 "nbformat": 4,
 "nbformat_minor": 2
}
