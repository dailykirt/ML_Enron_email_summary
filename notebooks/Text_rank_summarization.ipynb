{
 "cells": [
  {
   "cell_type": "markdown",
   "metadata": {},
   "source": [
    "This notebook follows the tutorial found at:\n",
    "https://www.analyticsvidhya.com/blog/2018/11/introduction-text-summarization-textrank-python/\n"
   ]
  },
  {
   "cell_type": "code",
   "execution_count": 2,
   "metadata": {},
   "outputs": [],
   "source": [
    "import mailparser\n",
    "import sys\n",
    "from os import listdir\n",
    "from os.path import isfile, join\n",
    "import pandas as pd\n",
    "import email\n",
    "import numpy as np\n",
    "from talon.signature.bruteforce import extract_signature\n",
    "import nltk\n",
    "from nltk.tokenize import sent_tokenize\n",
    "import re\n",
    "from nltk.corpus import stopwords\n",
    "from sklearn.metrics.pairwise import cosine_similarity\n",
    "import networkx as nx\n",
    "\n",
    "#one time executions\n",
    "#nltk.download('punkt')\n",
    "#nltk.download('stopwords')\n",
    "#! wget http://nlp.stanford.edu/data/glove.6B.zip\n",
    "#! unzip glove*.zip\n"
   ]
  },
  {
   "cell_type": "markdown",
   "metadata": {},
   "source": [
    "Load dataframe produced by the Data_Wranlging notebook. "
   ]
  },
  {
   "cell_type": "code",
   "execution_count": 3,
   "metadata": {},
   "outputs": [],
   "source": [
    "#Load Data\n",
    "PICKLE_LOC = \"../data/dataframes/wrangled_enron_df.pkl\"\n",
    "enron_df = pd.read_pickle(PICKLE_LOC)"
   ]
  },
  {
   "cell_type": "markdown",
   "metadata": {},
   "source": [
    "Checking earliest and latest date. "
   ]
  },
  {
   "cell_type": "code",
   "execution_count": 46,
   "metadata": {},
   "outputs": [
    {
     "name": "stdout",
     "output_type": "stream",
     "text": [
      "Total number of emails to summarize: 89\n"
     ]
    }
   ],
   "source": [
    "start_date = '2001-10-01 00:00:00'\n",
    "end_date = '2001-10-14 23:59:59'\n",
    "summarization_mask = (enron_df['Date'] >= start_date) & (enron_df['Date'] <= end_date)\n",
    "enron_masked_df = enron_df.loc[summarization_mask]\n",
    "print(\"Total number of emails to summarize: \" + str(len(enron_masked_df)))"
   ]
  },
  {
   "cell_type": "code",
   "execution_count": 5,
   "metadata": {},
   "outputs": [],
   "source": [
    "#Splitting the text in emails into sentences\n",
    "sentences = enron_masked_df.Extractive_Sentences.tolist()\n",
    "#flatten list as tuples containting (sentence, dataframe index) to be used to reassociate summary with original email. \n",
    "sentences = []\n",
    "sentences_list = enron_masked_df.Extractive_Sentences.tolist()\n",
    "for counter, sublist in enumerate(sentences_list):\n",
    "    for item in sublist:\n",
    "        sentences.append([counter, item]) "
   ]
  },
  {
   "cell_type": "code",
   "execution_count": 6,
   "metadata": {},
   "outputs": [],
   "source": [
    "#Pull out clean tokenized sentences. \n",
    "clean_sentences = enron_masked_df.Tokenized_Body.tolist()\n",
    "#flatten list\n",
    "clean_sentences = [y for x in clean_sentences for y in x]"
   ]
  },
  {
   "cell_type": "code",
   "execution_count": 9,
   "metadata": {},
   "outputs": [],
   "source": [
    "#Extract word vectors\n",
    "word_embeddings = {}\n",
    "f = open('glove.6B.300d.txt', encoding='utf-8')\n",
    "for line in f:\n",
    "    values = line.split()\n",
    "    word = values[0]\n",
    "    coefs = np.asarray(values[1:], dtype='float32')\n",
    "    word_embeddings[word] = coefs\n",
    "f.close()"
   ]
  },
  {
   "cell_type": "code",
   "execution_count": 10,
   "metadata": {},
   "outputs": [],
   "source": [
    "#Creating vectors for the sentences. \n",
    "sentence_vectors = []\n",
    "for i in clean_sentences:\n",
    "  if len(i) != 0:\n",
    "    v = sum([word_embeddings.get(w, np.zeros((300,))) for w in i.split()])/(len(i.split())+0.001)\n",
    "  else:\n",
    "    v = np.zeros((300,))\n",
    "  sentence_vectors.append(v)"
   ]
  },
  {
   "cell_type": "code",
   "execution_count": 11,
   "metadata": {},
   "outputs": [
    {
     "data": {
      "text/plain": [
       "1158"
      ]
     },
     "execution_count": 11,
     "metadata": {},
     "output_type": "execute_result"
    }
   ],
   "source": [
    "len(sentence_vectors)"
   ]
  },
  {
   "cell_type": "code",
   "execution_count": 12,
   "metadata": {},
   "outputs": [],
   "source": [
    "# similarity matrix\n",
    "sim_mat = np.zeros([len(sentences), len(sentences)])\n",
    "#Initialize matrix with cosine similarity scores. \n",
    "for i in range(len(sentences)):\n",
    "  for j in range(len(sentences)):\n",
    "    if i != j:\n",
    "      sim_mat[i][j] = cosine_similarity(sentence_vectors[i].reshape(1,300), sentence_vectors[j].reshape(1,300))[0,0]\n",
    "nx_graph = nx.from_numpy_array(sim_mat)\n",
    "scores = nx.pagerank(nx_graph)"
   ]
  },
  {
   "cell_type": "code",
   "execution_count": 13,
   "metadata": {},
   "outputs": [],
   "source": [
    "#Pair sentence with it's similarity score then sort. \n",
    "ranked_sentences = sorted(((scores[i],s[0],s[1]) for i,s in enumerate(sentences)), reverse=True)"
   ]
  },
  {
   "cell_type": "code",
   "execution_count": 43,
   "metadata": {
    "scrolled": true
   },
   "outputs": [
    {
     "name": "stdout",
     "output_type": "stream",
     "text": [
      "\u001b[1mDate: 2001-10-02 21:24:19 Subject: Lay It On the Line Survey Results\u001b[0m\n",
      "Summary: Work environment: pay and benefits true meritocracy unlimited opportunities The results of our survey confirmed for the Management Committee and me the great things you feel about Enron and also what you see as the issues we must address to move Enron forward.\n",
      "\u001b[1mDate: 2001-10-02 19:04:24 Subject: Jeffrey Skilling, your October E-lert is now available\u001b[0m\n",
      "Summary: A complete story on the origin of Halloween will be on the Business Cafe Web site October 2531 at http://www.BusinessCafeOnline.com Your October 2001 issue of Elert for personal development in business is now available on http://www.BusinessCafeOnline.com Included in the October 2001 issue are these three articles: Flying Off Over Office Politics What Men Can Learn\n",
      "\u001b[1mDate: 2001-10-04 03:13:05 Subject: h: Eyeforenergy Briefing\u001b[0m\n",
      "Summary: EDITORIAL A Focus on the latest developments in Europe ARTICLES European Utility Sector: Survival of the Fittest Through Mergers & Acquisition EU Deregulation: Out of Chaos Comes Order NEWS ROUND UP Commodities Now honours Women in the Energy Industry SPL WorldGroup Supports Siebel 7 for Competitive Energy Markets Worldwide > BG Enters, Enron Leaves Indian Upstream Market in $388 Million Deal Congress Puts Wind Energy Tax Credit Back on the Table eAcumen launches WeatherBook, a breakthrough weather risk management platform with industryleading analytics Two New WindPower Projects Deliver Renewable Energy to California; Expected to Produce Enough Energy to Power More Than 40,000 Homes The Structure Group named Houston's sixth fastestgrowing private company at annual Houston 100 awards luncheon EVENTS Eyeforenergy Asia 2001 Green Convention 2001 EEO Europe Energy Trading in the New Economy Emissions Trading 2002 Weather Trading 2002 SUBSCRIBE Please enter your email address below to subscribe to the EyeForEnergy newsletter.\n",
      "\u001b[1mDate: 2001-10-08 08:36:38 Subject: Update - Basel Conference New York\u001b[0m\n",
      "Summary: However, as the business community appears to be trying to get back to normal as far as possible, we have decided that the conference should proceed as planned.\n",
      "\u001b[1mDate: 2001-10-02 21:24:19 Subject: Lay It On the Line Survey Results\u001b[0m\n",
      "Summary: Effective immediately, we will provide an additional resource for employees who do not currently feel comfortable going to either their supervisor or their Human Resources (HR) rep. We are establishing a new business function we are calling Employee Relations (ER) that will report directly to the Office of the Chairman.\n",
      "\u001b[1mDate: 2001-10-11 14:33:51 Subject: t,h: Eyeforenergy Briefing\u001b[0m\n",
      "Summary: Click here for further information: http://www.eyeforenergy.com/weather/ LATEST HEADLINES Study Points to Growing Market for Distributed Generation http://www.eyeforenergy.com/content.asp?news=21592 Aquila Stock Loses Luster, Falls Sharply http://www.eyeforenergy.com/content.asp?news=21590 Arkansas Utility Wants to Delay Deregulation http://www.eyeforenergy.com/content.asp?news=21589 Vectren to Implement Excelergy's Customer Management Solutions http://www.eyeforenergy.com/content.asp?news=21588 Puget Energy's Stock Dips as Regulators Reject Rate Increase http://www.eyeforenergy.com/content.asp?news=21586 Two Wind Power Projects Begin Operations in California http://www.eyeforenergy.com/content.asp?news=21555 This update is provided as part of the Eyeforenergy Briefing service.\n",
      "\u001b[1mDate: 2001-10-04 15:25:15 Subject: ELM Course Offering\u001b[0m\n",
      "Summary: Signature Service: The Key To Customer Satisfaction ( Wilson Learning) Come join us and learn more about what it means to provide Excellent Service!\n",
      "\u001b[1mDate: 2001-10-08 08:36:38 Subject: Update - Basel Conference New York\u001b[0m\n",
      "Summary: Round table discussion: examining the key elements of operational risk management and control Outstanding networking opportunity over 100 delegates attended our European Capital Adequacy event earlier this year To reserve your place call +44 (0)1932 853 857, visit http://www.ibcfinancial.com/bm1272/?source=bm1272em2, or email cust.serv@informa.com.\n"
     ]
    }
   ],
   "source": [
    "#color scheme to help distinguish summarizaiton text. \n",
    "class bcolors:\n",
    "    HEADER = '\\033[95m'\n",
    "    OKBLUE = '\\033[94m'\n",
    "    OKGREEN = '\\033[92m'\n",
    "    WARNING = '\\033[93m'\n",
    "    FAIL = '\\033[91m'\n",
    "    ENDC = '\\033[0m'\n",
    "    BOLD = '\\033[1m'\n",
    "    UNDERLINE = '\\033[4m'\n",
    "\n",
    "# Specify number of sentences as a fraction of total emails. \n",
    "sn = len(enron_masked_df) // 10\n",
    "\n",
    "# Generate summary\n",
    "for i in range(sn):\n",
    "    #pull date and subject from original email\n",
    "    email_date = str(enron_masked_df['Date'].iloc[ranked_sentences[i][1]])\n",
    "    email_subject = enron_masked_df['Subject'].iloc[ranked_sentences[i][1]]\n",
    "    #print summaries \n",
    "    print( bcolors.BOLD + \"Date: \"+ email_date  + \n",
    "          \" Subject: \" + email_subject + bcolors.ENDC +\n",
    "          \"\\nSummary: \" + ranked_sentences[i][2])"
   ]
  },
  {
   "cell_type": "code",
   "execution_count": 55,
   "metadata": {},
   "outputs": [
    {
     "data": {
      "text/plain": [
       "'Recently, I asked you to \"Lay It On the Line\" and tell me what you believe are the most critical issues that we need to address. Many of you responded, and I want to share the survey results with you. Additionally, I want to share with you the things we are currently doing or plan to do to move Enron forward. First, let\\'s take a look at the survey results. In just three days, more than 4,000 employees completed the survey. I sincerely appreciate your participation. I. We asked you to identify the top five issues facing Enron today. The responses were: 1. Stock price 2. The PRC 3. Employee/internal morale 4. External reputation and image 5. \"Walking the talk\" of integrity and respect II. We asked you general questions about working at Enron, comparing 2001 to 2000. % of employees responding strongly agree/agree: I am committed to staying at Enron. 64.1% Enron is a company I would invest my money in. 60.1% I am treated with respect. 60.0% I would recommend Enron as a place to work for friends and family. 59.1% I have talents and skills that Enron is not fully utilizing. 54.7% Enron truly encourages people to take risks. 47.5% My immediate supervisor has a clear view of where Enron is going and how to get there. 46.6% Executive management has a clear view of where Enron is going and how to get there. 41.6% III. We asked you to what extent you would associate the following attributes to Enron, comparing 2001 to 2000. More Same Less N/A Concerned for communities 34.5% 44.9% 10.3% 10.3% Innovative 30.8% 35.7% 24.6% 8.9% Entrepreneurial 28.5% 37.8% 23.7% 10.0% Ethical 17.0% 45.1% 28.1% 9.8% Trustworthy 14.9% 39.0% 36.9% 9.2% Arrogant 39.1% 32.4% 13.3% 15.2% Selfserving 41.9% 38.6% 7.5% 12.0% IV. Finally, we asked you to identify the top three things you like about working at Enron. 1. People (the high quality of people at Enron was the most widelycited aspect): talented creative learn from one another 2. Culture and reputation: innovative spirit willingness to be aggressive and take risks ability to embrace change involvement in community 3. Work environment: pay and benefits true meritocracy unlimited opportunities The results of our survey confirmed for the Management Committee and me the great things you feel about Enron and also what you see as the issues we must address to move Enron forward. The following are some of the things we\\'re doing now or going to do in the next few days and weeks to address the top five issues you identified. Keep in mind this is only the beginning of an ongoing effort to address your concerns and engage your feedback. Now, here\\'s what we\\'re going to do based on your feedback. STOCK PRICE We are all concerned about our stock price, which has declined significantly this year. The primary reasons for the sharp decline from our highs earlier this year include: A decline in the overall market and economy; Certain Enronspecific issues, such as California, India and recent management turnover; A \"meltdown\" in the broadband sector, which may have been as much as $30$40 of our stock price at the high; Lower energy commodity prices and volatility relative to last winter\\'s high; and Concerns over the pace of energy deregulation. These concerns mask the strong underlying recurring earnings growth in our transportation and distribution, wholesale and retail businesses. Very few companies have demonstrated the earnings growth, and future earnings growth, as has Enron. We fundamentally believe that if we focus on continued earnings growth and reestablishing the confidence of our financial investors, our stock price will reflect the value these businesses deserve. Over the past month, we have met with all of our major institutional shareholders and all of our analysts, reviewing the strong prospects in each of our businesses. We have also committed to provide more segmented information about our business units and how we operate so that analysts have a better understanding of our businesses and how we make money. We also want to make sure that employees know what we are doing going forward: Mark Koenig, executive vice president of Investor Relations, will host Brown Bag sessions with groups of employees to discuss stock price issues and answer questions. He will also continue to host eSpeak sessions to answer employee questions. Greg Whalley, Mark Frevert and I will also hold discussions with various groups of employees, which will be taped and made available to employees worldwide. Watch for these events. THE PRC The relative discussion of talent is absolutely critical to maintain our business and our meritocracy. Understanding which employees have demonstrated the greatest contribution and behaviors, which individuals should be given greater responsibility and leadership, and identifying our top and bottom talent are essential to achieve our business objectives. Nevertheless, we recognize that certain aspects of the PRC may have caused some of you concern, and we believe we can improve, refine, streamline and better clarify the process objectives for everyone. Therefore, we will make the following changes to the PRC process prior to yearend: Effective immediately, relative performance discussions will occur annually at yearend. However, business units will have the flexibility to determine if they need to have those discussions more frequently. The current preferred distribution will no longer be required across Enron. Business units will be asked to identify only their top 10% and bottom 10% performers for review by Enron\\'s Office of the Chairman annually at yearend. We will continue to use the PEP 360 degree feedback system as input into performance feedback once a year for all employees. We will also reinforce to all supervisory employees the absolute necessity of continual communication and feedback to their direct reports throughout the year. Finally, we have formed an employee task force that will give us feedback on future changes. In the November issue of Enron Business, we will feature the first in a series of articles discussing our performance evaluation process. In addition, there will be other communication and training that will occur prior to yearend. EMPLOYEE MORALE We believe the stock price, our external reputation and the performance review process have all affected morale. Additionally, some employees have indicated they do not feel that they have a place to go to voice their ideas and concerns. Effective immediately, we will provide an additional resource for employees who do not currently feel comfortable going to either their supervisor or their Human Resources (HR) rep. We are establishing a new business function we are calling Employee Relations (ER) that will report directly to the Office of the Chairman. Cindy Olson will head this function. More details of how this group and HR will operate will be communicated in the next few days. Over the long term, we want our managers to address employee issues and concerns and therefore are providing the following leadership training for those with supervisory roles. We will encourage vice presidents and above, as well as other current and emerging leaders, to complete Executive Impact & Influence training. These sessions are designed to improve leadership skills such as coaching and effective communication that have a direct impact on performance and managing people. Additionally, we will encourage every employee with supervisory responsibilities to complete online communications training via Communicate!, which will be rolled out immediately. Communicate! is an interactive training course that uses Enron scenarios and a combination of video, voice mails, emails and meetings notes, to analyze user performance based on a participant\\'s responses and actions. EXTERNAL REPUTATION We all recognize that our external reputation has suffered this year. The single most important factor that influences our reputation is our actions how we act and how we communicate those actions as a company and as individual employees. We recognize that as Enron\\'s ambassador\\'s in the marketplace, the more you know about our strategy, performance and challenges, the more you can help disseminate accurate information about our company. To ensure you are better informed: We will do a better job providing you with timely information about issues affecting Enron. In addition to our existing communication efforts, like email messages and internal publications eBiz and Enron Business, we will post a Q&A on current issues on the Enron intranet at home.enron.com <http://home.enron.com>. This will give us a consistent message across the organization and will equip you with information when talking to your customers. As we said before, Greg, Mark and I, as well as members of our Management Committee, will meet with groups of employees across Enron to hear your thoughts and share with you our business direction and challenges. Look for these to start in midOctober. INTEGRITY & RESPECT I believe, as I said previously, we need to reinforce our core values, particularly integrity and respect.'"
      ]
     },
     "execution_count": 55,
     "metadata": {},
     "output_type": "execute_result"
    }
   ],
   "source": [
    "#Examples of a full email. \n",
    "enron_masked_df['Body'].iloc[ranked_sentences[0][1]]"
   ]
  }
 ],
 "metadata": {
  "kernelspec": {
   "display_name": "Python 3",
   "language": "python",
   "name": "python3"
  },
  "language_info": {
   "codemirror_mode": {
    "name": "ipython",
    "version": 3
   },
   "file_extension": ".py",
   "mimetype": "text/x-python",
   "name": "python",
   "nbconvert_exporter": "python",
   "pygments_lexer": "ipython3",
   "version": "3.7.1"
  }
 },
 "nbformat": 4,
 "nbformat_minor": 2
}
