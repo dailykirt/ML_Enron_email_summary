{
 "cells": [
  {
   "cell_type": "markdown",
   "metadata": {},
   "source": [
    "This notebook follows the tutorial found at:\n",
    "https://www.analyticsvidhya.com/blog/2018/11/introduction-text-summarization-textrank-python/\n"
   ]
  },
  {
   "cell_type": "code",
   "execution_count": 15,
   "metadata": {},
   "outputs": [],
   "source": [
    "import mailparser\n",
    "import sys\n",
    "from os import listdir\n",
    "from os.path import isfile, join\n",
    "import pandas as pd\n",
    "import email\n",
    "import numpy as np\n",
    "from talon.signature.bruteforce import extract_signature\n",
    "import nltk\n",
    "from nltk.tokenize import sent_tokenize\n",
    "import re\n",
    "from nltk.corpus import stopwords\n",
    "from sklearn.metrics.pairwise import cosine_similarity\n",
    "import networkx as nx\n",
    "import rouge\n",
    "\n",
    "#one time executions\n",
    "#nltk.download('punkt')\n",
    "#nltk.download('stopwords')\n",
    "#! wget http://nlp.stanford.edu/data/glove.6B.zip\n",
    "#! unzip glove*.zip\n",
    "#!pip install py-rouge\n"
   ]
  },
  {
   "cell_type": "markdown",
   "metadata": {},
   "source": [
    "Load dataframe produced by the Data_Wranlging notebook. "
   ]
  },
  {
   "cell_type": "code",
   "execution_count": 20,
   "metadata": {},
   "outputs": [],
   "source": [
    "#Load Data\n",
    "#PICKLE_LOC = \"../data/dataframes/wrangled_enron_df.pkl\" #Single Mailbox\n",
    "ENRON_PICKLE_LOC = \"../data/dataframes/wrangled_enron_full_df.pkl\"\n",
    "BC3_EMAIL_PICKLE_LOC = \"../data/dataframes/wrangled_BC3_email_df.pkl\"\n",
    "BC3_SUMMARY_PICKLE_LOC = \"../data/dataframes/wrangled_BC3_summary_df.pkl\"\n",
    "\n",
    "enron_df = pd.read_pickle(ENRON_PICKLE_LOC)\n",
    "BC3_emails_df = pd.read_pickle(BC3_EMAIL_PICKLE_LOC)\n",
    "BC3_summary_df = pd.read_pickle(BC3_SUMMARY_PICKLE_LOC)"
   ]
  },
  {
   "cell_type": "code",
   "execution_count": 21,
   "metadata": {},
   "outputs": [],
   "source": [
    "#Outputs a subset of the enron dataset masked by the person and a timeframe. \n",
    "def subset_emails(df, start_date, end_date, person):   \n",
    "    summarization_mask = (enron_df['Date'] >= start_date) & (enron_df['Date'] <= end_date) & (enron_df['Employee'] == person)\n",
    "    enron_masked_df = df.loc[summarization_mask]\n",
    "    return enron_masked_df   "
   ]
  },
  {
   "cell_type": "code",
   "execution_count": 22,
   "metadata": {},
   "outputs": [],
   "source": [
    "#Retrieve original sentences and index them. This will be used to generate the extracted summaries. \n",
    "def get_extractive_sentences(df):\n",
    "    sentences = df.Extractive_Sentences.tolist()\n",
    "    #flatten list as tuples containting (sentence, dataframe index) to be used to reassociate summary with original email. \n",
    "    sentences = []\n",
    "    sentences_list = df.Extractive_Sentences.tolist()\n",
    "    for counter, sublist in enumerate(sentences_list):\n",
    "        for item in sublist:\n",
    "            sentences.append([counter, item]) \n",
    "    return sentences"
   ]
  },
  {
   "cell_type": "code",
   "execution_count": 23,
   "metadata": {},
   "outputs": [],
   "source": [
    "#Pull out clean tokenized sentences. \n",
    "def get_tokenized_sentences(df):\n",
    "    clean_sentences = df.Tokenized_Body.tolist()\n",
    "    #flatten list\n",
    "    clean_sentences = [y for x in clean_sentences for y in x]\n",
    "    return clean_sentences"
   ]
  },
  {
   "cell_type": "code",
   "execution_count": 24,
   "metadata": {},
   "outputs": [],
   "source": [
    "#get glove word vectors\n",
    "def extract_word_vectors():\n",
    "    word_embeddings = {}\n",
    "    f = open('glove.6B.300d.txt', encoding='utf-8')\n",
    "    for line in f:\n",
    "        values = line.split()\n",
    "        word = values[0]\n",
    "        coefs = np.asarray(values[1:], dtype='float32')\n",
    "        word_embeddings[word] = coefs\n",
    "    f.close()\n",
    "    return word_embeddings"
   ]
  },
  {
   "cell_type": "code",
   "execution_count": 25,
   "metadata": {},
   "outputs": [],
   "source": [
    "#Create sentence_vectors\n",
    "def create_sentence_vectors(clean_sentences, word_embeddings):\n",
    "    sentence_vectors = []\n",
    "    for i in clean_sentences:\n",
    "        if len(i) != 0:\n",
    "            v = sum([word_embeddings.get(w, np.zeros((300,))) for w in i.split()])/(len(i.split())+0.001)\n",
    "        else:\n",
    "            v = np.zeros((300,))\n",
    "        sentence_vectors.append(v)\n",
    "    return sentence_vectors"
   ]
  },
  {
   "cell_type": "code",
   "execution_count": 26,
   "metadata": {},
   "outputs": [],
   "source": [
    "#Returns a list of sorted scores with the index of the email the extracted sentence came from. \n",
    "def rank_sentences(sentences, sentence_vectors):\n",
    "    sim_mat = np.zeros([len(sentences), len(sentences)])\n",
    "    #Initialize matrix with cosine similarity scores. \n",
    "    for i in range(len(sentences)):\n",
    "        for j in range(len(sentences)):\n",
    "            if i != j:\n",
    "              sim_mat[i][j] = cosine_similarity(sentence_vectors[i].reshape(1,300), sentence_vectors[j].reshape(1,300))[0,0]\n",
    "    nx_graph = nx.from_numpy_array(sim_mat)\n",
    "    scores = nx.pagerank(nx_graph)\n",
    "    #Pair sentence with it's similarity score then sort. \n",
    "    ranked_sentences = sorted(((scores[i],s[0],s[1]) for i,s in enumerate(sentences)), reverse=True)\n",
    "    return ranked_sentences"
   ]
  },
  {
   "cell_type": "code",
   "execution_count": 27,
   "metadata": {},
   "outputs": [],
   "source": [
    "#color scheme to help distinguish summarizaiton text. \n",
    "class bcolors:\n",
    "    HEADER = '\\033[95m'\n",
    "    OKBLUE = '\\033[94m'\n",
    "    OKGREEN = '\\033[92m'\n",
    "    WARNING = '\\033[93m'\n",
    "    FAIL = '\\033[91m'\n",
    "    ENDC = '\\033[0m'\n",
    "    BOLD = '\\033[1m'\n",
    "    UNDERLINE = '\\033[4m'\n",
    "\n",
    "def display_summary(enron_masked_df, ranked_sentences):\n",
    "  # Specify number of sentences as a fraction of total emails. \n",
    "  sn = len(enron_masked_df) // 10\n",
    "\n",
    "  # Generate summary\n",
    "  for i in range(sn):\n",
    "    #pull date and subject from original email\n",
    "    email_date = str(enron_masked_df['Date'].iloc[ranked_sentences[i][1]])\n",
    "    email_subject = str(enron_masked_df['Subject'].iloc[ranked_sentences[i][1]])\n",
    "    email_from = str(enron_masked_df['From'].iloc[ranked_sentences[i][1]])\n",
    "    print( bcolors.BOLD + \"Date: \"+ email_date  + \n",
    "          \" Subject: \" + email_subject +\n",
    "          \" From: \" + email_from + bcolors.ENDC +\n",
    "          \"\\nSummary: \" + str(ranked_sentences[i][2]))"
   ]
  },
  {
   "cell_type": "code",
   "execution_count": 28,
   "metadata": {},
   "outputs": [],
   "source": [
    "#Function to wrap up summarization process\n",
    "def summarize_emails(word_embeddings, masked_df):\n",
    "    print(\"Total number of emails to summarize: \" + str(len(masked_df)))\n",
    "    sentences = get_extractive_sentences(masked_df)\n",
    "    clean_sentences = get_tokenized_sentences(masked_df)\n",
    "    #Generate sentence vectors\n",
    "    sentence_vectors = create_sentence_vectors(clean_sentences, word_embeddings)\n",
    "    #Create a list of ranked sentences. \n",
    "    ranked_sentences = rank_sentences(sentences, sentence_vectors)\n",
    "    #return enron_masked_df, ranked_sentences\n",
    "    display_summary(masked_df, ranked_sentences)\n",
    "    return ranked_sentences"
   ]
  },
  {
   "cell_type": "code",
   "execution_count": 29,
   "metadata": {},
   "outputs": [],
   "source": [
    "#Extract word vectors. Only need to be done once. \n",
    "word_embeddings = extract_word_vectors()"
   ]
  },
  {
   "cell_type": "markdown",
   "metadata": {},
   "source": [
    "# Summarizing BC3 Dataset and Evaluate with Rouge\n",
    "Using: https://pypi.org/project/py-rouge/"
   ]
  },
  {
   "cell_type": "markdown",
   "metadata": {},
   "source": [
    "The rouge metric is an evaluation metric used to test machine generated summaries against a human \"Gold standard\". Using the same Text rank summarization methods used on the Enron dataset, the following evaluates the algorithim against the BC3 Corpus. This is one of the few email datasets that contain human summarizations. "
   ]
  },
  {
   "cell_type": "code",
   "execution_count": 71,
   "metadata": {},
   "outputs": [
    {
     "name": "stdout",
     "output_type": "stream",
     "text": [
      "Total number of emails to summarize: 1\n"
     ]
    }
   ],
   "source": [
    "#Look into summarizing single email\n",
    "masked_df = BC3_emails_df[:1]\n",
    "masked_summaries = BC3_summary_df['Summary'].loc[(BC3_summary_df['Listno'] == masked_df.iloc[0]['Listno']) & (BC3_summary_df['Email_num'] == str(masked_df['Email_num'].iloc[0]))]\n",
    "ranked_sentences = summarize_emails(word_embeddings, masked_df)"
   ]
  },
  {
   "cell_type": "code",
   "execution_count": 72,
   "metadata": {},
   "outputs": [
    {
     "data": {
      "text/plain": [
       "117    Jacob suggested to hold two week meetings, the...\n",
       "122    Jacob suggests that future IETF meetings be sp...\n",
       "127    The topic is the logistics of scheduling IETF ...\n",
       "Name: Summary, dtype: object"
      ]
     },
     "execution_count": 72,
     "metadata": {},
     "output_type": "execute_result"
    }
   ],
   "source": [
    "#There are three different human summaries for the same email. \n",
    "masked_summaries"
   ]
  },
  {
   "cell_type": "code",
   "execution_count": 79,
   "metadata": {},
   "outputs": [
    {
     "name": "stdout",
     "output_type": "stream",
     "text": [
      "Full Email: The IETF meetings tend to become too large, creating logistics and planning problems. I suggest that future meetings are held for two weeks, with applications and user services issues the first week, and all other issues the second week. Those who so wish could attend both weeks, and other people could attend only one week. Those who choose to attend both weeks would be able to cover more groups and do better liaisons between the different areas. The Friday of the first week could discuss applications issues which might be of special interest to the other areas, and the Monday of the second week would schedule other groups which might be of special interest to applications people, so some people could attend MondayMonday or FridayFriday. Jacob Palme &lt;jpalme@dsv.su.se&gt; (Stockholm University and KTH) for more info see URL: http://www.dsv.su.se/~jpalme\n",
      "\n",
      "ML Summary: The Friday of the first week could discuss applications issues which might be of special interest to the other areas, and the Monday of the second week would schedule other groups which might be of special interest to applications people, so some people could attend MondayMonday or FridayFriday.\n",
      "\n",
      "Human Summary: Jacob suggested to hold two week meetings, the first will discuss user service issues and all other issues the following week, he said people can attend one week or both.\n",
      "\n"
     ]
    }
   ],
   "source": [
    "evaluator = rouge.Rouge(metrics=['rouge-n'],\n",
    "                           max_n=1,\n",
    "                           limit_length=True,\n",
    "                           length_limit=100,\n",
    "                           length_limit_type='words',\n",
    "                           alpha=0.5, # Default F1_score\n",
    "                           weight_factor=1.2,\n",
    "                           stemming=True)\n",
    "full_body = masked_df['Body'].iloc[0]\n",
    "hypothesis = ranked_sentences[0][2]\n",
    "reference = masked_summaries.iloc[0]\n",
    "\n",
    "#scores = evaluator.get_scores(hypothesis, reference)\n",
    "print(\"Full Email: \" + full_body + '\\n')\n",
    "print(\"ML Summary: \" + hypothesis + \"\\n\") \n",
    "print(\"Human Summary: \" + reference + \"\\n\") "
   ]
  },
  {
   "cell_type": "markdown",
   "metadata": {},
   "source": [
    "The following shows the R-1 scores. Current benchmarks for text summarization can be found at: https://summari.es/"
   ]
  },
  {
   "cell_type": "code",
   "execution_count": 80,
   "metadata": {},
   "outputs": [
    {
     "name": "stdout",
     "output_type": "stream",
     "text": [
      "{'rouge-1': {'f': 0.33333333333333337, 'p': 0.2708333333333333, 'r': 0.43333333333333335}}\n"
     ]
    }
   ],
   "source": [
    "perfect_score = evaluator.get_scores(reference, reference)\n",
    "scores = evaluator.get_scores(hypothesis, reference)\n",
    "print(scores)"
   ]
  },
  {
   "cell_type": "markdown",
   "metadata": {},
   "source": [
    "# Summarizing Enron Dataset"
   ]
  },
  {
   "cell_type": "code",
   "execution_count": 17,
   "metadata": {},
   "outputs": [
    {
     "name": "stdout",
     "output_type": "stream",
     "text": [
      "Total number of emails to summarize: 72\n",
      "\u001b[1mDate: 2001-10-08 08:36:38 Subject: Update - Basel Conference New York From: news@ibcuk.co.uk\u001b[0m\n",
      "Summary: However, as the business community appears to be trying to get back to normal as far as possible, we have decided that the conference should proceed as planned.\n",
      "\u001b[1mDate: 2001-10-02 19:04:24 Subject: Jeffrey Skilling, your October E-lert is now available From: mccann@nc.rr.com\u001b[0m\n",
      "Summary: A complete story on the origin of Halloween will be on the Business Cafe Web site October 2531 at http://www.BusinessCafeOnline.com Your October 2001 issue of Elert for personal development in business is now available on http://www.BusinessCafeOnline.com Included in the October 2001 issue are these three articles: Flying Off Over Office Politics What Men Can Learn\n",
      "\u001b[1mDate: 2001-10-04 03:13:05 Subject: h: Eyeforenergy Briefing From: bruno@eyeforenergy.com\u001b[0m\n",
      "Summary: EDITORIAL A Focus on the latest developments in Europe ARTICLES European Utility Sector: Survival of the Fittest Through Mergers & Acquisition EU Deregulation: Out of Chaos Comes Order NEWS ROUND UP Commodities Now honours Women in the Energy Industry SPL WorldGroup Supports Siebel 7 for Competitive Energy Markets Worldwide > BG Enters, Enron Leaves Indian Upstream Market in $388 Million Deal Congress Puts Wind Energy Tax Credit Back on the Table eAcumen launches WeatherBook, a breakthrough weather risk management platform with industryleading analytics Two New WindPower Projects Deliver Renewable Energy to California; Expected to Produce Enough Energy to Power More Than 40,000 Homes The Structure Group named Houston's sixth fastestgrowing private company at annual Houston 100 awards luncheon EVENTS Eyeforenergy Asia 2001 Green Convention 2001 EEO Europe Energy Trading in the New Economy Emissions Trading 2002 Weather Trading 2002 SUBSCRIBE Please enter your email address below to subscribe to the EyeForEnergy newsletter.\n",
      "\u001b[1mDate: 2001-10-09 17:22:15 Subject: Petroleumworld Newsletter From: petroleumworldnews11@hotmail.com\u001b[0m\n",
      "Summary: full story Previous Saturday's interviews THEMES PDVSA's Petroleum Education program Story Previous Themes SOCIAL ROLE OF BUSINESS CITGO: Donate $1 million worth of fuel for disaster relief Sept 21 Full story Previous stories ENVIROMENT Petrozuata preseted results on clean air in its operational areas Julio Rodr?guez, gerente de (ASHI) de Petrozuata PETROLEUMWORLD Caracas, Sep 21 Story To received PetroleumworldWeekly Review click to suscribe For daily Energy, Oil & Gas information www.petroleumworld.com If you do not want to received this newsletter, or if you want to make some comments or suggestions, please send us a reply message\n",
      "\u001b[1mDate: 2001-10-03 18:32:22 Subject: Petroleumworld Newsletter From: petroleumworldnews11@hotmail.com\u001b[0m\n",
      "Summary: annual meeting Full story Previous Events To received the newsletter click to suscribe For daily Energy, Oil & Gas information www.petroleumworld.com If you do not want to received this newsletter, or if you want to make some comments or suggestions, please send us a reply message\n",
      "\u001b[1mDate: 2001-10-02 20:44:14 Subject: [smu-betas] RE: new members (Justin Loweth) From: justinloweth@yahoo.com\u001b[0m\n",
      "Summary: As I am sure some of you were part of the list of people I called last month to inform you that the event had been postponed until this upcoming spring, which has proved to be a blessing in light of the tragic events that occurred Sept. 11, I would hope that this website may become a forum to both share ideas on the future of the event and information in regards to the event.\n",
      "\u001b[1mDate: 2001-10-08 08:36:38 Subject: Update - Basel Conference New York From: news@ibcuk.co.uk\u001b[0m\n",
      "Summary: Round table discussion: examining the key elements of operational risk management and control Outstanding networking opportunity over 100 delegates attended our European Capital Adequacy event earlier this year To reserve your place call +44 (0)1932 853 857, visit http://www.ibcfinancial.com/bm1272/?source=bm1272em2, or email cust.serv@informa.com.\n"
     ]
    }
   ],
   "source": [
    "#Define emails to be summarized. \n",
    "start_date = '2001-10-01 00:00:00'\n",
    "end_date = '2001-10-14 23:59:59'\n",
    "person = 'skilling-j'\n",
    "masked_df = subset_emails(enron_df, start_date, end_date, person)\n",
    "ranked_sentences = summarize_emails(word_embeddings, masked_df)"
   ]
  },
  {
   "cell_type": "code",
   "execution_count": 19,
   "metadata": {},
   "outputs": [
    {
     "data": {
      "text/plain": [
       "\"Dear Mr Skilling, http://www.ibcfinancial.com/bm1272/?source=bm1272em2 Update on IBC's major international conference: BASEL MEETING THE PRACTICAL CHALLENGES 31st October and 1st November 2001 New York We have obviously considered very carefully whether to continue with this event in the light of the recent terrible events in New York. However, as the business community appears to be trying to get back to normal as far as possible, we have decided that the conference should proceed as planned. We therefore hope you will take this excellent opportunity to hear the industry response to the latest Basel proposals on Capital Adequacy and Risk Management, and to gain practical advice on meeting the significant business challenges that these proposals pose to the management of risk within the financial services industry. Conference highlights include: A keynote address from William Rutledge, Executive Vice President, FEDERAL RESERVE BANK OF NEW YORK An impressive panel of leading industry speakers visit the event website http://www.ibcfinancial.com/bm1272/?source=bm1272em2 for full programme details. Round table discussion: examining the key elements of operational risk management and control Outstanding networking opportunity over 100 delegates attended our European Capital Adequacy event earlier this year To reserve your place call +44 (0)1932 853 857, visit http://www.ibcfinancial.com/bm1272/?source=bm1272em2, or email cust.serv@informa.com. Alternatively, please forward this email to any colleagues from ENRON CAPITAL & TRADE RESOURCES CORP who may also be interested in attending. Kind regards Allison Lindsay Deputy Conference Director This email is sponsored by Back Office Focus a specialist monthly magazine that answers your critical needs for understanding technology in and out of the office environment, and how to apply these developments to your benefit and company profitability. http://www.informafinance.com/bof/?source=ibcfec If you do not wish to receive information and news on this subject in future please reply to this email with the message UNSUBSCRIBE in the subject line and you will be instantly removed from this list. Please note that as this is an automated operation replying with unsubscribe in the text of a message will have no effect. The personal information shown in this email, or provided by you, will be held on a database and may be shared with companies in the Informa Group in the UK and internationally. Sometimes your details may be obtained from external companies for marketing purposes. If you do not wish your details to be used for this purpose, please write to the Database Marketing Manager, IBC UK Conferences Limited, Enterprise House, 45 Station Approach, West Byfleet, Surrey, KT14 6NN. Email database@ibcuk.co.uk\""
      ]
     },
     "execution_count": 19,
     "metadata": {},
     "output_type": "execute_result"
    }
   ],
   "source": [
    "#Examples of a full email. \n",
    "masked_df['Body'].iloc[ranked_sentences[0][1]]"
   ]
  },
  {
   "cell_type": "code",
   "execution_count": 20,
   "metadata": {},
   "outputs": [
    {
     "name": "stdout",
     "output_type": "stream",
     "text": [
      "Total number of emails to summarize: 234\n",
      "\u001b[1mDate: 2001-10-05 01:39:58 Subject: When will you accept Credit Cards?               wugiptuyduicmw From: herthateng4882@excite.com\u001b[0m\n",
      "Summary: If you would like to speak to someone right now we would be more then happy to answer any questions you might have please provide: Name: Your Phone Number: Best time to call: Merchant Status will help you increase sales by an incredible 50% to 100%.\n",
      "\u001b[1mDate: 2001-10-05 01:39:58 Subject: When will you accept Credit Cards?               wugiptuyduicmw From: herthateng4882@excite.com\u001b[0m\n",
      "Summary: If you would like to speak to someone right now we would be more then happy to answer any questions you might have please provide: Name: Your Phone Number: Best time to call: Merchant Status will help you increase sales by an incredible 50% to 100%.\n",
      "\u001b[1mDate: 2001-10-05 01:39:58 Subject: When will you accept Credit Cards?               wugiptuyduicmw From: herthateng4882@excite.com\u001b[0m\n",
      "Summary: If you would like to speak to someone right now we would be more then happy to answer any questions you might have please provide: Name: Your Phone Number: Best time to call: Merchant Status will help you increase sales by an incredible 50% to 100%.\n",
      "\u001b[1mDate: 2001-10-05 01:39:58 Subject: When will you accept Credit Cards?               wugiptuyduicmw From: herthateng4882@excite.com\u001b[0m\n",
      "Summary: If you would like to speak to someone right now we would be more then happy to answer any questions you might have please provide: Name: Your Phone Number: Best time to call: Merchant Status will help you increase sales by an incredible 50% to 100%.\n",
      "\u001b[1mDate: 2001-10-05 01:39:58 Subject: When will you accept Credit Cards?               wugiptuyduicmw From: herthateng4882@excite.com\u001b[0m\n",
      "Summary: If you would like to speak to someone right now we would be more then happy to answer any questions you might have please provide: Name: Your Phone Number: Best time to call: Merchant Status will help you increase sales by an incredible 50% to 100%.\n",
      "\u001b[1mDate: 2001-10-07 17:40:39 Subject: not much of rally on afghan bombing From: jennifer.fraser@enron.com\u001b[0m\n",
      "Summary: brent puked it out pretty hard on friday...probably as good as it gets to sell this puppy for your benefit make sure you get someone to go back and look closely at relative storage levels and prices levels for all btus in 1998 relationahips as you recall get bizarre on the lower end of the spectrum...it's a good couple of graphs to keep around 1 all stocks as a% full chart 2btus equi chart 1vs2 1vs diffs in #2 If i could access this info i'd send it...but enron systems being what they are it takes hours to connnect to houston drive\n",
      "\u001b[1mDate: 2001-10-12 02:50:19 Subject: Got Debt?                                                   [tsomk] From: tz3qu@msn.com\u001b[0m\n",
      "Summary: You do not have to own a home You do not need another mortgage No credit checks required Approval within 10 business days Available to all US citizens For a FREE, no obligation, consultation, please fill out the form below and return it to us.\n",
      "\u001b[1mDate: 2001-10-09 17:16:37 Subject: Metro Briefs & Inside Real Estate From: reiscast__wave_two.um.a.1013.218@reis-reports.unitymail.net\u001b[0m\n",
      "Summary: More Great News for Reis SE Subscribers Reis SE our revolutionary information source designed to help real estate professionals make more informed investment decisions has even more great news for subscribers and corporate account users... Coming next week, get the latest trends on those hardtogather secondary US markets with Reis's enhanced reporting on 30 expansion metros for office and apartment markets as well as vital rent comps in these new markets with Reis's MetroStats and SubmarketStats reports.\n",
      "\u001b[1mDate: 2001-10-08 04:36:05 Subject: FW: Ospraie swaption From: caroline.abramo@enron.com\u001b[0m\n",
      "Summary: we go through system for a week.. can not find deal.. that is where we are now.\n",
      "\u001b[1mDate: 2001-10-08 23:58:13 Subject: RE: wheres the love? From: john.arnold@enron.com\u001b[0m\n",
      "Summary: Been buying a lot of y/y cantango as I think next summer will be a piece but longer term gas story still very real and customers know it.\n",
      "\u001b[1mDate: 2001-10-03 23:29:06 Subject: RE: Neural Networks From: ravi.thuraisingham@enron.com\u001b[0m\n",
      "Summary: I wanted to get this discussion going via written format so that I (or others who may implement this) can stay focused on what you want and not get into broader research, etc....\n",
      "\u001b[1mDate: 2001-10-05 09:18:23 Subject: FW: Enron Europe Organization Announcement- VOLUNTARY LAYOFFS From: jennifer.fraser@enron.com\u001b[0m\n",
      "Summary: Please feel free to contact either of us, but also talk to your supervisor about any specific concerns you may have and remember that you can also make use of the LifeWorks confidential counselling service that is available on 0800 169 1920.\n",
      "\u001b[1mDate: 2001-10-09 18:34:38 Subject: RE: Ospraie swaption From: caroline.abramo@enron.com\u001b[0m\n",
      "Summary: thanks again.. seems like swaptions always get messed up according to fred (and gas dailies according to me).. will figure out a better procedure.. how we (marketers) can keep track of process and prevent errors... to me its a just lost $ to enron....we are all responsible.\n",
      "\u001b[1mDate: 2001-10-12 00:01:28 Subject: nan From: john.arnold@enron.com\u001b[0m\n",
      "Summary: If you want to buy this strip back in the next 6 months, I think it's going to be much easier/cheaper to roll it closer.\n",
      "\u001b[1mDate: 2001-10-12 02:50:19 Subject: Got Debt?                                                   [tsomk] From: tz3qu@msn.com\u001b[0m\n",
      "Summary: ========== Full Name : Address : City : State : Zip Code : Home Phone : Work Phone : Best Time to Call : EMail Address : Estimated Debt Size : ========== Thank You To receive no further offers from our company regarding this matter or any other matter, please reply to this email with the word 'Remove' in the subject line.\n",
      "\u001b[1mDate: 2001-10-10 19:09:55 Subject: Kinetic Clippings October-November 2001 From: mailbox@mailzilla.net\u001b[0m\n",
      "Summary: While Telework and other Alternative Office concepts are not new by any means, many employers and employees alike, affected by worldchanging events like the terrible tragedies of September 11th are looking for creative strategies to get people back to work until they can get back to their offices.\n",
      "\u001b[1mDate: 2001-10-09 23:06:25 Subject: Have tax problems?\n",
      "                                                   [8jhpp] From: 5z33t95as@msn.com\u001b[0m\n",
      "Summary: Note: For debt size please also include any penalties or interest Full Name: State: Phone Number: Time to Call: Estimated Tax Debt Size: Thank you for your time.\n",
      "\u001b[1mDate: 2001-10-09 12:01:58 Subject: RE: 25% ACROSS THE BOARD REDUCTION IN ENE HEADCOUNT From: jennifer.fraser@enron.com\u001b[0m\n",
      "Summary: no need to eliminate specialization but there is a huge amount of duplication.. (for the record i am not weaseling my way into the chief fundamentalist role)..i think the specialization could remain but teh information should be commonly housed and centrallly disseminated) For example, why dio we need 4 stack models..it would be better to concentrate our effort and knowledge on making on great one also in terms of headcount, elimination of dupplication means reduced costs....do we really need to be hiring 100 analysts a year.......?\n",
      "\u001b[1mDate: 2001-10-05 21:29:41 Subject: My Mileage Plus October - Your mileage balance and more From: united3@my.mileageplus.com\u001b[0m\n",
      "Summary: Use this one instead: http://my.mileageplus.com THIS MONTH IN MY MILEAGE PLUS Get the latest flight information, airport news and security information online.\n",
      "\u001b[1mDate: 2001-10-05 14:32:53 Subject: Welcome to the new ussoccerfan.com! From: webmaster@newsletter.ussoccer.com\u001b[0m\n",
      "Summary: StateSpecific Announcements Occasionally we'll have something special to offer to fans who live in a specific part of the country.\n",
      "\u001b[1mDate: 2001-10-08 04:36:05 Subject: FW: Ospraie swaption From: caroline.abramo@enron.com\u001b[0m\n",
      "Summary: if you have some time (or if you like slow torture).. read my other note.. better news coming.. promise.\n",
      "\u001b[1mDate: 2001-10-11 16:45:41 Subject: The Daily Quote From: dailyquote@smtp.quote.com\u001b[0m\n",
      "Summary: MORE Breaking News Today's Feature Thursday Take a Breath and Review Your SituationEven in the absence of disaster, very few people know where all their assets are invested, what insurance they have, what debt they owe and what they spend.\n",
      "\u001b[1mDate: 2001-10-09 13:54:42 Subject: Increase Sales, Accept Credit Cards!\n",
      "                                                   [3ut1b] From: c10mkf@msn.com\u001b[0m\n",
      "Summary: If you are a U.S. citizen and are interested in finding out additional information or to speak with one of our reps, reply to this email and include the following contact information: Your Name, Phone Number (with Area/Country code), and if possible, a best time to call.\n"
     ]
    }
   ],
   "source": [
    "#Summarization from another inbox\n",
    "start_date = '2001-10-01 00:00:00'\n",
    "end_date = '2001-10-14 23:59:59'\n",
    "person = 'arnold-j'\n",
    "masked_df = subset_emails(enron_df, start_date, end_date, person)\n",
    "ranked_sentences = summarize_emails(word_embeddings, masked_df)"
   ]
  },
  {
   "cell_type": "code",
   "execution_count": 21,
   "metadata": {},
   "outputs": [
    {
     "data": {
      "text/plain": [
       "'HOW TO SUBSTANTIALLY INCREASE SALES: MessageId: <200110042136812.SM00207@gmgfbljvm.networksolutions.com> Date: Thu, 4 Oct 2001 21:39:51 0400 Easily accept major credit cards right away! If you would like to speak to someone right now we would be more then happy to answer any questions you might have please provide: Name: Your Phone Number: Best time to call: Merchant Status will help you increase sales by an incredible 50% to 100%. Stop losing valuable sales! With one phone call you can be: Accepting all major credit cards! Accepting checks over the net or by Fax! Accepting real time processing for member sites! Gaining customer loyalty and trust! Close the sale now. No more wondering if \"The check is in the mail\" We specialize in helping businesses who are just starting out with no credit poor credit or even if you have great credit. Almost everyone is approved! (All information is kept securely and will never be shared with a third party) If you wish to be removed from our mailing list please reply to this email with the subject \"Remove\" and you will not receive future emails from our company. Thank You for your Time. HOW TO SUBSTANTIALLY INCREASE SALES: Easily accept major credit cards right away! If you would like to speak to someone right now we would be more then happy to answer any questions you might have please provide: Name: Your Phone Number: Best time to call: Merchant Status will help you increase sales by an incredible 50% to 100%. Stop losing valuable sales! With one phone call you can be: Accepting all major credit cards! Accepting checks over the net or by Fax! Accepting real time processing for member sites! Gaining customer loyalty and trust! Close the sale now. No more wondering if \"The check is in the mail\" We specialize in helping businesses who are just starting out with no credit poor credit or even if you have great credit. Almost everyone is approved! (All information is kept securely and will never be shared with a third party) If you wish to be removed from our mailing list please reply to this email with the subject \"Remove\" and you will not receive future emails from our company. Thank You for your Time. HOW TO SUBSTANTIALLY INCREASE SALES: Easily accept major credit cards right away! If you would like to speak to someone right now we would be more then happy to answer any questions you might have please provide: Name: Your Phone Number: Best time to call: Merchant Status will help you increase sales by an incredible 50% to 100%. Stop losing valuable sales! With one phone call you can be: Accepting all major credit cards! Accepting checks over the net or by Fax! Accepting real time processing for member sites! Gaining customer loyalty and trust! Close the sale now. No more wondering if \"The check is in the mail\" We specialize in helping businesses who are just starting out with no credit poor credit or even if you have great credit. Almost everyone is approved! (All information is kept securely and will never be shared with a third party) If you wish to be removed from our mailing list please reply to this email with the subject \"Remove\" and you will not receive future emails from our company. Thank You for your Time. HOW TO SUBSTANTIALLY INCREASE SALES: Easily accept major credit cards right away! If you would like to speak to someone right now we would be more then happy to answer any questions you might have please provide: Name: Your Phone Number: Best time to call: Merchant Status will help you increase sales by an incredible 50% to 100%. Stop losing valuable sales! With one phone call you can be: Accepting all major credit cards! Accepting checks over the net or by Fax! Accepting real time processing for member sites! Gaining customer loyalty and trust! Close the sale now. No more wondering if \"The check is in the mail\" We specialize in helping businesses who are just starting out with no credit poor credit or even if you have great credit. Almost everyone is approved! (All information is kept securely and will never be shared with a third party) If you wish to be removed from our mailing list please reply to this email with the subject \"Remove\" and you will not receive future emails from our company. Thank You for your Time. HOW TO SUBSTANTIALLY INCREASE SALES: Easily accept major credit cards right away! If you would like to speak to someone right now we would be more then happy to answer any questions you might have please provide: Name: Your Phone Number: Best time to call: Merchant Status will help you increase sales by an incredible 50% to 100%. Stop losing valuable sales! With one phone call you can be: Accepting all major credit cards! Accepting checks over the net or by Fax! Accepting real time processing for member sites! Gaining customer loyalty and trust! Close the sale now. No more wondering if \"The check is in the mail\" We specialize in helping businesses who are just starting out with no credit poor credit or even if you have great credit. Almost everyone is approved! (All information is kept securely and will never be shared with a third party) If you wish to be removed from our mailing list please reply to this email with the subject \"Remove\" and you will not receive future emails from our company. Thank You for your Time. qgll t everyone is'"
      ]
     },
     "execution_count": 21,
     "metadata": {},
     "output_type": "execute_result"
    }
   ],
   "source": [
    "#Examples of a full email. \n",
    "masked_df['Body'].iloc[ranked_sentences[0][1]]"
   ]
  },
  {
   "cell_type": "code",
   "execution_count": 22,
   "metadata": {},
   "outputs": [
    {
     "name": "stdout",
     "output_type": "stream",
     "text": [
      "Total number of emails to summarize: 121\n",
      "\u001b[1mDate: 2001-10-03 20:00:52 Subject: RE: From: matthew.lenhart@enron.com\u001b[0m\n",
      "Summary: i think i might need to pay up to get a house\n",
      "\u001b[1mDate: 2001-10-05 14:51:13 Subject: RE: From: matthew.lenhart@enron.com\u001b[0m\n",
      "Summary: i can think of a few things\n",
      "\u001b[1mDate: 2001-10-05 15:30:00 Subject: RE: From: matthew.lenhart@enron.com\u001b[0m\n",
      "Summary: i will let you know later.\n",
      "\u001b[1mDate: 2001-10-09 19:26:43 Subject: RE: From: matthew.lenhart@enron.com\u001b[0m\n",
      "Summary: this is a photo of the girl i think you look like but it isn't really a good pic.\n",
      "\u001b[1mDate: 2001-10-04 16:24:25 Subject: RE: From: matthew.lenhart@enron.com\u001b[0m\n",
      "Summary: i think i need to pay more than i want to.\n",
      "\u001b[1mDate: 2001-10-10 17:10:04 Subject: RE: From: matthew.lenhart@enron.com\u001b[0m\n",
      "Summary: i dont think you look like her anymore.\n",
      "\u001b[1mDate: 2001-10-10 17:01:34 Subject: RE: From: matthew.lenhart@enron.com\u001b[0m\n",
      "Summary: let me know what she says.\n",
      "\u001b[1mDate: 2001-10-09 20:32:30 Subject: RE: From: matthew.lenhart@enron.com\u001b[0m\n",
      "Summary: i think you are messing around and you probably love the comparisson.\n",
      "\u001b[1mDate: 2001-10-01 20:38:02 Subject: RE: I'm at Enron now - so I can take your money at lunch time From: matthew.lenhart@enron.com\u001b[0m\n",
      "Summary: way to go.\n",
      "\u001b[1mDate: 2001-10-08 19:36:31 Subject: RE: From: matthew.lenhart@enron.com\u001b[0m\n",
      "Summary: i have been going out a little, but not like we did in the beginning of the year.\n",
      "\u001b[1mDate: 2001-10-11 20:07:04 Subject: RE: From: matthew.lenhart@enron.com\u001b[0m\n",
      "Summary: it is so easy b/c you get all worked up and you are not sure whether to believe me or not.\n",
      "\u001b[1mDate: 2001-10-11 17:25:16 Subject: RE: From: matthew.lenhart@enron.com\u001b[0m\n",
      "Summary: no really.\n"
     ]
    }
   ],
   "source": [
    "#One more example\n",
    "start_date = '2001-10-01 00:00:00'\n",
    "end_date = '2001-10-14 23:59:59'\n",
    "person = 'lenhart-m'\n",
    "masked_df = subset_emails(enron_df, start_date, end_date, person)\n",
    "ranked_sentences = summarize_emails(word_embeddings, masked_df)"
   ]
  },
  {
   "cell_type": "code",
   "execution_count": 23,
   "metadata": {},
   "outputs": [
    {
     "data": {
      "text/plain": [
       "'lets bet your dinner on it right now. i think i might need to pay up to get a house'"
      ]
     },
     "execution_count": 23,
     "metadata": {},
     "output_type": "execute_result"
    }
   ],
   "source": [
    "#Examples of a full email. \n",
    "masked_df['Body'].iloc[ranked_sentences[0][1]]"
   ]
  }
 ],
 "metadata": {
  "kernelspec": {
   "display_name": "Python 3",
   "language": "python",
   "name": "python3"
  },
  "language_info": {
   "codemirror_mode": {
    "name": "ipython",
    "version": 3
   },
   "file_extension": ".py",
   "mimetype": "text/x-python",
   "name": "python",
   "nbconvert_exporter": "python",
   "pygments_lexer": "ipython3",
   "version": "3.7.3"
  }
 },
 "nbformat": 4,
 "nbformat_minor": 2
}
