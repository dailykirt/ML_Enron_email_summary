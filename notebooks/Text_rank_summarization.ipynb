{
 "cells": [
  {
   "cell_type": "markdown",
   "metadata": {},
   "source": [
    "This notebook follows the tutorial found at:\n",
    "https://www.analyticsvidhya.com/blog/2018/11/introduction-text-summarization-textrank-python/\n"
   ]
  },
  {
   "cell_type": "code",
   "execution_count": 2,
   "metadata": {},
   "outputs": [],
   "source": [
    "import mailparser\n",
    "import sys\n",
    "from os import listdir\n",
    "from os.path import isfile, join\n",
    "import pandas as pd\n",
    "import email\n",
    "import numpy as np\n",
    "from talon.signature.bruteforce import extract_signature\n",
    "import nltk\n",
    "from nltk.tokenize import sent_tokenize\n",
    "import re\n",
    "from nltk.corpus import stopwords\n",
    "from sklearn.metrics.pairwise import cosine_similarity\n",
    "import networkx as nx\n",
    "\n",
    "#one time executions\n",
    "#nltk.download('punkt')\n",
    "#nltk.download('stopwords')\n",
    "#! wget http://nlp.stanford.edu/data/glove.6B.zip\n",
    "#! unzip glove*.zip\n"
   ]
  },
  {
   "cell_type": "markdown",
   "metadata": {},
   "source": [
    "Load dataframe produced by the Data_Wranlging notebook. "
   ]
  },
  {
   "cell_type": "code",
   "execution_count": 3,
   "metadata": {},
   "outputs": [],
   "source": [
    "#Load Data\n",
    "PICKLE_LOC = \"../data/dataframes/wrangled_enron_df.pkl\"\n",
    "enron_df = pd.read_pickle(PICKLE_LOC)"
   ]
  },
  {
   "cell_type": "markdown",
   "metadata": {},
   "source": [
    "Checking earliest and latest date. "
   ]
  },
  {
   "cell_type": "code",
   "execution_count": 4,
   "metadata": {},
   "outputs": [],
   "source": [
    "start_date = '2001-10-01 00:00:00'\n",
    "end_date = '2001-10-14 23:59:59'\n",
    "summarization_mask = (enron_df['Date'] >= start_date) & (enron_df['Date'] <= end_date)\n",
    "enron_masked_df = enron_df.loc[summarization_mask]"
   ]
  },
  {
   "cell_type": "code",
   "execution_count": 5,
   "metadata": {},
   "outputs": [],
   "source": [
    "#This function removes stopwords\n",
    "#def remove_stopwords(sen):\n",
    "#    sen_new = \" \".join([i for i in sen if i not in stop_words])\n",
    "#    return sen_new"
   ]
  },
  {
   "cell_type": "code",
   "execution_count": 6,
   "metadata": {},
   "outputs": [],
   "source": [
    "#Splitting the text in emails into sentences\n",
    "sentences = enron_masked_df.Extractive_Sentences.tolist()\n",
    "#flatten list\n",
    "sentences = [y for x in sentences for y in x]\n",
    "\n",
    "\n",
    "\n",
    "\n",
    "\n",
    "#Finding length\n",
    "#sent_len = []\n",
    "#for s in enron_summary_test['Body']:\n",
    "#    sentence_token = sent_tokenize(s, language='english')\n",
    "    #sentences.append(sentence_token)\n",
    "    #Treat \\n tokens as new sentences. \n",
    "#    for t in sentence_token:\n",
    "#        sent_len.append(len(t))\n",
    "#sentences = [y for x in sentences for y in x]\n",
    "#Remove duplicate sentences\n",
    "#sentences = list(set(sentences))"
   ]
  },
  {
   "cell_type": "code",
   "execution_count": 7,
   "metadata": {},
   "outputs": [],
   "source": [
    "#print(len(sentences))\n",
    "#print(len(sent_len))\n",
    "#sentences.sort(key=len, reverse=True)\n",
    "#print(sentences)\n",
    "#sent_len.sort(reverse = True)\n",
    "#print(sent_len)"
   ]
  },
  {
   "cell_type": "code",
   "execution_count": 8,
   "metadata": {},
   "outputs": [],
   "source": [
    "#Pull out clean tokenized sentences. \n",
    "clean_sentences = enron_masked_df.Tokenized_Body.tolist()\n",
    "#flatten list\n",
    "clean_sentences = [y for x in clean_sentences for y in x]\n"
   ]
  },
  {
   "cell_type": "code",
   "execution_count": 9,
   "metadata": {},
   "outputs": [],
   "source": [
    "#Extract word vectors\n",
    "word_embeddings = {}\n",
    "f = open('glove.6B.100d.txt', encoding='utf-8')\n",
    "for line in f:\n",
    "    values = line.split()\n",
    "    word = values[0]\n",
    "    coefs = np.asarray(values[1:], dtype='float32')\n",
    "    word_embeddings[word] = coefs\n",
    "f.close()"
   ]
  },
  {
   "cell_type": "code",
   "execution_count": 10,
   "metadata": {},
   "outputs": [],
   "source": [
    "#Creating vectors for the sentences. \n",
    "sentence_vectors = []\n",
    "for i in clean_sentences:\n",
    "  if len(i) != 0:\n",
    "    v = sum([word_embeddings.get(w, np.zeros((100,))) for w in i.split()])/(len(i.split())+0.001)\n",
    "  else:\n",
    "    v = np.zeros((100,))\n",
    "  sentence_vectors.append(v)"
   ]
  },
  {
   "cell_type": "code",
   "execution_count": 11,
   "metadata": {},
   "outputs": [
    {
     "data": {
      "text/plain": [
       "1163"
      ]
     },
     "execution_count": 11,
     "metadata": {},
     "output_type": "execute_result"
    }
   ],
   "source": [
    "len(sentence_vectors)"
   ]
  },
  {
   "cell_type": "code",
   "execution_count": 12,
   "metadata": {},
   "outputs": [],
   "source": [
    "# similarity matrix\n",
    "sim_mat = np.zeros([len(sentences), len(sentences)])\n",
    "\n",
    "for i in range(len(sentences)):\n",
    "  for j in range(len(sentences)):\n",
    "    if i != j:\n",
    "      sim_mat[i][j] = cosine_similarity(sentence_vectors[i].reshape(1,100), sentence_vectors[j].reshape(1,100))[0,0]\n",
    "nx_graph = nx.from_numpy_array(sim_mat)\n",
    "scores = nx.pagerank(nx_graph)\n",
    "ranked_sentences = sorted(((scores[i],s) for i,s in enumerate(sentences)), reverse=True)\n"
   ]
  },
  {
   "cell_type": "code",
   "execution_count": 13,
   "metadata": {
    "scrolled": true
   },
   "outputs": [
    {
     "name": "stdout",
     "output_type": "stream",
     "text": [
      "Sentence 0: Work environment: pay and benefits true meritocracy unlimited opportunities The results of our survey confirmed for the Management Committee and me the great things you feel about Enron and also what you see as the issues we must address to move Enron forward.\n",
      "Sentence 1: A complete story on the origin of Halloween will be on the Business Cafe Web site October 2531 at http://www.BusinessCafeOnline.com Your October 2001 issue of Elert for personal development in business is now available on http://www.BusinessCafeOnline.com Included in the October 2001 issue are these three articles: Flying Off Over Office Politics What Men Can Learn\n",
      "Sentence 2: full story Previous Saturday's interviews THEMES PDVSA's Petroleum Education program Story Previous Themes SOCIAL ROLE OF BUSINESS CITGO: Donate $1 million worth of fuel for disaster relief Sept 21 Full story Previous stories ENVIROMENT Petrozuata preseted results on clean air in its operational areas Julio Rodr?guez, gerente de (ASHI) de Petrozuata PETROLEUMWORLD Caracas, Sep 21 Story To received PetroleumworldWeekly Review click to suscribe For daily Energy, Oil & Gas information www.petroleumworld.com If you do not want to received this newsletter, or if you want to make some comments or suggestions, please send us a reply message\n",
      "Sentence 3: Round table discussion: examining the key elements of operational risk management and control Outstanding networking opportunity over 100 delegates attended our European Capital Adequacy event earlier this year To reserve your place call +44 (0)1932 853 857, visit http://www.ibcfinancial.com/bm1272/?source=bm1272em2, or email cust.serv@informa.com.\n",
      "Sentence 4: EDITORIAL A Focus on the latest developments in Europe ARTICLES European Utility Sector: Survival of the Fittest Through Mergers & Acquisition EU Deregulation: Out of Chaos Comes Order NEWS ROUND UP Commodities Now honours Women in the Energy Industry SPL WorldGroup Supports Siebel 7 for Competitive Energy Markets Worldwide > BG Enters, Enron Leaves Indian Upstream Market in $388 Million Deal Congress Puts Wind Energy Tax Credit Back on the Table eAcumen launches WeatherBook, a breakthrough weather risk management platform with industryleading analytics Two New WindPower Projects Deliver Renewable Energy to California; Expected to Produce Enough Energy to Power More Than 40,000 Homes The Structure Group named Houston's sixth fastestgrowing private company at annual Houston 100 awards luncheon EVENTS Eyeforenergy Asia 2001 Green Convention 2001 EEO Europe Energy Trading in the New Economy Emissions Trading 2002 Weather Trading 2002 SUBSCRIBE Please enter your email address below to subscribe to the EyeForEnergy newsletter.\n",
      "Sentence 5: This new product finally allows a company to deliver training across the entire organization in a costeffective and timely manner\", said PGS Energy Training CEO John Adamiak.\n",
      "Sentence 6: October 1819; November 12 in EB 560 Cost: $740.00 8:00 a.m.5:00 p.m. (1st day) 8:00 am 12 noon (2nd day) Topics Covered Include: Discovering the Opportunities in Customer Satisfaction Managing Myself Opening the Interaction Determining Needs and Expectations Managing the Interaction Satisfying Customers in Comfortable & Indecisive Conditions Satisfying Customers in the Insistent & Irate Conditions Please log onto http://elm.enron.com to sign up for the class of your choice.\n",
      "Sentence 7: October 1819; November 12 in EB 560 Cost: $740.00 8:00 a.m.5:00 p.m. (1st day) 8:00 am 12 noon (2nd day) Topics Covered Include: Discovering the Opportunities in Customer Satisfaction Managing Myself Opening the Interaction Determining Needs and Expectations Managing the Interaction Satisfying Customers in Comfortable & Indecisive Conditions Satisfying Customers in the Insistent & Irate Conditions Please log onto http://elm.enron.com to sign up for the class of your choice.\n",
      "Sentence 8: Effective immediately, we will provide an additional resource for employees who do not currently feel comfortable going to either their supervisor or their Human Resources (HR) rep. We are establishing a new business function we are calling Employee Relations (ER) that will report directly to the Office of the Chairman.\n",
      "Sentence 9: However, as the business community appears to be trying to get back to normal as far as possible, we have decided that the conference should proceed as planned.\n",
      "Sentence 10: While analysts continue to be optimistic about B2B adoption, despite toning down their projections during the last two quarters, actual adoption and utilization rates have disappointed the investment community... Read more here: http://www.eyeforenergy.com/content.asp?news=21560 EVENTS UPDATE Eyeforenergy Asia 2001 Shangri La Hotel, Singapore 1517 October Eyeforenergy returns to Singapore, 1517 October 2001, for its 3rd Asian conference with a packed program featuring presentations on eprocurement and online trading, as well as eretail and everything you need to know about all the latest ebusiness developments in Asia.\n",
      "Sentence 11: Click here for further information: http://www.eyeforenergy.com/weather/ LATEST HEADLINES Study Points to Growing Market for Distributed Generation http://www.eyeforenergy.com/content.asp?news=21592 Aquila Stock Loses Luster, Falls Sharply http://www.eyeforenergy.com/content.asp?news=21590 Arkansas Utility Wants to Delay Deregulation http://www.eyeforenergy.com/content.asp?news=21589 Vectren to Implement Excelergy's Customer Management Solutions http://www.eyeforenergy.com/content.asp?news=21588 Puget Energy's Stock Dips as Regulators Reject Rate Increase http://www.eyeforenergy.com/content.asp?news=21586 Two Wind Power Projects Begin Operations in California http://www.eyeforenergy.com/content.asp?news=21555 This update is provided as part of the Eyeforenergy Briefing service.\n",
      "Sentence 12: In order to continue to receive the StreetSmart Pro product for free, clients must maintain their Signature Services Platinum status, trade 120 times a year and have at least $50,000 in net household equity with Schwab.\n",
      "Sentence 13: Signature Service: The Key To Customer Satisfaction ( Wilson Learning) Come join us and learn more about what it means to provide Excellent Service!\n",
      "Sentence 14: Good morning, ENW Global Messaging would like to apologize for the previous version of the mailing.\n",
      "Sentence 15: \"Up Front\" will feature open, honest and timely video messages from the Office of the Chairman and Enron management about what's going on around the company.\n",
      "Sentence 16: As I am sure some of you were part of the list of people I called last month to inform you that the event had been postponed until this upcoming spring, which has proved to be a blessing in light of the tragic events that occurred Sept. 11, I would hope that this website may become a forum to both share ideas on the future of the event and information in regards to the event.\n",
      "Sentence 17: Kase and Company, Inc. currently has two upcoming classes: Sign Up Before the Deadline and Receive the Early Bird Discount!Register for both classes and get the \"Two or More Price\" Kase and Company also offers In House Training Classes.\n",
      "Sentence 18: Kind regards Allison Lindsay Deputy Conference Director This email is sponsored by Back Office Focus a specialist monthly magazine that answers your critical needs for understanding technology in and out of the office environment, and how to apply these developments to your benefit and company profitability.\n",
      "Sentence 19: We also want to make sure that employees know what we are doing going forward: Mark Koenig, executive vice president of Investor Relations, will host Brown Bag sessions with groups of employees to discuss stock price issues and answer questions.\n",
      "Sentence 20: thanks, Gracie Signature Service: The Key To Customer Satisfaction ( Wilson Learning) Come join us and learn more about what it means to provide Excellent Service!\n",
      "Sentence 21: annual meeting Full story Previous Events To received the newsletter click to suscribe For daily Energy, Oil & Gas information www.petroleumworld.com If you do not want to received this newsletter, or if you want to make some comments or suggestions, please send us a reply message\n",
      "Sentence 22:  HOME EVENTS ADVERTISE INDUSTRY DIRECTORY Thursday, October 04, 2001 Issue 38 EDITORIAL A Focus on the latest developments in Europe Today's briefing takes a look at what's going on in the European energy marketplace.\n",
      "Sentence 23: Restructuring, privatization... Click here for Full Story ADVERTISEMENT Eyeforenergy Green Convention 2001 Hotel Le Plaza, Brussels 56 November 2001In light of new EU Directives which aim to double green power's share of the electricity requirement in Europe to 22.1% by 2010, we are very pleased that Johannes Maters of the Commission will deliver this event's opening address, discussing the Commission's role in promoting the use of renewable energy.\n",
      "Sentence 24: As we said before, Greg, Mark and I, as well as members of our Management Committee, will meet with groups of employees across Enron to hear your thoughts and share with you our business direction and challenges.\n",
      "Sentence 25: Having had a presence in India for 10 years, BG has concentrated its activities on gas distribution... Click here for Full Story Congress Puts Wind Energy Tax Credit Back on the Table In the wake of the September 11 terrorists attacks the U.S. Congress is considering an economic stimulus package that will likely include an extension of the wind energy Production Tax Credit (PTC).\n",
      "Sentence 26: He will present his CYCLEFIT training program specifically designed to get you ready for the MS150 in April 2002 Please RSVP to me or Stephanie Strong at 31653 A box lunch will be served Here is the information on Dr. Rampacek's program so you can contact him directly if you are unable to attend the meeting.\n",
      "Sentence 27: In this Update, we'd like to announce the launch of our new Reports Marketplace through which we will be offering a selection of reports from leading research and analysis companies.\n",
      "Sentence 28: In order to validate the migration, production users need to test access to their home directories and applications on Saturday, October 7 and Sunday, October 8, 2001.\n",
      "Sentence 29: If you are planning on participating in the Alamo Challenge on October 1314, please get your registration form and pledges to me TODAY.\n"
     ]
    }
   ],
   "source": [
    "# Specify number of sentences to form the summary\n",
    "sn = 30\n",
    "# Generate summary\n",
    "for i in range(sn):\n",
    "  print(\"Sentence \"+ str(i) + \": \" + ranked_sentences[i][1])"
   ]
  },
  {
   "cell_type": "code",
   "execution_count": 15,
   "metadata": {},
   "outputs": [],
   "source": [
    "#ranked_sentences\n",
    "#enron_summary_test['Body']"
   ]
  },
  {
   "cell_type": "code",
   "execution_count": null,
   "metadata": {},
   "outputs": [],
   "source": []
  },
  {
   "cell_type": "code",
   "execution_count": null,
   "metadata": {},
   "outputs": [],
   "source": []
  }
 ],
 "metadata": {
  "kernelspec": {
   "display_name": "Python 3",
   "language": "python",
   "name": "python3"
  },
  "language_info": {
   "codemirror_mode": {
    "name": "ipython",
    "version": 3
   },
   "file_extension": ".py",
   "mimetype": "text/x-python",
   "name": "python",
   "nbconvert_exporter": "python",
   "pygments_lexer": "ipython3",
   "version": "3.7.1"
  }
 },
 "nbformat": 4,
 "nbformat_minor": 2
}
